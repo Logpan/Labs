{
 "cells": [
  {
   "cell_type": "code",
   "execution_count": null,
   "metadata": {},
   "outputs": [],
   "source": [
    "%pip install flask"
   ]
  },
  {
   "cell_type": "code",
   "execution_count": null,
   "metadata": {},
   "outputs": [],
   "source": [
    "import app"
   ]
  },
  {
   "cell_type": "code",
   "execution_count": null,
   "metadata": {},
   "outputs": [],
   "source": [
    "app.index()"
   ]
  },
  {
   "cell_type": "markdown",
   "metadata": {},
   "source": [
    "## HTTP status codes - sent from the web server to the web browser with every response.\n",
    "\n",
    "* 100-199 - infromationnal message\n",
    "* 200-299 - success messages - all is OK, the request generated a valid response.\n",
    "* 300-399 - redirect messages (302).\n",
    "* 400-499 - client errors - YOU did something wrong.\n",
    "* 500-599 - server errors - something went wrong on the server - typically, something crashed"
   ]
  },
  {
   "cell_type": "code",
   "execution_count": null,
   "metadata": {},
   "outputs": [],
   "source": []
  }
 ],
 "metadata": {
  "kernelspec": {
   "display_name": "Python 3.10.7 64-bit",
   "language": "python",
   "name": "python3"
  },
  "language_info": {
   "codemirror_mode": {
    "name": "ipython",
    "version": 3
   },
   "file_extension": ".py",
   "mimetype": "text/x-python",
   "name": "python",
   "nbconvert_exporter": "python",
   "pygments_lexer": "ipython3",
   "version": "3.10.7"
  },
  "orig_nbformat": 4,
  "vscode": {
   "interpreter": {
    "hash": "fece7610c970557481ebf6c4310b97a77c4aa1d9365e439f8e94b17c8f57b0ed"
   }
  }
 },
 "nbformat": 4,
 "nbformat_minor": 2
}
