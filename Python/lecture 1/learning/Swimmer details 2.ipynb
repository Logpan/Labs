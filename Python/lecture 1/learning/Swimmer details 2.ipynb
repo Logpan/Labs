{
 "cells": [
  {
   "cell_type": "code",
   "execution_count": 44,
   "metadata": {},
   "outputs": [],
   "source": [
    "fn = \"Darius-13-100m-fly.txt\""
   ]
  },
  {
   "cell_type": "code",
   "execution_count": 45,
   "metadata": {},
   "outputs": [
    {
     "name": "stdout",
     "output_type": "stream",
     "text": [
      "1:27.95,1:21.07,1:30.96,1:23.22,1:27.95,1:28.30\n"
     ]
    }
   ],
   "source": [
    "FOLDER = \"../\"\n",
    "f = open(FOLDER + fn).read().strip()\n",
    "print(f)"
   ]
  },
  {
   "cell_type": "code",
   "execution_count": 46,
   "metadata": {},
   "outputs": [
    {
     "name": "stdout",
     "output_type": "stream",
     "text": [
      "['1:27.95,1:21.07,1:30.96,1:23.22,1:27.95,1:28.30\\n']\n"
     ]
    }
   ],
   "source": [
    "with open(FOLDER + fn) as df:\n",
    "    data = df.readlines()\n",
    "    print(data)\n",
    "    type(data)"
   ]
  },
  {
   "cell_type": "code",
   "execution_count": 47,
   "metadata": {},
   "outputs": [
    {
     "data": {
      "text/plain": [
       "1"
      ]
     },
     "execution_count": 47,
     "metadata": {},
     "output_type": "execute_result"
    }
   ],
   "source": [
    "   len(data)"
   ]
  },
  {
   "cell_type": "code",
   "execution_count": 48,
   "metadata": {},
   "outputs": [
    {
     "data": {
      "text/plain": [
       "'1:27.95,1:21.07,1:30.96,1:23.22,1:27.95,1:28.30'"
      ]
     },
     "execution_count": 48,
     "metadata": {},
     "output_type": "execute_result"
    }
   ],
   "source": [
    "data[0].strip()"
   ]
  },
  {
   "cell_type": "code",
   "execution_count": 49,
   "metadata": {},
   "outputs": [
    {
     "data": {
      "text/plain": [
       "['1:27.95', '1:21.07', '1:30.96', '1:23.22', '1:27.95', '1:28.30']"
      ]
     },
     "execution_count": 49,
     "metadata": {},
     "output_type": "execute_result"
    }
   ],
   "source": [
    "times = data[0].strip().split(\",\")\n",
    "times"
   ]
  },
  {
   "cell_type": "code",
   "execution_count": 50,
   "metadata": {},
   "outputs": [],
   "source": [
    "first = times[0]"
   ]
  },
  {
   "cell_type": "code",
   "execution_count": 51,
   "metadata": {},
   "outputs": [],
   "source": [
    "mins, the_rest = first.split(\":\")"
   ]
  },
  {
   "cell_type": "code",
   "execution_count": 52,
   "metadata": {},
   "outputs": [
    {
     "data": {
      "text/plain": [
       "'1'"
      ]
     },
     "execution_count": 52,
     "metadata": {},
     "output_type": "execute_result"
    }
   ],
   "source": [
    "mins"
   ]
  },
  {
   "cell_type": "code",
   "execution_count": 53,
   "metadata": {},
   "outputs": [],
   "source": [
    "sec, hundredths = the_rest.split(\".\")"
   ]
  },
  {
   "cell_type": "code",
   "execution_count": 54,
   "metadata": {},
   "outputs": [
    {
     "data": {
      "text/plain": [
       "8795"
      ]
     },
     "execution_count": 54,
     "metadata": {},
     "output_type": "execute_result"
    }
   ],
   "source": [
    "(int(mins) *60 *100) + (100 * int(sec)) + int(hundredths)"
   ]
  },
  {
   "cell_type": "code",
   "execution_count": 55,
   "metadata": {},
   "outputs": [
    {
     "ename": "SyntaxError",
     "evalue": "invalid syntax. Perhaps you forgot a comma? (352228172.py, line 1)",
     "output_type": "error",
     "traceback": [
      "\u001b[1;36m  Cell \u001b[1;32mIn [55], line 1\u001b[1;36m\u001b[0m\n\u001b[1;33m    for(int i = 0; i < len(times); i++){\u001b[0m\n\u001b[1;37m        ^\u001b[0m\n\u001b[1;31mSyntaxError\u001b[0m\u001b[1;31m:\u001b[0m invalid syntax. Perhaps you forgot a comma?\n"
     ]
    }
   ],
   "source": [
    "for(int i = 0; i < len(times); i++){\n",
    "    first = times[i]\n",
    "    mins, the_rest = first.split(\":\")\n",
    "    sec, hundredths = the_rest.split(\".\")\n",
    "    times_changed [i] =  (int(mins) *60 *100) + (100 * int(sec)) + int(hundredths)\n",
    "}"
   ]
  },
  {
   "cell_type": "code",
   "execution_count": 56,
   "metadata": {},
   "outputs": [
    {
     "name": "stdout",
     "output_type": "stream",
     "text": [
      "1:27.95 -> 8795   8795\n",
      "1:21.07 -> 8107   16902\n",
      "1:30.96 -> 9096   25998\n",
      "1:23.22 -> 8322   34320\n",
      "1:27.95 -> 8795   43115\n",
      "1:28.30 -> 8830   51945\n",
      "average =  8657.5\n"
     ]
    }
   ],
   "source": [
    "total = 0\n",
    "for t in times :\n",
    "    mins, the_rest = t.split(\":\")\n",
    "    sec, hundredths = the_rest.split(\".\")\n",
    "    total += (int(mins) *60 *100) + (100 * int(sec)) + int(hundredths)\n",
    "    print(t, \"->\", (int(mins) *60 *100) + (100 * int(sec)) + int(hundredths), \" \", total )\n",
    "average = total / len(times)\n",
    "print(\"average = \", average)"
   ]
  },
  {
   "cell_type": "code",
   "execution_count": 57,
   "metadata": {},
   "outputs": [],
   "source": [
    "l = []"
   ]
  },
  {
   "cell_type": "code",
   "execution_count": 58,
   "metadata": {},
   "outputs": [],
   "source": [
    "l.append(42)"
   ]
  },
  {
   "cell_type": "code",
   "execution_count": 59,
   "metadata": {},
   "outputs": [],
   "source": [
    "l.append(\"Hello\")"
   ]
  },
  {
   "cell_type": "code",
   "execution_count": 60,
   "metadata": {},
   "outputs": [],
   "source": [
    "l2 = [1,2,3]\n",
    "l.append(l2)"
   ]
  },
  {
   "cell_type": "code",
   "execution_count": 61,
   "metadata": {},
   "outputs": [
    {
     "data": {
      "text/plain": [
       "[42, 'Hello', [1, 2, 3]]"
      ]
     },
     "execution_count": 61,
     "metadata": {},
     "output_type": "execute_result"
    }
   ],
   "source": [
    "l"
   ]
  },
  {
   "cell_type": "code",
   "execution_count": 62,
   "metadata": {},
   "outputs": [
    {
     "data": {
      "text/plain": [
       "[1, 2, 3]"
      ]
     },
     "execution_count": 62,
     "metadata": {},
     "output_type": "execute_result"
    }
   ],
   "source": [
    "l[-1]"
   ]
  },
  {
   "cell_type": "code",
   "execution_count": 63,
   "metadata": {},
   "outputs": [
    {
     "data": {
      "text/plain": [
       "3"
      ]
     },
     "execution_count": 63,
     "metadata": {},
     "output_type": "execute_result"
    }
   ],
   "source": [
    "l[-1][-1]"
   ]
  },
  {
   "cell_type": "code",
   "execution_count": 65,
   "metadata": {},
   "outputs": [
    {
     "data": {
      "text/plain": [
       "[42, 'Hello', [1, 2, 3], <function print>, <function print>]"
      ]
     },
     "execution_count": 65,
     "metadata": {},
     "output_type": "execute_result"
    }
   ],
   "source": [
    "l.append(print)\n",
    "l"
   ]
  },
  {
   "cell_type": "code",
   "execution_count": 66,
   "metadata": {},
   "outputs": [
    {
     "name": "stdout",
     "output_type": "stream",
     "text": [
      "Bomsoir !\n"
     ]
    }
   ],
   "source": [
    "l[-1](\"Bonsoir !\")"
   ]
  },
  {
   "cell_type": "code",
   "execution_count": 70,
   "metadata": {},
   "outputs": [
    {
     "name": "stdout",
     "output_type": "stream",
     "text": [
      "1:27.95 -> 8795   [8795]\n",
      "1:21.07 -> 8107   [8795, 8107]\n",
      "1:30.96 -> 9096   [8795, 8107, 9096]\n",
      "1:23.22 -> 8322   [8795, 8107, 9096, 8322]\n",
      "1:27.95 -> 8795   [8795, 8107, 9096, 8322, 8795]\n",
      "1:28.30 -> 8830   [8795, 8107, 9096, 8322, 8795, 8830]\n"
     ]
    },
    {
     "data": {
      "text/plain": [
       "8657.5"
      ]
     },
     "execution_count": 70,
     "metadata": {},
     "output_type": "execute_result"
    }
   ],
   "source": [
    "import statistics\n",
    "\n",
    "converts = []\n",
    "for t in times :\n",
    "    mins, the_rest = t.split(\":\")\n",
    "    sec, hundredths = the_rest.split(\".\")\n",
    "    converts.append((int(mins) *60 *100) + (100 * int(sec)) + int(hundredths))\n",
    "    print(t, \"->\", (int(mins) *60 *100) + (100 * int(sec)) + int(hundredths), \" \", converts )\n",
    "\n",
    "average = statistics.mean(converts)\n",
    "average"
   ]
  },
  {
   "cell_type": "code",
   "execution_count": 71,
   "metadata": {},
   "outputs": [
    {
     "data": {
      "text/plain": [
       "1.0"
      ]
     },
     "execution_count": 71,
     "metadata": {},
     "output_type": "execute_result"
    }
   ],
   "source": [
    "round((average / 100) / 60 , 0)"
   ]
  },
  {
   "cell_type": "code",
   "execution_count": 72,
   "metadata": {},
   "outputs": [],
   "source": [
    "mins = int((average //100) // 60)"
   ]
  },
  {
   "cell_type": "code",
   "execution_count": 81,
   "metadata": {},
   "outputs": [
    {
     "data": {
      "text/plain": [
       "2657.5"
      ]
     },
     "execution_count": 81,
     "metadata": {},
     "output_type": "execute_result"
    }
   ],
   "source": [
    "average = average - mins * 60 * 100\n",
    "average"
   ]
  },
  {
   "cell_type": "code",
   "execution_count": 82,
   "metadata": {},
   "outputs": [],
   "source": [
    "secs = int(average // 100)"
   ]
  },
  {
   "cell_type": "code",
   "execution_count": 83,
   "metadata": {},
   "outputs": [
    {
     "data": {
      "text/plain": [
       "26"
      ]
     },
     "execution_count": 83,
     "metadata": {},
     "output_type": "execute_result"
    }
   ],
   "source": [
    "secs"
   ]
  },
  {
   "cell_type": "code",
   "execution_count": 88,
   "metadata": {},
   "outputs": [],
   "source": [
    "hundredths = average - secs * 100\n",
    "hundredths = round(hundredths)"
   ]
  },
  {
   "cell_type": "code",
   "execution_count": 89,
   "metadata": {},
   "outputs": [
    {
     "data": {
      "text/plain": [
       "(1, 26, 58)"
      ]
     },
     "execution_count": 89,
     "metadata": {},
     "output_type": "execute_result"
    }
   ],
   "source": [
    "mins, secs, hundredths"
   ]
  },
  {
   "cell_type": "code",
   "execution_count": 90,
   "metadata": {},
   "outputs": [
    {
     "data": {
      "text/plain": [
       "'1:26.58'"
      ]
     },
     "execution_count": 90,
     "metadata": {},
     "output_type": "execute_result"
    }
   ],
   "source": [
    "str(mins) + \":\" + str(secs) + \".\" + str(hundredths)"
   ]
  },
  {
   "cell_type": "code",
   "execution_count": 92,
   "metadata": {},
   "outputs": [
    {
     "data": {
      "text/plain": [
       "'1:26.58'"
      ]
     },
     "execution_count": 92,
     "metadata": {},
     "output_type": "execute_result"
    }
   ],
   "source": [
    "f\"{mins}:{secs}.{hundredths}\" #f-string for the victory"
   ]
  },
  {
   "cell_type": "markdown",
   "metadata": {},
   "source": [
    "                                                                    Create reusable function"
   ]
  },
  {
   "cell_type": "code",
   "execution_count": 1,
   "metadata": {},
   "outputs": [],
   "source": [
    "fn = \"Darius-13-100m-Fly.txt\"\n",
    "FOLDER = \"../swimdata/\""
   ]
  },
  {
   "cell_type": "code",
   "execution_count": 8,
   "metadata": {},
   "outputs": [],
   "source": [
    "import statistics\n",
    "\n",
    "FOLDER = \"../swimdata/\"\n",
    "\n",
    "def get_swim_data(fn):\n",
    "    name, age, distance, stroke = fn.removesuffix(\".txt\").split(\"-\")\n",
    "    with open(FOLDER + fn) as df:\n",
    "        data = df.readlines()\n",
    "    times = data[0].strip().split(\",\")\n",
    "    converts = []\n",
    "    for t in times :\n",
    "        if \":\" in t :\n",
    "            mins, the_rest = t.split(\":\")\n",
    "        else :\n",
    "            mins = 0\n",
    "            the_rest = t\n",
    "        sec, hundredths = the_rest.split(\".\")\n",
    "        converts.append((int(mins) *60 *100) + (100 * int(sec)) + int(hundredths))\n",
    "    average = statistics.mean(converts)\n",
    "    mins = int((average //100) // 60)\n",
    "    remainder = average - mins * 60 * 100\n",
    "    secs = int(remainder // 100)\n",
    "    hundredths = round(remainder - secs * 100)\n",
    "\n",
    "    return name, age, distance, stroke, average, f\"{mins}:{secs}.{hundredths}\", times, converts"
   ]
  },
  {
   "cell_type": "code",
   "execution_count": 9,
   "metadata": {},
   "outputs": [
    {
     "data": {
      "text/plain": [
       "('Dave',\n",
       " '17',\n",
       " '100m',\n",
       " 'Free',\n",
       " 5920.8,\n",
       " '0:59.21',\n",
       " ['59.21', '59.27', '58.67', '59.72', '59.17'],\n",
       " [5921, 5927, 5867, 5972, 5917])"
      ]
     },
     "execution_count": 9,
     "metadata": {},
     "output_type": "execute_result"
    }
   ],
   "source": [
    "get_swim_data(\"Dave-17-100m-Free.txt\")"
   ]
  },
  {
   "cell_type": "code",
   "execution_count": 4,
   "metadata": {},
   "outputs": [
    {
     "data": {
      "text/plain": [
       "(4, True)"
      ]
     },
     "execution_count": 4,
     "metadata": {},
     "output_type": "execute_result"
    }
   ],
   "source": [
    "4,2 in [1,2,3]"
   ]
  },
  {
   "cell_type": "markdown",
   "metadata": {},
   "source": [
    "                                                                            THE END !"
   ]
  }
 ],
 "metadata": {
  "kernelspec": {
   "display_name": "Python 3.10.7 64-bit",
   "language": "python",
   "name": "python3"
  },
  "language_info": {
   "codemirror_mode": {
    "name": "ipython",
    "version": 3
   },
   "file_extension": ".py",
   "mimetype": "text/x-python",
   "name": "python",
   "nbconvert_exporter": "python",
   "pygments_lexer": "ipython3",
   "version": "3.10.7"
  },
  "orig_nbformat": 4,
  "vscode": {
   "interpreter": {
    "hash": "fece7610c970557481ebf6c4310b97a77c4aa1d9365e439f8e94b17c8f57b0ed"
   }
  }
 },
 "nbformat": 4,
 "nbformat_minor": 2
}
