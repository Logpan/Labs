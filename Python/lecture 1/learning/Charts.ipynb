{
 "cells": [
  {
   "cell_type": "code",
   "execution_count": 1,
   "metadata": {},
   "outputs": [],
   "source": [
    "import swimclub"
   ]
  },
  {
   "cell_type": "code",
   "execution_count": 2,
   "metadata": {},
   "outputs": [
    {
     "data": {
      "text/plain": [
       "('Owen',\n",
       " '15',\n",
       " '100m',\n",
       " 'Free',\n",
       " 7567.25,\n",
       " '1:15.67',\n",
       " ['1:15.57', '1:14.40', '1:19.82', '1:12.90'],\n",
       " [7557, 7440, 7982, 7290])"
      ]
     },
     "execution_count": 2,
     "metadata": {},
     "output_type": "execute_result"
    }
   ],
   "source": [
    "swimclub.get_swim_data(\"Owen-15-100m-Free.txt\")"
   ]
  },
  {
   "cell_type": "code",
   "execution_count": 3,
   "metadata": {},
   "outputs": [],
   "source": [
    "from swimclub import get_swim_data"
   ]
  },
  {
   "cell_type": "code",
   "execution_count": 4,
   "metadata": {},
   "outputs": [
    {
     "data": {
      "text/plain": [
       "('Ruth',\n",
       " '13',\n",
       " '200m',\n",
       " 'Free',\n",
       " 14724.666666666666,\n",
       " '2:27.25',\n",
       " ['2:22.64', '2:28.16', '2:28.38', '2:25.08', '2:25.64', '2:33.58'],\n",
       " [14264, 14816, 14838, 14508, 14564, 15358])"
      ]
     },
     "execution_count": 4,
     "metadata": {},
     "output_type": "execute_result"
    }
   ],
   "source": [
    "get_swim_data(\"Ruth-13-200m-Free.txt\")"
   ]
  },
  {
   "cell_type": "code",
   "execution_count": 5,
   "metadata": {},
   "outputs": [],
   "source": [
    "swimmer, age, distance, stroke, average, average_str, times, converts = get_swim_data(\"Darius-13-100m-Fly.txt\")"
   ]
  },
  {
   "cell_type": "code",
   "execution_count": 6,
   "metadata": {},
   "outputs": [],
   "source": [
    "title = f\"{swimmer} (Under{age}){distance}{stroke}\"\n",
    "head = f\"\"\"\n",
    "<!DOCTYPE html>\n",
    "<html>\n",
    "    <head>\n",
    "        <title> {title} </title>\n",
    "    </head>\n",
    "    <body>\n",
    "        <h3>{title}</h3>\"\"\""
   ]
  },
  {
   "cell_type": "code",
   "execution_count": 7,
   "metadata": {},
   "outputs": [],
   "source": [
    "footer = f\"\"\"\n",
    "        <p> Average time : {average_str} </p>\n",
    "    </body>\n",
    "</html>\"\"\""
   ]
  },
  {
   "cell_type": "code",
   "execution_count": 8,
   "metadata": {},
   "outputs": [],
   "source": [
    "from swimclub import convert2range"
   ]
  },
  {
   "cell_type": "code",
   "execution_count": 9,
   "metadata": {},
   "outputs": [],
   "source": [
    "t=times[0]\n",
    "bar_width = convert2range(converts[0],0,max(converts),0,400)"
   ]
  },
  {
   "cell_type": "code",
   "execution_count": 10,
   "metadata": {},
   "outputs": [],
   "source": [
    "svg = f\"\"\"\n",
    "<svg height=\"30\" width = \"400\">\n",
    "    <rect height=\"30\" width=\"{bar_width}\" style =\"fill:rgb(0,0,255);\" />\n",
    "</svg>{t}<br/>\n",
    "\"\"\""
   ]
  },
  {
   "cell_type": "code",
   "execution_count": 11,
   "metadata": {},
   "outputs": [
    {
     "data": {
      "text/plain": [
       "'\\n<svg height=\"30\" width = \"400\">\\n    <rect height=\"30\" width=\"386.76\" style =\"fill:rgb(0,0,255);\" />\\n</svg>1:27.95<br/>\\n'"
      ]
     },
     "execution_count": 11,
     "metadata": {},
     "output_type": "execute_result"
    }
   ],
   "source": [
    "svg"
   ]
  },
  {
   "cell_type": "code",
   "execution_count": 13,
   "metadata": {},
   "outputs": [],
   "source": [
    "body = \"\"\n",
    "\n",
    "for c, t in zip(converts,times):\n",
    "    bar_width = convert2range(c,0,max(converts),0,400)\n",
    "    svg = f\"\"\"\n",
    "    <svg height=\"30\" width = \"400\">\n",
    "        <rect height=\"30\" width=\"{bar_width}\" style =\"fill:rgb(0,0,255);\" />\n",
    "    </svg>{t}<br/>\n",
    "    \"\"\"\n",
    "    body = body + svg"
   ]
  },
  {
   "cell_type": "code",
   "execution_count": 14,
   "metadata": {},
   "outputs": [
    {
     "name": "stdout",
     "output_type": "stream",
     "text": [
      "\n",
      "    <svg height=\"30\" width = \"400\">\n",
      "        <rect height=\"30\" width=\"386.76\" style =\"fill:rgb(0,0,255);\" />\n",
      "    </svg>1:27.95<br/>\n",
      "    \n",
      "    <svg height=\"30\" width = \"400\">\n",
      "        <rect height=\"30\" width=\"356.51\" style =\"fill:rgb(0,0,255);\" />\n",
      "    </svg>1:21.07<br/>\n",
      "    \n",
      "    <svg height=\"30\" width = \"400\">\n",
      "        <rect height=\"30\" width=\"400.0\" style =\"fill:rgb(0,0,255);\" />\n",
      "    </svg>1:30.96<br/>\n",
      "    \n",
      "    <svg height=\"30\" width = \"400\">\n",
      "        <rect height=\"30\" width=\"365.96\" style =\"fill:rgb(0,0,255);\" />\n",
      "    </svg>1:23.22<br/>\n",
      "    \n",
      "    <svg height=\"30\" width = \"400\">\n",
      "        <rect height=\"30\" width=\"386.76\" style =\"fill:rgb(0,0,255);\" />\n",
      "    </svg>1:27.95<br/>\n",
      "    \n",
      "    <svg height=\"30\" width = \"400\">\n",
      "        <rect height=\"30\" width=\"388.3\" style =\"fill:rgb(0,0,255);\" />\n",
      "    </svg>1:28.30<br/>\n",
      "    \n"
     ]
    }
   ],
   "source": [
    "print(body)"
   ]
  },
  {
   "cell_type": "code",
   "execution_count": 52,
   "metadata": {},
   "outputs": [],
   "source": [
    "from swimclub import get_swim_data, convert2range\n",
    "\n",
    "CHARTS = \"./charts/\"\n",
    "\n",
    "def produce_bar_charts(fn):\n",
    "    swimmer, age, distance, stroke, average, average_str, times, converts = get_swim_data(fn)\n",
    "    title = f\"{swimmer} (Under{age}){distance}{stroke}\"\n",
    "    head = f\"\"\"\n",
    "    <!DOCTYPE html>\n",
    "    <html>\n",
    "        <head>\n",
    "            <title> {title} </title>\n",
    "        </head>\n",
    "        <body>\n",
    "            <h3>{title}</h3>\n",
    "    \"\"\"\n",
    "\n",
    "    body = \"\"\n",
    "\n",
    "    for c, t in zip(converts,times):\n",
    "        bar_width = convert2range(c,0,max(converts),0,380)\n",
    "        svg = f\"\"\"\n",
    "        <svg height=\"30\" width = \"400\">\n",
    "            <rect height=\"30\" width=\"{bar_width}\" style =\"fill:rgb(0,0,255);\" />\n",
    "        </svg>{t}<br/>\n",
    "        \"\"\"\n",
    "        body = svg + body  \n",
    "\n",
    "    footer = f\"\"\"\n",
    "            <p> Average time : {average_str} </p>\n",
    "        </body>\n",
    "    </html>\n",
    "    \"\"\"\n",
    "\n",
    "    page = head + body + footer\n",
    "    #work out the new file name \n",
    "    save_to = f\"{CHARTS}{fn.removesuffix('.txt')}.html\"\n",
    "    # save to the new file name\n",
    "    with open(save_to, \"w\") as wf:\n",
    "        print(page, file=wf)\n",
    "        \n",
    "    \n",
    "    return save_to"
   ]
  },
  {
   "cell_type": "code",
   "execution_count": 53,
   "metadata": {},
   "outputs": [
    {
     "name": "stdout",
     "output_type": "stream",
     "text": [
      "./charts/Ruth-13-200m-Free.html\n"
     ]
    }
   ],
   "source": [
    "print(produce_bar_charts(\"Ruth-13-200m-Free.txt\"))"
   ]
  },
  {
   "cell_type": "code",
   "execution_count": 54,
   "metadata": {},
   "outputs": [],
   "source": [
    "import webbrowser, os"
   ]
  },
  {
   "cell_type": "code",
   "execution_count": 55,
   "metadata": {},
   "outputs": [
    {
     "data": {
      "text/plain": [
       "True"
      ]
     },
     "execution_count": 55,
     "metadata": {},
     "output_type": "execute_result"
    }
   ],
   "source": [
    "html_location = produce_bar_charts(\"Ruth-13-200m-Free.txt\")\n",
    "\n",
    "webbrowser.open(\"file://\" + os.path.realpath(html_location))"
   ]
  },
  {
   "cell_type": "code",
   "execution_count": 51,
   "metadata": {},
   "outputs": [
    {
     "data": {
      "text/plain": [
       "True"
      ]
     },
     "execution_count": 51,
     "metadata": {},
     "output_type": "execute_result"
    }
   ],
   "source": [
    "html_location = produce_bar_charts(\"Darius-13-100m-Fly.txt\")\n",
    "\n",
    "webbrowser.open(\"file://\" + os.path.realpath(html_location))"
   ]
  }
 ],
 "metadata": {
  "kernelspec": {
   "display_name": "Python 3.10.7 64-bit",
   "language": "python",
   "name": "python3"
  },
  "language_info": {
   "codemirror_mode": {
    "name": "ipython",
    "version": 3
   },
   "file_extension": ".py",
   "mimetype": "text/x-python",
   "name": "python",
   "nbconvert_exporter": "python",
   "pygments_lexer": "ipython3",
   "version": "3.10.7"
  },
  "orig_nbformat": 4,
  "vscode": {
   "interpreter": {
    "hash": "fece7610c970557481ebf6c4310b97a77c4aa1d9365e439f8e94b17c8f57b0ed"
   }
  }
 },
 "nbformat": 4,
 "nbformat_minor": 2
}
