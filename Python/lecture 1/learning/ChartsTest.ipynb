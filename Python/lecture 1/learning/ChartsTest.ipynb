{
 "cells": [
  {
   "cell_type": "markdown",
   "metadata": {},
   "source": [
    "                                                                                    TEST"
   ]
  },
  {
   "cell_type": "code",
   "execution_count": 2,
   "metadata": {},
   "outputs": [],
   "source": [
    "import os, webbrowser\n",
    "import swimclub"
   ]
  },
  {
   "cell_type": "code",
   "execution_count": 3,
   "metadata": {},
   "outputs": [
    {
     "data": {
      "text/plain": [
       "True"
      ]
     },
     "execution_count": 3,
     "metadata": {},
     "output_type": "execute_result"
    }
   ],
   "source": [
    "fn = \"Abi-10-50m-Back.txt\"\n",
    "html_location = swimclub.produce_bar_charts(fn)\n",
    "\n",
    "webbrowser.open(\"file://\" + os.path.realpath(html_location))"
   ]
  },
  {
   "cell_type": "code",
   "execution_count": 4,
   "metadata": {},
   "outputs": [
    {
     "name": "stdout",
     "output_type": "stream",
     "text": [
      "['DirEntry', 'F_OK', 'GenericAlias', 'Mapping', 'MutableMapping', 'O_APPEND', 'O_BINARY', 'O_CREAT', 'O_EXCL', 'O_NOINHERIT', 'O_RANDOM', 'O_RDONLY', 'O_RDWR', 'O_SEQUENTIAL', 'O_SHORT_LIVED', 'O_TEMPORARY', 'O_TEXT', 'O_TRUNC', 'O_WRONLY', 'P_DETACH', 'P_NOWAIT', 'P_NOWAITO', 'P_OVERLAY', 'P_WAIT', 'PathLike', 'R_OK', 'SEEK_CUR', 'SEEK_END', 'SEEK_SET', 'TMP_MAX', 'W_OK', 'X_OK', '_AddedDllDirectory', '_Environ', '__all__', '__builtins__', '__cached__', '__doc__', '__file__', '__loader__', '__name__', '__package__', '__spec__', '_check_methods', '_execvpe', '_exists', '_exit', '_fspath', '_get_exports_list', '_walk', '_wrap_close', 'abc', 'abort', 'access', 'add_dll_directory', 'altsep', 'chdir', 'chmod', 'close', 'closerange', 'cpu_count', 'curdir', 'defpath', 'device_encoding', 'devnull', 'dup', 'dup2', 'environ', 'error', 'execl', 'execle', 'execlp', 'execlpe', 'execv', 'execve', 'execvp', 'execvpe', 'extsep', 'fdopen', 'fsdecode', 'fsencode', 'fspath', 'fstat', 'fsync', 'ftruncate', 'get_exec_path', 'get_handle_inheritable', 'get_inheritable', 'get_terminal_size', 'getcwd', 'getcwdb', 'getenv', 'getlogin', 'getpid', 'getppid', 'isatty', 'kill', 'linesep', 'link', 'listdir', 'lseek', 'lstat', 'makedirs', 'mkdir', 'name', 'open', 'pardir', 'path', 'pathsep', 'pipe', 'popen', 'putenv', 'read', 'readlink', 'remove', 'removedirs', 'rename', 'renames', 'replace', 'rmdir', 'scandir', 'sep', 'set_handle_inheritable', 'set_inheritable', 'spawnl', 'spawnle', 'spawnv', 'spawnve', 'st', 'startfile', 'stat', 'stat_result', 'statvfs_result', 'strerror', 'supports_bytes_environ', 'supports_dir_fd', 'supports_effective_ids', 'supports_fd', 'supports_follow_symlinks', 'symlink', 'sys', 'system', 'terminal_size', 'times', 'times_result', 'truncate', 'umask', 'uname_result', 'unlink', 'unsetenv', 'urandom', 'utime', 'waitpid', 'waitstatus_to_exitcode', 'walk', 'write']\n"
     ]
    }
   ],
   "source": [
    "print(dir(os))"
   ]
  },
  {
   "cell_type": "code",
   "execution_count": 15,
   "metadata": {},
   "outputs": [],
   "source": [
    "FOLDER = \"../swimdata/\""
   ]
  },
  {
   "cell_type": "code",
   "execution_count": 16,
   "metadata": {},
   "outputs": [],
   "source": [
    "files = os.listdir(FOLDER)"
   ]
  },
  {
   "cell_type": "code",
   "execution_count": 17,
   "metadata": {},
   "outputs": [
    {
     "data": {
      "text/plain": [
       "list"
      ]
     },
     "execution_count": 17,
     "metadata": {},
     "output_type": "execute_result"
    }
   ],
   "source": [
    "type(files)"
   ]
  },
  {
   "cell_type": "code",
   "execution_count": 18,
   "metadata": {},
   "outputs": [
    {
     "name": "stdout",
     "output_type": "stream",
     "text": [
      "['.DS_Store', 'Abi-10-100m-Back.txt', 'Abi-10-100m-Breast.txt', 'Abi-10-50m-Back.txt', 'Abi-10-50m-Breast.txt', 'Abi-10-50m-Free.txt', 'Ali-12-100m-Back.txt', 'Ali-12-100m-Free.txt', 'Alison-14-100m-Breast.txt', 'Alison-14-100m-Free.txt', 'Aurora-13-50m-Free.txt', 'Bill-18-100m-Back.txt', 'Bill-18-200m-Back.txt', 'Blake-15-100m-Back.txt', 'Blake-15-100m-Fly.txt', 'Blake-15-100m-Free.txt', 'Calvin-9-50m-Back.txt', 'Calvin-9-50m-Fly.txt', 'Calvin-9-50m-Free.txt', 'Carl-15-100m-Back.txt', 'Chris-17-100m-Back.txt', 'Chris-17-100m-Breast.txt', 'Darius-13-100m-Back.txt', 'Darius-13-100m-Breast.txt', 'Darius-13-100m-Fly.txt', 'Darius-13-200m-IM.txt', 'Dave-17-100m-Free.txt', 'Dave-17-200m-Back.txt', 'Elba-14-100m-Free.txt', 'Emma-13-100m-Breast.txt', 'Emma-13-100m-Free.txt', 'Erika-15-100m-Breast.txt', 'Erika-15-100m-Free.txt', 'Erika-15-200m-Breast.txt', 'Hannah-13-100m-Back.txt', 'Hannah-13-100m-Free.txt', 'Katie-9-100m-Back.txt', 'Katie-9-100m-Breast.txt', 'Katie-9-100m-Free.txt', 'Katie-9-100m-IM.txt', 'Katie-9-50m-Back.txt', 'Katie-9-50m-Breast.txt', 'Katie-9-50m-Fly.txt', 'Katie-9-50m-Free.txt', 'Lizzie-14-100m-Back.txt', 'Lizzie-14-100m-Free.txt', 'Maria-9-50m-Free.txt', 'Mike-15-100m-Back.txt', 'Mike-15-100m-Fly.txt', 'Mike-15-100m-Free.txt', 'Mike-15-200m-Free.txt', 'Mike-15-200m-IM.txt', 'Owen-15-100m-Free.txt', 'Ruth-13-100m-Back.txt', 'Ruth-13-100m-Free.txt', 'Ruth-13-200m-Back.txt', 'Ruth-13-200m-Free.txt', 'Ruth-13-400m-Free.txt', 'Tasmin-15-100m-Back.txt', 'Tasmin-15-100m-Breast.txt', 'Tasmin-15-100m-Free.txt', 'Tasmin-15-200m-Breast.txt']\n"
     ]
    }
   ],
   "source": [
    "print(files)"
   ]
  },
  {
   "cell_type": "code",
   "execution_count": 19,
   "metadata": {},
   "outputs": [
    {
     "data": {
      "text/plain": [
       "62"
      ]
     },
     "execution_count": 19,
     "metadata": {},
     "output_type": "execute_result"
    }
   ],
   "source": [
    "len(files)"
   ]
  },
  {
   "cell_type": "code",
   "execution_count": 20,
   "metadata": {},
   "outputs": [
    {
     "name": "stdout",
     "output_type": "stream",
     "text": [
      "['.DS_Store', 'Abi-10-100m-Back.txt', 'Abi-10-100m-Breast.txt', 'Abi-10-50m-Back.txt', 'Abi-10-50m-Breast.txt', 'Abi-10-50m-Free.txt', 'Ali-12-100m-Back.txt', 'Ali-12-100m-Free.txt', 'Alison-14-100m-Breast.txt', 'Alison-14-100m-Free.txt', 'Aurora-13-50m-Free.txt', 'Bill-18-100m-Back.txt', 'Bill-18-200m-Back.txt', 'Blake-15-100m-Back.txt', 'Blake-15-100m-Fly.txt', 'Blake-15-100m-Free.txt', 'Calvin-9-50m-Back.txt', 'Calvin-9-50m-Fly.txt', 'Calvin-9-50m-Free.txt', 'Carl-15-100m-Back.txt', 'Chris-17-100m-Back.txt', 'Chris-17-100m-Breast.txt', 'Darius-13-100m-Back.txt', 'Darius-13-100m-Breast.txt', 'Darius-13-100m-Fly.txt', 'Darius-13-200m-IM.txt', 'Dave-17-100m-Free.txt', 'Dave-17-200m-Back.txt', 'Elba-14-100m-Free.txt', 'Emma-13-100m-Breast.txt', 'Emma-13-100m-Free.txt', 'Erika-15-100m-Breast.txt', 'Erika-15-100m-Free.txt', 'Erika-15-200m-Breast.txt', 'Hannah-13-100m-Back.txt', 'Hannah-13-100m-Free.txt', 'Katie-9-100m-Back.txt', 'Katie-9-100m-Breast.txt', 'Katie-9-100m-Free.txt', 'Katie-9-100m-IM.txt', 'Katie-9-50m-Back.txt', 'Katie-9-50m-Breast.txt', 'Katie-9-50m-Fly.txt', 'Katie-9-50m-Free.txt', 'Lizzie-14-100m-Back.txt', 'Lizzie-14-100m-Free.txt', 'Maria-9-50m-Free.txt', 'Mike-15-100m-Back.txt', 'Mike-15-100m-Fly.txt', 'Mike-15-100m-Free.txt', 'Mike-15-200m-Free.txt', 'Mike-15-200m-IM.txt', 'Owen-15-100m-Free.txt', 'Ruth-13-100m-Back.txt', 'Ruth-13-100m-Free.txt', 'Ruth-13-200m-Back.txt', 'Ruth-13-200m-Free.txt', 'Ruth-13-400m-Free.txt', 'Tasmin-15-100m-Back.txt', 'Tasmin-15-100m-Breast.txt', 'Tasmin-15-100m-Free.txt', 'Tasmin-15-200m-Breast.txt']\n"
     ]
    }
   ],
   "source": [
    "print(sorted(files))"
   ]
  },
  {
   "cell_type": "code",
   "execution_count": 21,
   "metadata": {},
   "outputs": [],
   "source": [
    "files.remove(\".DS_Store\")"
   ]
  },
  {
   "cell_type": "code",
   "execution_count": 22,
   "metadata": {},
   "outputs": [
    {
     "data": {
      "text/plain": [
       "61"
      ]
     },
     "execution_count": 22,
     "metadata": {},
     "output_type": "execute_result"
    }
   ],
   "source": [
    "len(files)"
   ]
  },
  {
   "cell_type": "code",
   "execution_count": 23,
   "metadata": {},
   "outputs": [
    {
     "name": "stdout",
     "output_type": "stream",
     "text": [
      "['__add__', '__class__', '__class_getitem__', '__contains__', '__delattr__', '__delitem__', '__dir__', '__doc__', '__eq__', '__format__', '__ge__', '__getattribute__', '__getitem__', '__gt__', '__hash__', '__iadd__', '__imul__', '__init__', '__init_subclass__', '__iter__', '__le__', '__len__', '__lt__', '__mul__', '__ne__', '__new__', '__reduce__', '__reduce_ex__', '__repr__', '__reversed__', '__rmul__', '__setattr__', '__setitem__', '__sizeof__', '__str__', '__subclasshook__', 'append', 'clear', 'copy', 'count', 'extend', 'index', 'insert', 'pop', 'remove', 'reverse', 'sort']\n"
     ]
    }
   ],
   "source": [
    "print(dir(files))"
   ]
  },
  {
   "cell_type": "code",
   "execution_count": 26,
   "metadata": {},
   "outputs": [],
   "source": [
    "for fn in files :\n",
    "    html_location = swimclub.produce_bar_charts(fn)\n",
    "    webbrowser.open(\"file://\" + os.path.realpath(html_location))\n",
    "#Wrong idea"
   ]
  },
  {
   "cell_type": "code",
   "execution_count": 27,
   "metadata": {},
   "outputs": [],
   "source": [
    "swimmers = []\n",
    "for file in files :\n",
    "    swimmers.append(swimclub.get_swim_data(file))"
   ]
  },
  {
   "cell_type": "code",
   "execution_count": 29,
   "metadata": {},
   "outputs": [
    {
     "data": {
      "text/plain": [
       "'Abi-10-100m-Back.txt'"
      ]
     },
     "execution_count": 29,
     "metadata": {},
     "output_type": "execute_result"
    }
   ],
   "source": [
    "files[0]"
   ]
  },
  {
   "cell_type": "code",
   "execution_count": 30,
   "metadata": {},
   "outputs": [
    {
     "data": {
      "text/plain": [
       "'Tasmin-15-200m-Breast.txt'"
      ]
     },
     "execution_count": 30,
     "metadata": {},
     "output_type": "execute_result"
    }
   ],
   "source": [
    "files[-1]"
   ]
  },
  {
   "cell_type": "code",
   "execution_count": 31,
   "metadata": {},
   "outputs": [
    {
     "data": {
      "text/plain": [
       "['Abi-10-100m-Back.txt',\n",
       " 'Abi-10-100m-Breast.txt',\n",
       " 'Abi-10-50m-Back.txt',\n",
       " 'Abi-10-50m-Breast.txt',\n",
       " 'Abi-10-50m-Free.txt']"
      ]
     },
     "execution_count": 31,
     "metadata": {},
     "output_type": "execute_result"
    }
   ],
   "source": [
    "files[:5]"
   ]
  },
  {
   "cell_type": "code",
   "execution_count": 32,
   "metadata": {},
   "outputs": [
    {
     "data": {
      "text/plain": [
       "[('Abi',\n",
       "  '10',\n",
       "  '100m',\n",
       "  'Back',\n",
       "  9181,\n",
       "  '1:31.81',\n",
       "  ['1:31.59', '1:26.55', '1:28.75', '1:39.79', '1:32.37'],\n",
       "  [9159, 8655, 8875, 9979, 9237]),\n",
       " ('Abi',\n",
       "  '10',\n",
       "  '100m',\n",
       "  'Breast',\n",
       "  10253,\n",
       "  '1:42.53',\n",
       "  ['1:42.97', '1:43.31', '1:43.50', '1:40.34'],\n",
       "  [10297, 10331, 10350, 10034]),\n",
       " ('Abi',\n",
       "  '10',\n",
       "  '50m',\n",
       "  'Back',\n",
       "  4142.6,\n",
       "  '0:41.43',\n",
       "  ['41.50',\n",
       "   '43.58',\n",
       "   '42.35',\n",
       "   '43.35',\n",
       "   '39.85',\n",
       "   '40.53',\n",
       "   '42.14',\n",
       "   '39.18',\n",
       "   '40.89',\n",
       "   '40.89'],\n",
       "  [4150, 4358, 4235, 4335, 3985, 4053, 4214, 3918, 4089, 4089]),\n",
       " ('Abi',\n",
       "  '10',\n",
       "  '50m',\n",
       "  'Breast',\n",
       "  4853.9,\n",
       "  '0:48.54',\n",
       "  ['48.08',\n",
       "   '53.17',\n",
       "   '45.76',\n",
       "   '49.28',\n",
       "   '52.85',\n",
       "   '46.19',\n",
       "   '47.76',\n",
       "   '48.83',\n",
       "   '45.71',\n",
       "   '47.76'],\n",
       "  [4808, 5317, 4576, 4928, 5285, 4619, 4776, 4883, 4571, 4776]),\n",
       " ('Abi',\n",
       "  '10',\n",
       "  '50m',\n",
       "  'Free',\n",
       "  3807,\n",
       "  '0:38.7',\n",
       "  ['39.07', '37.66', '36.13', '39.42'],\n",
       "  [3907, 3766, 3613, 3942])]"
      ]
     },
     "execution_count": 32,
     "metadata": {},
     "output_type": "execute_result"
    }
   ],
   "source": [
    "swimmers[:5]"
   ]
  },
  {
   "cell_type": "code",
   "execution_count": 34,
   "metadata": {},
   "outputs": [],
   "source": [
    "swimmers = [] #Start with an empty list.\n",
    "for file in files : # Process some sequemce one object at a time\n",
    "    swimmers.append(swimclub.get_swim_data(file))\n",
    "    #Perform a transformation,then add to the new list."
   ]
  },
  {
   "cell_type": "code",
   "execution_count": 37,
   "metadata": {},
   "outputs": [],
   "source": [
    "nums = [1,2,3]"
   ]
  },
  {
   "cell_type": "code",
   "execution_count": 38,
   "metadata": {},
   "outputs": [],
   "source": [
    "doubles = []\n",
    "for n in nums :\n",
    "    doubles.append(n*2)"
   ]
  },
  {
   "cell_type": "code",
   "execution_count": 39,
   "metadata": {},
   "outputs": [
    {
     "data": {
      "text/plain": [
       "[2, 4, 6]"
      ]
     },
     "execution_count": 39,
     "metadata": {},
     "output_type": "execute_result"
    }
   ],
   "source": [
    "doubles"
   ]
  },
  {
   "cell_type": "code",
   "execution_count": null,
   "metadata": {},
   "outputs": [],
   "source": [
    "doubles = []\n",
    "for n in nums :\n",
    "    doubles.append(n*2)"
   ]
  },
  {
   "cell_type": "code",
   "execution_count": 42,
   "metadata": {},
   "outputs": [
    {
     "data": {
      "text/plain": [
       "[2, 4, 6]"
      ]
     },
     "execution_count": 42,
     "metadata": {},
     "output_type": "execute_result"
    }
   ],
   "source": [
    "doubles2 = [ n*2 for n in nums ]\n",
    "doubles2"
   ]
  },
  {
   "cell_type": "code",
   "execution_count": 43,
   "metadata": {},
   "outputs": [],
   "source": [
    "swimmers = [swimclub.get_swim_data(file) for file in files]"
   ]
  },
  {
   "cell_type": "code",
   "execution_count": 47,
   "metadata": {},
   "outputs": [],
   "source": [
    "hannah = [ swimmer for swimmer in swimmers if swimmer[0] == \"Hannah\" ]"
   ]
  },
  {
   "cell_type": "code",
   "execution_count": 48,
   "metadata": {},
   "outputs": [
    {
     "data": {
      "text/plain": [
       "[('Hannah',\n",
       "  '13',\n",
       "  '100m',\n",
       "  'Back',\n",
       "  9377.75,\n",
       "  '1:33.78',\n",
       "  ['1:35.75', '1:32.78', '1:34.01', '1:32.57'],\n",
       "  [9575, 9278, 9401, 9257]),\n",
       " ('Hannah',\n",
       "  '13',\n",
       "  '100m',\n",
       "  'Free',\n",
       "  8245.75,\n",
       "  '1:22.46',\n",
       "  ['1:21.43', '1:21.40', '1:21.62', '1:25.38'],\n",
       "  [8143, 8140, 8162, 8538])]"
      ]
     },
     "execution_count": 48,
     "metadata": {},
     "output_type": "execute_result"
    }
   ],
   "source": [
    "hannah"
   ]
  },
  {
   "cell_type": "code",
   "execution_count": 50,
   "metadata": {},
   "outputs": [
    {
     "data": {
      "text/plain": [
       "[('Dave',\n",
       "  '17',\n",
       "  '100m',\n",
       "  'Free',\n",
       "  5920.8,\n",
       "  '0:59.21',\n",
       "  ['59.21', '59.27', '58.67', '59.72', '59.17'],\n",
       "  [5921, 5927, 5867, 5972, 5917]),\n",
       " ('Dave',\n",
       "  '17',\n",
       "  '200m',\n",
       "  'Back',\n",
       "  15198.75,\n",
       "  '2:31.99',\n",
       "  ['2:35.46', '2:28.30', '2:35.35', '2:28.84'],\n",
       "  [15546, 14830, 15535, 14884])]"
      ]
     },
     "execution_count": 50,
     "metadata": {},
     "output_type": "execute_result"
    }
   ],
   "source": [
    "dave = [ swimmer for swimmer in swimmers if swimmer[0] == \"Dave\" ]\n",
    "dave"
   ]
  },
  {
   "cell_type": "code",
   "execution_count": 52,
   "metadata": {},
   "outputs": [
    {
     "data": {
      "text/plain": [
       "[('Darius',\n",
       "  '13',\n",
       "  '100m',\n",
       "  'Back',\n",
       "  8410.75,\n",
       "  '1:24.11',\n",
       "  ['1:22.57', '1:29.64', '1:20.39', '1:23.83'],\n",
       "  [8257, 8964, 8039, 8383]),\n",
       " ('Darius',\n",
       "  '13',\n",
       "  '100m',\n",
       "  'Breast',\n",
       "  9204.125,\n",
       "  '1:32.4',\n",
       "  ['1:30.24',\n",
       "   '1:33.18',\n",
       "   '1:32.73',\n",
       "   '1:33.05',\n",
       "   '1:30.81',\n",
       "   '1:31.74',\n",
       "   '1:31.53',\n",
       "   '1:33.05'],\n",
       "  [9024, 9318, 9273, 9305, 9081, 9174, 9153, 9305]),\n",
       " ('Darius',\n",
       "  '13',\n",
       "  '100m',\n",
       "  'Fly',\n",
       "  8657.5,\n",
       "  '1:26.58',\n",
       "  ['1:27.95', '1:21.07', '1:30.96', '1:23.22', '1:27.95', '1:28.30'],\n",
       "  [8795, 8107, 9096, 8322, 8795, 8830]),\n",
       " ('Darius',\n",
       "  '13',\n",
       "  '200m',\n",
       "  'IM',\n",
       "  18126.2,\n",
       "  '3:1.26',\n",
       "  ['3:03.84', '3:04.27', '3:01.49', '3:04.27', '2:52.44'],\n",
       "  [18384, 18427, 18149, 18427, 17244])]"
      ]
     },
     "execution_count": 52,
     "metadata": {},
     "output_type": "execute_result"
    }
   ],
   "source": [
    "darius = [ swimmer for swimmer in swimmers if swimmer[0] == \"Darius\" ]\n",
    "darius"
   ]
  },
  {
   "cell_type": "code",
   "execution_count": 53,
   "metadata": {},
   "outputs": [
    {
     "data": {
      "text/plain": [
       "dict"
      ]
     },
     "execution_count": 53,
     "metadata": {},
     "output_type": "execute_result"
    }
   ],
   "source": [
    "#swimmers = [] #Start with an empty list.\n",
    "#for file in files : # Process some sequemce one object at a time\n",
    "#    swimmers.append(swimclub.get_swim_data(file))\n",
    "    #Perform a transformation,then add to the new list.\n",
    "\n",
    "swimmers = {}\n",
    "type(swimmers)"
   ]
  },
  {
   "cell_type": "code",
   "execution_count": 54,
   "metadata": {},
   "outputs": [
    {
     "name": "stdout",
     "output_type": "stream",
     "text": [
      "['__class__', '__class_getitem__', '__contains__', '__delattr__', '__delitem__', '__dir__', '__doc__', '__eq__', '__format__', '__ge__', '__getattribute__', '__getitem__', '__gt__', '__hash__', '__init__', '__init_subclass__', '__ior__', '__iter__', '__le__', '__len__', '__lt__', '__ne__', '__new__', '__or__', '__reduce__', '__reduce_ex__', '__repr__', '__reversed__', '__ror__', '__setattr__', '__setitem__', '__sizeof__', '__str__', '__subclasshook__', 'clear', 'copy', 'fromkeys', 'get', 'items', 'keys', 'pop', 'popitem', 'setdefault', 'update', 'values']\n"
     ]
    }
   ],
   "source": [
    "print(dir(swimmers))"
   ]
  },
  {
   "cell_type": "code",
   "execution_count": 55,
   "metadata": {},
   "outputs": [],
   "source": [
    "swimmers[\"Hannah\"] = \"this is Hannah s data\""
   ]
  },
  {
   "cell_type": "code",
   "execution_count": 56,
   "metadata": {},
   "outputs": [
    {
     "data": {
      "text/plain": [
       "{'Hannah': 'this is Hannah s data'}"
      ]
     },
     "execution_count": 56,
     "metadata": {},
     "output_type": "execute_result"
    }
   ],
   "source": [
    "swimmers"
   ]
  },
  {
   "cell_type": "code",
   "execution_count": 58,
   "metadata": {},
   "outputs": [
    {
     "data": {
      "text/plain": [
       "{'Hannah': 'this is Hannah s data', 'Dave': 'Dave s swims'}"
      ]
     },
     "execution_count": 58,
     "metadata": {},
     "output_type": "execute_result"
    }
   ],
   "source": [
    "swimmers[\"Dave\"] = \"Dave s swims\"\n",
    "swimmers"
   ]
  },
  {
   "cell_type": "code",
   "execution_count": 59,
   "metadata": {},
   "outputs": [
    {
     "data": {
      "text/plain": [
       "{'Dave', 'Hannah'}"
      ]
     },
     "execution_count": 59,
     "metadata": {},
     "output_type": "execute_result"
    }
   ],
   "source": [
    "swimmers = { swimmer for swimmer in swimmers}\n",
    "swimmers"
   ]
  },
  {
   "cell_type": "code",
   "execution_count": 60,
   "metadata": {},
   "outputs": [],
   "source": [
    "#swimmers = [] #Start with an empty list.\n",
    "#for file in files : # Process some sequemce one object at a time\n",
    "#    swimmers.append(swimclub.get_swim_data(file))\n",
    "    #Perform a transformation,then add to the new list.\n",
    "\n",
    "swimmers = {}"
   ]
  },
  {
   "cell_type": "code",
   "execution_count": 61,
   "metadata": {},
   "outputs": [
    {
     "data": {
      "text/plain": [
       "('Tasmin',\n",
       " '15',\n",
       " '200m',\n",
       " 'Breast',\n",
       " 17953.5,\n",
       " '2:59.54',\n",
       " ['2:54.14', '3:03.58', '3:02.43', '2:57.99'],\n",
       " [17414, 18358, 18243, 17799])"
      ]
     },
     "execution_count": 61,
     "metadata": {},
     "output_type": "execute_result"
    }
   ],
   "source": [
    "swimclub.get_swim_data(file)"
   ]
  },
  {
   "cell_type": "code",
   "execution_count": 62,
   "metadata": {},
   "outputs": [],
   "source": [
    "name, *data = swimclub.get_swim_data(file)"
   ]
  },
  {
   "cell_type": "code",
   "execution_count": 63,
   "metadata": {},
   "outputs": [
    {
     "data": {
      "text/plain": [
       "'Tasmin'"
      ]
     },
     "execution_count": 63,
     "metadata": {},
     "output_type": "execute_result"
    }
   ],
   "source": [
    "name"
   ]
  },
  {
   "cell_type": "code",
   "execution_count": 64,
   "metadata": {},
   "outputs": [
    {
     "data": {
      "text/plain": [
       "['15',\n",
       " '200m',\n",
       " 'Breast',\n",
       " 17953.5,\n",
       " '2:59.54',\n",
       " ['2:54.14', '3:03.58', '3:02.43', '2:57.99'],\n",
       " [17414, 18358, 18243, 17799]]"
      ]
     },
     "execution_count": 64,
     "metadata": {},
     "output_type": "execute_result"
    }
   ],
   "source": [
    "data"
   ]
  },
  {
   "cell_type": "code",
   "execution_count": 65,
   "metadata": {},
   "outputs": [],
   "source": [
    "swimmers = {}\n",
    "for file in files :\n",
    "    name, *data = swimclub.get_swim_data(file)\n",
    "    swimmers[name] = data # Whoops! OVERWRITING !!! Not Good.\n",
    "    "
   ]
  },
  {
   "cell_type": "code",
   "execution_count": 66,
   "metadata": {},
   "outputs": [
    {
     "data": {
      "text/plain": [
       "22"
      ]
     },
     "execution_count": 66,
     "metadata": {},
     "output_type": "execute_result"
    }
   ],
   "source": [
    "len(swimmers)"
   ]
  },
  {
   "cell_type": "code",
   "execution_count": 67,
   "metadata": {},
   "outputs": [
    {
     "data": {
      "text/plain": [
       "dict_keys(['Abi', 'Ali', 'Alison', 'Aurora', 'Bill', 'Blake', 'Calvin', 'Carl', 'Chris', 'Darius', 'Dave', 'Elba', 'Emma', 'Erika', 'Hannah', 'Katie', 'Lizzie', 'Maria', 'Mike', 'Owen', 'Ruth', 'Tasmin'])"
      ]
     },
     "execution_count": 67,
     "metadata": {},
     "output_type": "execute_result"
    }
   ],
   "source": [
    "swimmers.keys()"
   ]
  },
  {
   "cell_type": "code",
   "execution_count": 69,
   "metadata": {},
   "outputs": [],
   "source": [
    "swimmers = {}\n",
    "for file in files :\n",
    "    name, *data = swimclub.get_swim_data(file)\n",
    "    swimmers[name] = []\n",
    "    \n",
    "    "
   ]
  },
  {
   "cell_type": "code",
   "execution_count": 70,
   "metadata": {},
   "outputs": [
    {
     "data": {
      "text/plain": [
       "{'Abi': [],\n",
       " 'Ali': [],\n",
       " 'Alison': [],\n",
       " 'Aurora': [],\n",
       " 'Bill': [],\n",
       " 'Blake': [],\n",
       " 'Calvin': [],\n",
       " 'Carl': [],\n",
       " 'Chris': [],\n",
       " 'Darius': [],\n",
       " 'Dave': [],\n",
       " 'Elba': [],\n",
       " 'Emma': [],\n",
       " 'Erika': [],\n",
       " 'Hannah': [],\n",
       " 'Katie': [],\n",
       " 'Lizzie': [],\n",
       " 'Maria': [],\n",
       " 'Mike': [],\n",
       " 'Owen': [],\n",
       " 'Ruth': [],\n",
       " 'Tasmin': []}"
      ]
     },
     "execution_count": 70,
     "metadata": {},
     "output_type": "execute_result"
    }
   ],
   "source": [
    "swimmers"
   ]
  },
  {
   "cell_type": "code",
   "execution_count": 71,
   "metadata": {},
   "outputs": [],
   "source": [
    "swimmers = {}\n",
    "for file in files :\n",
    "    name, *data = swimclub.get_swim_data(file)\n",
    "    if not name in swimmers:\n",
    "        swimmers[name] = []\n",
    "    swimmers[name].append(data)"
   ]
  },
  {
   "cell_type": "code",
   "execution_count": 73,
   "metadata": {},
   "outputs": [
    {
     "data": {
      "text/plain": [
       "22"
      ]
     },
     "execution_count": 73,
     "metadata": {},
     "output_type": "execute_result"
    }
   ],
   "source": [
    "len(swimmers)"
   ]
  },
  {
   "cell_type": "code",
   "execution_count": 74,
   "metadata": {},
   "outputs": [
    {
     "data": {
      "text/plain": [
       "[['17',\n",
       "  '100m',\n",
       "  'Free',\n",
       "  5920.8,\n",
       "  '0:59.21',\n",
       "  ['59.21', '59.27', '58.67', '59.72', '59.17'],\n",
       "  [5921, 5927, 5867, 5972, 5917]],\n",
       " ['17',\n",
       "  '200m',\n",
       "  'Back',\n",
       "  15198.75,\n",
       "  '2:31.99',\n",
       "  ['2:35.46', '2:28.30', '2:35.35', '2:28.84'],\n",
       "  [15546, 14830, 15535, 14884]]]"
      ]
     },
     "execution_count": 74,
     "metadata": {},
     "output_type": "execute_result"
    }
   ],
   "source": [
    "swimmers[\"Dave\"]"
   ]
  },
  {
   "cell_type": "code",
   "execution_count": 75,
   "metadata": {},
   "outputs": [
    {
     "data": {
      "text/plain": [
       "[['13',\n",
       "  '100m',\n",
       "  'Back',\n",
       "  9377.75,\n",
       "  '1:33.78',\n",
       "  ['1:35.75', '1:32.78', '1:34.01', '1:32.57'],\n",
       "  [9575, 9278, 9401, 9257]],\n",
       " ['13',\n",
       "  '100m',\n",
       "  'Free',\n",
       "  8245.75,\n",
       "  '1:22.46',\n",
       "  ['1:21.43', '1:21.40', '1:21.62', '1:25.38'],\n",
       "  [8143, 8140, 8162, 8538]]]"
      ]
     },
     "execution_count": 75,
     "metadata": {},
     "output_type": "execute_result"
    }
   ],
   "source": [
    "swimmers[\"Hannah\"]"
   ]
  },
  {
   "cell_type": "code",
   "execution_count": 76,
   "metadata": {},
   "outputs": [
    {
     "data": {
      "text/plain": [
       "{'Abi': [['10',\n",
       "   '100m',\n",
       "   'Back',\n",
       "   9181,\n",
       "   '1:31.81',\n",
       "   ['1:31.59', '1:26.55', '1:28.75', '1:39.79', '1:32.37'],\n",
       "   [9159, 8655, 8875, 9979, 9237]],\n",
       "  ['10',\n",
       "   '100m',\n",
       "   'Breast',\n",
       "   10253,\n",
       "   '1:42.53',\n",
       "   ['1:42.97', '1:43.31', '1:43.50', '1:40.34'],\n",
       "   [10297, 10331, 10350, 10034]],\n",
       "  ['10',\n",
       "   '50m',\n",
       "   'Back',\n",
       "   4142.6,\n",
       "   '0:41.43',\n",
       "   ['41.50',\n",
       "    '43.58',\n",
       "    '42.35',\n",
       "    '43.35',\n",
       "    '39.85',\n",
       "    '40.53',\n",
       "    '42.14',\n",
       "    '39.18',\n",
       "    '40.89',\n",
       "    '40.89'],\n",
       "   [4150, 4358, 4235, 4335, 3985, 4053, 4214, 3918, 4089, 4089]],\n",
       "  ['10',\n",
       "   '50m',\n",
       "   'Breast',\n",
       "   4853.9,\n",
       "   '0:48.54',\n",
       "   ['48.08',\n",
       "    '53.17',\n",
       "    '45.76',\n",
       "    '49.28',\n",
       "    '52.85',\n",
       "    '46.19',\n",
       "    '47.76',\n",
       "    '48.83',\n",
       "    '45.71',\n",
       "    '47.76'],\n",
       "   [4808, 5317, 4576, 4928, 5285, 4619, 4776, 4883, 4571, 4776]],\n",
       "  ['10',\n",
       "   '50m',\n",
       "   'Free',\n",
       "   3807,\n",
       "   '0:38.7',\n",
       "   ['39.07', '37.66', '36.13', '39.42'],\n",
       "   [3907, 3766, 3613, 3942]]],\n",
       " 'Ali': [['12',\n",
       "   '100m',\n",
       "   'Back',\n",
       "   9949,\n",
       "   '1:39.49',\n",
       "   ['1:36.54', '1:39.10', '1:39.45', '1:42.87'],\n",
       "   [9654, 9910, 9945, 10287]],\n",
       "  ['12',\n",
       "   '100m',\n",
       "   'Free',\n",
       "   8441.714285714286,\n",
       "   '1:24.42',\n",
       "   ['1:27.31',\n",
       "    '1:27.00',\n",
       "    '1:27.46',\n",
       "    '1:22.50',\n",
       "    '1:20.39',\n",
       "    '1:26.04',\n",
       "    '1:20.22'],\n",
       "   [8731, 8700, 8746, 8250, 8039, 8604, 8022]]],\n",
       " 'Alison': [['14',\n",
       "   '100m',\n",
       "   'Breast',\n",
       "   9669.777777777777,\n",
       "   '1:36.70',\n",
       "   ['1:34.71',\n",
       "    '1:37.87',\n",
       "    '1:35.15',\n",
       "    '1:37.20',\n",
       "    '1:36.29',\n",
       "    '1:36.00',\n",
       "    '1:35.63',\n",
       "    '1:35.42',\n",
       "    '1:42.01'],\n",
       "   [9471, 9787, 9515, 9720, 9629, 9600, 9563, 9542, 10201]],\n",
       "  ['14',\n",
       "   '100m',\n",
       "   'Free',\n",
       "   7287.7,\n",
       "   '1:12.88',\n",
       "   ['1:13.86',\n",
       "    '1:12.00',\n",
       "    '1:14.69',\n",
       "    '1:10.01',\n",
       "    '1:12.24',\n",
       "    '1:11.00',\n",
       "    '1:11.20',\n",
       "    '1:12.28',\n",
       "    '1:15.46',\n",
       "    '1:16.03'],\n",
       "   [7386, 7200, 7469, 7001, 7224, 7100, 7120, 7228, 7546, 7603]]],\n",
       " 'Aurora': [['13',\n",
       "   '50m',\n",
       "   'Free',\n",
       "   2989.4285714285716,\n",
       "   '0:29.89',\n",
       "   ['30.05', '30.21', '28.86', '30.65', '30.03', '29.64', '29.82'],\n",
       "   [3005, 3021, 2886, 3065, 3003, 2964, 2982]]],\n",
       " 'Bill': [['18',\n",
       "   '100m',\n",
       "   'Back',\n",
       "   6718,\n",
       "   '1:7.18',\n",
       "   ['1:11.34', '1:05.81', '1:05.75', '1:05.82'],\n",
       "   [7134, 6581, 6575, 6582]],\n",
       "  ['18',\n",
       "   '200m',\n",
       "   'Back',\n",
       "   14602,\n",
       "   '2:26.2',\n",
       "   ['2:29.06', '2:21.49', '2:24.13', '2:29.40'],\n",
       "   [14906, 14149, 14413, 14940]]],\n",
       " 'Blake': [['15',\n",
       "   '100m',\n",
       "   'Back',\n",
       "   7479.8,\n",
       "   '1:14.80',\n",
       "   ['1:12.71', '1:19.87', '1:14.94', '1:11.53', '1:14.94'],\n",
       "   [7271, 7987, 7494, 7153, 7494]],\n",
       "  ['15',\n",
       "   '100m',\n",
       "   'Fly',\n",
       "   7106,\n",
       "   '1:11.6',\n",
       "   ['1:11.49', '1:10.16', '1:12.59', '1:11.63', '1:09.43'],\n",
       "   [7149, 7016, 7259, 7163, 6943]],\n",
       "  ['15',\n",
       "   '100m',\n",
       "   'Free',\n",
       "   6375.714285714285,\n",
       "   '1:3.76',\n",
       "   ['1:02.13',\n",
       "    '1:03.25',\n",
       "    '1:04.16',\n",
       "    '1:03.17',\n",
       "    '1:04.84',\n",
       "    '1:03.88',\n",
       "    '1:04.87'],\n",
       "   [6213, 6325, 6416, 6317, 6484, 6388, 6487]]],\n",
       " 'Calvin': [['9',\n",
       "   '50m',\n",
       "   'Back',\n",
       "   4001.818181818182,\n",
       "   '0:40.2',\n",
       "   ['38.79',\n",
       "    '39.03',\n",
       "    '41.29',\n",
       "    '39.66',\n",
       "    '41.13',\n",
       "    '38.57',\n",
       "    '39.40',\n",
       "    '41.06',\n",
       "    '40.37',\n",
       "    '43.05',\n",
       "    '37.85'],\n",
       "   [3879, 3903, 4129, 3966, 4113, 3857, 3940, 4106, 4037, 4305, 3785]],\n",
       "  ['9',\n",
       "   '50m',\n",
       "   'Fly',\n",
       "   3973.090909090909,\n",
       "   '0:39.73',\n",
       "   ['39.47',\n",
       "    '37.30',\n",
       "    '41.90',\n",
       "    '42.85',\n",
       "    '39.90',\n",
       "    '38.66',\n",
       "    '38.84',\n",
       "    '37.65',\n",
       "    '39.68',\n",
       "    '37.18',\n",
       "    '43.61'],\n",
       "   [3947, 3730, 4190, 4285, 3990, 3866, 3884, 3765, 3968, 3718, 4361]],\n",
       "  ['9',\n",
       "   '50m',\n",
       "   'Free',\n",
       "   3554.5,\n",
       "   '0:35.54',\n",
       "   ['35.78', '36.19', '36.89', '34.29', '34.18', '35.94'],\n",
       "   [3578, 3619, 3689, 3429, 3418, 3594]]],\n",
       " 'Carl': [['15',\n",
       "   '100m',\n",
       "   'Back',\n",
       "   8721.25,\n",
       "   '1:27.21',\n",
       "   ['1:29.78', '1:28.38', '1:25.03', '1:25.66'],\n",
       "   [8978, 8838, 8503, 8566]]],\n",
       " 'Chris': [['17',\n",
       "   '100m',\n",
       "   'Back',\n",
       "   8267,\n",
       "   '1:22.67',\n",
       "   ['1:21.76', '1:23.32', '1:24.09', '1:21.51'],\n",
       "   [8176, 8332, 8409, 8151]],\n",
       "  ['17',\n",
       "   '100m',\n",
       "   'Breast',\n",
       "   8888.75,\n",
       "   '1:28.89',\n",
       "   ['1:28.86', '1:29.90', '1:28.12', '1:28.67'],\n",
       "   [8886, 8990, 8812, 8867]]],\n",
       " 'Darius': [['13',\n",
       "   '100m',\n",
       "   'Back',\n",
       "   8410.75,\n",
       "   '1:24.11',\n",
       "   ['1:22.57', '1:29.64', '1:20.39', '1:23.83'],\n",
       "   [8257, 8964, 8039, 8383]],\n",
       "  ['13',\n",
       "   '100m',\n",
       "   'Breast',\n",
       "   9204.125,\n",
       "   '1:32.4',\n",
       "   ['1:30.24',\n",
       "    '1:33.18',\n",
       "    '1:32.73',\n",
       "    '1:33.05',\n",
       "    '1:30.81',\n",
       "    '1:31.74',\n",
       "    '1:31.53',\n",
       "    '1:33.05'],\n",
       "   [9024, 9318, 9273, 9305, 9081, 9174, 9153, 9305]],\n",
       "  ['13',\n",
       "   '100m',\n",
       "   'Fly',\n",
       "   8657.5,\n",
       "   '1:26.58',\n",
       "   ['1:27.95', '1:21.07', '1:30.96', '1:23.22', '1:27.95', '1:28.30'],\n",
       "   [8795, 8107, 9096, 8322, 8795, 8830]],\n",
       "  ['13',\n",
       "   '200m',\n",
       "   'IM',\n",
       "   18126.2,\n",
       "   '3:1.26',\n",
       "   ['3:03.84', '3:04.27', '3:01.49', '3:04.27', '2:52.44'],\n",
       "   [18384, 18427, 18149, 18427, 17244]]],\n",
       " 'Dave': [['17',\n",
       "   '100m',\n",
       "   'Free',\n",
       "   5920.8,\n",
       "   '0:59.21',\n",
       "   ['59.21', '59.27', '58.67', '59.72', '59.17'],\n",
       "   [5921, 5927, 5867, 5972, 5917]],\n",
       "  ['17',\n",
       "   '200m',\n",
       "   'Back',\n",
       "   15198.75,\n",
       "   '2:31.99',\n",
       "   ['2:35.46', '2:28.30', '2:35.35', '2:28.84'],\n",
       "   [15546, 14830, 15535, 14884]]],\n",
       " 'Elba': [['14',\n",
       "   '100m',\n",
       "   'Free',\n",
       "   6609.5,\n",
       "   '1:6.10',\n",
       "   ['1:06.01', '1:06.93', '1:05.34', '1:06.10'],\n",
       "   [6601, 6693, 6534, 6610]]],\n",
       " 'Emma': [['13',\n",
       "   '100m',\n",
       "   'Breast',\n",
       "   11866,\n",
       "   '1:58.66',\n",
       "   ['2:01.15', '1:57.86', '1:59.38', '1:57.94', '1:56.97'],\n",
       "   [12115, 11786, 11938, 11794, 11697]],\n",
       "  ['13',\n",
       "   '100m',\n",
       "   'Free',\n",
       "   9214,\n",
       "   '1:32.14',\n",
       "   ['1:32.21', '1:33.68', '1:34.10', '1:28.57'],\n",
       "   [9221, 9368, 9410, 8857]]],\n",
       " 'Erika': [['15',\n",
       "   '100m',\n",
       "   'Breast',\n",
       "   9417.75,\n",
       "   '1:34.18',\n",
       "   ['1:36.72',\n",
       "    '1:34.78',\n",
       "    '1:34.05',\n",
       "    '1:32.78',\n",
       "    '1:33.51',\n",
       "    '1:33.29',\n",
       "    '1:36.47',\n",
       "    '1:31.82'],\n",
       "   [9672, 9478, 9405, 9278, 9351, 9329, 9647, 9182]],\n",
       "  ['15',\n",
       "   '100m',\n",
       "   'Free',\n",
       "   7882,\n",
       "   '1:18.82',\n",
       "   ['1:19.04', '1:15.88', '1:18.62', '1:21.74'],\n",
       "   [7904, 7588, 7862, 8174]],\n",
       "  ['15',\n",
       "   '200m',\n",
       "   'Breast',\n",
       "   21093.571428571428,\n",
       "   '3:30.94',\n",
       "   ['3:27.51',\n",
       "    '3:34.70',\n",
       "    '3:27.15',\n",
       "    '3:28.45',\n",
       "    '3:34.79',\n",
       "    '3:30.21',\n",
       "    '3:33.74'],\n",
       "   [20751, 21470, 20715, 20845, 21479, 21021, 21374]]],\n",
       " 'Hannah': [['13',\n",
       "   '100m',\n",
       "   'Back',\n",
       "   9377.75,\n",
       "   '1:33.78',\n",
       "   ['1:35.75', '1:32.78', '1:34.01', '1:32.57'],\n",
       "   [9575, 9278, 9401, 9257]],\n",
       "  ['13',\n",
       "   '100m',\n",
       "   'Free',\n",
       "   8245.75,\n",
       "   '1:22.46',\n",
       "   ['1:21.43', '1:21.40', '1:21.62', '1:25.38'],\n",
       "   [8143, 8140, 8162, 8538]]],\n",
       " 'Katie': [['9',\n",
       "   '100m',\n",
       "   'Back',\n",
       "   9217,\n",
       "   '1:32.17',\n",
       "   ['1:33.36',\n",
       "    '1:31.52',\n",
       "    '1:28.10',\n",
       "    '1:33.37',\n",
       "    '1:32.89',\n",
       "    '1:33.38',\n",
       "    '1:32.03',\n",
       "    '1:32.71'],\n",
       "   [9336, 9152, 8810, 9337, 9289, 9338, 9203, 9271]],\n",
       "  ['9',\n",
       "   '100m',\n",
       "   'Breast',\n",
       "   11072.5,\n",
       "   '1:50.72',\n",
       "   ['1:50.10', '1:47.12', '1:54.65', '1:51.03'],\n",
       "   [11010, 10712, 11465, 11103]],\n",
       "  ['9',\n",
       "   '100m',\n",
       "   'Free',\n",
       "   8296.5,\n",
       "   '1:22.96',\n",
       "   ['1:20.81', '1:23.61', '1:24.80', '1:22.05', '1:22.58', '1:23.94'],\n",
       "   [8081, 8361, 8480, 8205, 8258, 8394]],\n",
       "  ['9',\n",
       "   '100m',\n",
       "   'IM',\n",
       "   9408,\n",
       "   '1:34.8',\n",
       "   ['1:32.96', '1:31.58', '1:35.96', '1:35.82'],\n",
       "   [9296, 9158, 9596, 9582]],\n",
       "  ['9',\n",
       "   '50m',\n",
       "   'Back',\n",
       "   4560.25,\n",
       "   '0:45.60',\n",
       "   ['43.25', '47.35', '46.12', '45.69'],\n",
       "   [4325, 4735, 4612, 4569]],\n",
       "  ['9',\n",
       "   '50m',\n",
       "   'Breast',\n",
       "   5342.25,\n",
       "   '0:53.42',\n",
       "   ['47.44', '52.32', '57.16', '56.77'],\n",
       "   [4744, 5232, 5716, 5677]],\n",
       "  ['9',\n",
       "   '50m',\n",
       "   'Fly',\n",
       "   4638,\n",
       "   '0:46.38',\n",
       "   ['40.11', '45.43', '50.17', '43.58', '52.61'],\n",
       "   [4011, 4543, 5017, 4358, 5261]],\n",
       "  ['9',\n",
       "   '50m',\n",
       "   'Free',\n",
       "   4033.5,\n",
       "   '0:40.34',\n",
       "   ['38.94', '37.76', '41.83', '42.81'],\n",
       "   [3894, 3776, 4183, 4281]]],\n",
       " 'Lizzie': [['14',\n",
       "   '100m',\n",
       "   'Back',\n",
       "   8919.8,\n",
       "   '1:29.20',\n",
       "   ['1:27.10', '1:26.21', '1:26.42', '1:35.79', '1:30.47'],\n",
       "   [8710, 8621, 8642, 9579, 9047]],\n",
       "  ['14',\n",
       "   '100m',\n",
       "   'Free',\n",
       "   7537.5,\n",
       "   '1:15.38',\n",
       "   ['1:21.08', '1:11.23', '1:12.46', '1:16.73'],\n",
       "   [8108, 7123, 7246, 7673]]],\n",
       " 'Maria': [['9',\n",
       "   '50m',\n",
       "   'Free',\n",
       "   4221.5,\n",
       "   '0:42.22',\n",
       "   ['45.75', '41.62', '40.49', '41.00'],\n",
       "   [4575, 4162, 4049, 4100]]],\n",
       " 'Mike': [['15',\n",
       "   '100m',\n",
       "   'Back',\n",
       "   7570.75,\n",
       "   '1:15.71',\n",
       "   ['1:19.23', '1:13.70', '1:13.96', '1:15.94'],\n",
       "   [7923, 7370, 7396, 7594]],\n",
       "  ['15',\n",
       "   '100m',\n",
       "   'Fly',\n",
       "   7059.888888888889,\n",
       "   '1:10.60',\n",
       "   ['1:14.55',\n",
       "    '1:14.15',\n",
       "    '1:08.38',\n",
       "    '1:08.74',\n",
       "    '1:10.89',\n",
       "    '1:09.47',\n",
       "    '1:09.52',\n",
       "    '1:09.86',\n",
       "    '1:09.83'],\n",
       "   [7455, 7415, 6838, 6874, 7089, 6947, 6952, 6986, 6983]],\n",
       "  ['15',\n",
       "   '100m',\n",
       "   'Free',\n",
       "   6412.857142857143,\n",
       "   '1:4.13',\n",
       "   ['1:02.52',\n",
       "    '1:02.56',\n",
       "    '1:06.41',\n",
       "    '1:07.08',\n",
       "    '1:02.56',\n",
       "    '1:03.23',\n",
       "    '1:04.54'],\n",
       "   [6252, 6256, 6641, 6708, 6256, 6323, 6454]],\n",
       "  ['15',\n",
       "   '200m',\n",
       "   'Free',\n",
       "   15162.5,\n",
       "   '2:31.62',\n",
       "   ['2:19.77', '2:41.57', '2:27.88', '2:37.28'],\n",
       "   [13977, 16157, 14788, 15728]],\n",
       "  ['15',\n",
       "   '200m',\n",
       "   'IM',\n",
       "   16646.75,\n",
       "   '2:46.47',\n",
       "   ['2:48.05', '2:44.03', '2:38.93', '2:54.86'],\n",
       "   [16805, 16403, 15893, 17486]]],\n",
       " 'Owen': [['15',\n",
       "   '100m',\n",
       "   'Free',\n",
       "   7567.25,\n",
       "   '1:15.67',\n",
       "   ['1:15.57', '1:14.40', '1:19.82', '1:12.90'],\n",
       "   [7557, 7440, 7982, 7290]]],\n",
       " 'Ruth': [['13',\n",
       "   '100m',\n",
       "   'Back',\n",
       "   7804.777777777777,\n",
       "   '1:18.5',\n",
       "   ['1:17.16',\n",
       "    '1:16.65',\n",
       "    '1:23.11',\n",
       "    '1:14.37',\n",
       "    '1:18.16',\n",
       "    '1:18.28',\n",
       "    '1:16.87',\n",
       "    '1:17.37',\n",
       "    '1:20.46'],\n",
       "   [7716, 7665, 8311, 7437, 7816, 7828, 7687, 7737, 8046]],\n",
       "  ['13',\n",
       "   '100m',\n",
       "   'Free',\n",
       "   7017.25,\n",
       "   '1:10.17',\n",
       "   ['1:07.99', '1:11.87', '1:11.08', '1:09.75'],\n",
       "   [6799, 7187, 7108, 6975]],\n",
       "  ['13',\n",
       "   '200m',\n",
       "   'Back',\n",
       "   16583.6,\n",
       "   '2:45.84',\n",
       "   ['2:56.68', '2:42.63', '2:40.90', '2:42.88', '2:46.09'],\n",
       "   [17668, 16263, 16090, 16288, 16609]],\n",
       "  ['13',\n",
       "   '200m',\n",
       "   'Free',\n",
       "   14724.666666666666,\n",
       "   '2:27.25',\n",
       "   ['2:22.64', '2:28.16', '2:28.38', '2:25.08', '2:25.64', '2:33.58'],\n",
       "   [14264, 14816, 14838, 14508, 14564, 15358]],\n",
       "  ['13',\n",
       "   '400m',\n",
       "   'Free',\n",
       "   30978.85714285714,\n",
       "   '5:9.79',\n",
       "   ['5:11.32',\n",
       "    '5:04.12',\n",
       "    '5:20.67',\n",
       "    '5:08.31',\n",
       "    '5:04.32',\n",
       "    '5:06.77',\n",
       "    '5:13.01'],\n",
       "   [31132, 30412, 32067, 30831, 30432, 30677, 31301]]],\n",
       " 'Tasmin': [['15',\n",
       "   '100m',\n",
       "   'Back',\n",
       "   7814,\n",
       "   '1:18.14',\n",
       "   ['1:19.63', '1:16.69', '1:19.68', '1:16.56'],\n",
       "   [7963, 7669, 7968, 7656]],\n",
       "  ['15',\n",
       "   '100m',\n",
       "   'Breast',\n",
       "   8329.5,\n",
       "   '1:23.30',\n",
       "   ['1:20.59', '1:26.48', '1:24.15', '1:21.96'],\n",
       "   [8059, 8648, 8415, 8196]],\n",
       "  ['15',\n",
       "   '100m',\n",
       "   'Free',\n",
       "   6990.5,\n",
       "   '1:9.90',\n",
       "   ['1:08.87',\n",
       "    '1:07.34',\n",
       "    '1:11.00',\n",
       "    '1:08.62',\n",
       "    '1:10.94',\n",
       "    '1:09.52',\n",
       "    '1:12.04',\n",
       "    '1:10.91'],\n",
       "   [6887, 6734, 7100, 6862, 7094, 6952, 7204, 7091]],\n",
       "  ['15',\n",
       "   '200m',\n",
       "   'Breast',\n",
       "   17953.5,\n",
       "   '2:59.54',\n",
       "   ['2:54.14', '3:03.58', '3:02.43', '2:57.99'],\n",
       "   [17414, 18358, 18243, 17799]]]}"
      ]
     },
     "execution_count": 76,
     "metadata": {},
     "output_type": "execute_result"
    }
   ],
   "source": [
    "swimmers"
   ]
  },
  {
   "cell_type": "code",
   "execution_count": 79,
   "metadata": {},
   "outputs": [
    {
     "name": "stdout",
     "output_type": "stream",
     "text": [
      "{'Abi': [['10',\n",
      "          '100m',\n",
      "          'Back',\n",
      "          9181,\n",
      "          '1:31.81',\n",
      "          ['1:31.59', '1:26.55', '1:28.75', '1:39.79', '1:32.37'],\n",
      "          [9159, 8655, 8875, 9979, 9237]],\n",
      "         ['10',\n",
      "          '100m',\n",
      "          'Breast',\n",
      "          10253,\n",
      "          '1:42.53',\n",
      "          ['1:42.97', '1:43.31', '1:43.50', '1:40.34'],\n",
      "          [10297, 10331, 10350, 10034]],\n",
      "         ['10',\n",
      "          '50m',\n",
      "          'Back',\n",
      "          4142.6,\n",
      "          '0:41.43',\n",
      "          ['41.50',\n",
      "           '43.58',\n",
      "           '42.35',\n",
      "           '43.35',\n",
      "           '39.85',\n",
      "           '40.53',\n",
      "           '42.14',\n",
      "           '39.18',\n",
      "           '40.89',\n",
      "           '40.89'],\n",
      "          [4150, 4358, 4235, 4335, 3985, 4053, 4214, 3918, 4089, 4089]],\n",
      "         ['10',\n",
      "          '50m',\n",
      "          'Breast',\n",
      "          4853.9,\n",
      "          '0:48.54',\n",
      "          ['48.08',\n",
      "           '53.17',\n",
      "           '45.76',\n",
      "           '49.28',\n",
      "           '52.85',\n",
      "           '46.19',\n",
      "           '47.76',\n",
      "           '48.83',\n",
      "           '45.71',\n",
      "           '47.76'],\n",
      "          [4808, 5317, 4576, 4928, 5285, 4619, 4776, 4883, 4571, 4776]],\n",
      "         ['10',\n",
      "          '50m',\n",
      "          'Free',\n",
      "          3807,\n",
      "          '0:38.7',\n",
      "          ['39.07', '37.66', '36.13', '39.42'],\n",
      "          [3907, 3766, 3613, 3942]]],\n",
      " 'Ali': [['12',\n",
      "          '100m',\n",
      "          'Back',\n",
      "          9949,\n",
      "          '1:39.49',\n",
      "          ['1:36.54', '1:39.10', '1:39.45', '1:42.87'],\n",
      "          [9654, 9910, 9945, 10287]],\n",
      "         ['12',\n",
      "          '100m',\n",
      "          'Free',\n",
      "          8441.714285714286,\n",
      "          '1:24.42',\n",
      "          ['1:27.31',\n",
      "           '1:27.00',\n",
      "           '1:27.46',\n",
      "           '1:22.50',\n",
      "           '1:20.39',\n",
      "           '1:26.04',\n",
      "           '1:20.22'],\n",
      "          [8731, 8700, 8746, 8250, 8039, 8604, 8022]]],\n",
      " 'Alison': [['14',\n",
      "             '100m',\n",
      "             'Breast',\n",
      "             9669.777777777777,\n",
      "             '1:36.70',\n",
      "             ['1:34.71',\n",
      "              '1:37.87',\n",
      "              '1:35.15',\n",
      "              '1:37.20',\n",
      "              '1:36.29',\n",
      "              '1:36.00',\n",
      "              '1:35.63',\n",
      "              '1:35.42',\n",
      "              '1:42.01'],\n",
      "             [9471, 9787, 9515, 9720, 9629, 9600, 9563, 9542, 10201]],\n",
      "            ['14',\n",
      "             '100m',\n",
      "             'Free',\n",
      "             7287.7,\n",
      "             '1:12.88',\n",
      "             ['1:13.86',\n",
      "              '1:12.00',\n",
      "              '1:14.69',\n",
      "              '1:10.01',\n",
      "              '1:12.24',\n",
      "              '1:11.00',\n",
      "              '1:11.20',\n",
      "              '1:12.28',\n",
      "              '1:15.46',\n",
      "              '1:16.03'],\n",
      "             [7386, 7200, 7469, 7001, 7224, 7100, 7120, 7228, 7546, 7603]]],\n",
      " 'Aurora': [['13',\n",
      "             '50m',\n",
      "             'Free',\n",
      "             2989.4285714285716,\n",
      "             '0:29.89',\n",
      "             ['30.05', '30.21', '28.86', '30.65', '30.03', '29.64', '29.82'],\n",
      "             [3005, 3021, 2886, 3065, 3003, 2964, 2982]]],\n",
      " 'Bill': [['18',\n",
      "           '100m',\n",
      "           'Back',\n",
      "           6718,\n",
      "           '1:7.18',\n",
      "           ['1:11.34', '1:05.81', '1:05.75', '1:05.82'],\n",
      "           [7134, 6581, 6575, 6582]],\n",
      "          ['18',\n",
      "           '200m',\n",
      "           'Back',\n",
      "           14602,\n",
      "           '2:26.2',\n",
      "           ['2:29.06', '2:21.49', '2:24.13', '2:29.40'],\n",
      "           [14906, 14149, 14413, 14940]]],\n",
      " 'Blake': [['15',\n",
      "            '100m',\n",
      "            'Back',\n",
      "            7479.8,\n",
      "            '1:14.80',\n",
      "            ['1:12.71', '1:19.87', '1:14.94', '1:11.53', '1:14.94'],\n",
      "            [7271, 7987, 7494, 7153, 7494]],\n",
      "           ['15',\n",
      "            '100m',\n",
      "            'Fly',\n",
      "            7106,\n",
      "            '1:11.6',\n",
      "            ['1:11.49', '1:10.16', '1:12.59', '1:11.63', '1:09.43'],\n",
      "            [7149, 7016, 7259, 7163, 6943]],\n",
      "           ['15',\n",
      "            '100m',\n",
      "            'Free',\n",
      "            6375.714285714285,\n",
      "            '1:3.76',\n",
      "            ['1:02.13',\n",
      "             '1:03.25',\n",
      "             '1:04.16',\n",
      "             '1:03.17',\n",
      "             '1:04.84',\n",
      "             '1:03.88',\n",
      "             '1:04.87'],\n",
      "            [6213, 6325, 6416, 6317, 6484, 6388, 6487]]],\n",
      " 'Calvin': [['9',\n",
      "             '50m',\n",
      "             'Back',\n",
      "             4001.818181818182,\n",
      "             '0:40.2',\n",
      "             ['38.79',\n",
      "              '39.03',\n",
      "              '41.29',\n",
      "              '39.66',\n",
      "              '41.13',\n",
      "              '38.57',\n",
      "              '39.40',\n",
      "              '41.06',\n",
      "              '40.37',\n",
      "              '43.05',\n",
      "              '37.85'],\n",
      "             [3879,\n",
      "              3903,\n",
      "              4129,\n",
      "              3966,\n",
      "              4113,\n",
      "              3857,\n",
      "              3940,\n",
      "              4106,\n",
      "              4037,\n",
      "              4305,\n",
      "              3785]],\n",
      "            ['9',\n",
      "             '50m',\n",
      "             'Fly',\n",
      "             3973.090909090909,\n",
      "             '0:39.73',\n",
      "             ['39.47',\n",
      "              '37.30',\n",
      "              '41.90',\n",
      "              '42.85',\n",
      "              '39.90',\n",
      "              '38.66',\n",
      "              '38.84',\n",
      "              '37.65',\n",
      "              '39.68',\n",
      "              '37.18',\n",
      "              '43.61'],\n",
      "             [3947,\n",
      "              3730,\n",
      "              4190,\n",
      "              4285,\n",
      "              3990,\n",
      "              3866,\n",
      "              3884,\n",
      "              3765,\n",
      "              3968,\n",
      "              3718,\n",
      "              4361]],\n",
      "            ['9',\n",
      "             '50m',\n",
      "             'Free',\n",
      "             3554.5,\n",
      "             '0:35.54',\n",
      "             ['35.78', '36.19', '36.89', '34.29', '34.18', '35.94'],\n",
      "             [3578, 3619, 3689, 3429, 3418, 3594]]],\n",
      " 'Carl': [['15',\n",
      "           '100m',\n",
      "           'Back',\n",
      "           8721.25,\n",
      "           '1:27.21',\n",
      "           ['1:29.78', '1:28.38', '1:25.03', '1:25.66'],\n",
      "           [8978, 8838, 8503, 8566]]],\n",
      " 'Chris': [['17',\n",
      "            '100m',\n",
      "            'Back',\n",
      "            8267,\n",
      "            '1:22.67',\n",
      "            ['1:21.76', '1:23.32', '1:24.09', '1:21.51'],\n",
      "            [8176, 8332, 8409, 8151]],\n",
      "           ['17',\n",
      "            '100m',\n",
      "            'Breast',\n",
      "            8888.75,\n",
      "            '1:28.89',\n",
      "            ['1:28.86', '1:29.90', '1:28.12', '1:28.67'],\n",
      "            [8886, 8990, 8812, 8867]]],\n",
      " 'Darius': [['13',\n",
      "             '100m',\n",
      "             'Back',\n",
      "             8410.75,\n",
      "             '1:24.11',\n",
      "             ['1:22.57', '1:29.64', '1:20.39', '1:23.83'],\n",
      "             [8257, 8964, 8039, 8383]],\n",
      "            ['13',\n",
      "             '100m',\n",
      "             'Breast',\n",
      "             9204.125,\n",
      "             '1:32.4',\n",
      "             ['1:30.24',\n",
      "              '1:33.18',\n",
      "              '1:32.73',\n",
      "              '1:33.05',\n",
      "              '1:30.81',\n",
      "              '1:31.74',\n",
      "              '1:31.53',\n",
      "              '1:33.05'],\n",
      "             [9024, 9318, 9273, 9305, 9081, 9174, 9153, 9305]],\n",
      "            ['13',\n",
      "             '100m',\n",
      "             'Fly',\n",
      "             8657.5,\n",
      "             '1:26.58',\n",
      "             ['1:27.95', '1:21.07', '1:30.96', '1:23.22', '1:27.95', '1:28.30'],\n",
      "             [8795, 8107, 9096, 8322, 8795, 8830]],\n",
      "            ['13',\n",
      "             '200m',\n",
      "             'IM',\n",
      "             18126.2,\n",
      "             '3:1.26',\n",
      "             ['3:03.84', '3:04.27', '3:01.49', '3:04.27', '2:52.44'],\n",
      "             [18384, 18427, 18149, 18427, 17244]]],\n",
      " 'Dave': [['17',\n",
      "           '100m',\n",
      "           'Free',\n",
      "           5920.8,\n",
      "           '0:59.21',\n",
      "           ['59.21', '59.27', '58.67', '59.72', '59.17'],\n",
      "           [5921, 5927, 5867, 5972, 5917]],\n",
      "          ['17',\n",
      "           '200m',\n",
      "           'Back',\n",
      "           15198.75,\n",
      "           '2:31.99',\n",
      "           ['2:35.46', '2:28.30', '2:35.35', '2:28.84'],\n",
      "           [15546, 14830, 15535, 14884]]],\n",
      " 'Elba': [['14',\n",
      "           '100m',\n",
      "           'Free',\n",
      "           6609.5,\n",
      "           '1:6.10',\n",
      "           ['1:06.01', '1:06.93', '1:05.34', '1:06.10'],\n",
      "           [6601, 6693, 6534, 6610]]],\n",
      " 'Emma': [['13',\n",
      "           '100m',\n",
      "           'Breast',\n",
      "           11866,\n",
      "           '1:58.66',\n",
      "           ['2:01.15', '1:57.86', '1:59.38', '1:57.94', '1:56.97'],\n",
      "           [12115, 11786, 11938, 11794, 11697]],\n",
      "          ['13',\n",
      "           '100m',\n",
      "           'Free',\n",
      "           9214,\n",
      "           '1:32.14',\n",
      "           ['1:32.21', '1:33.68', '1:34.10', '1:28.57'],\n",
      "           [9221, 9368, 9410, 8857]]],\n",
      " 'Erika': [['15',\n",
      "            '100m',\n",
      "            'Breast',\n",
      "            9417.75,\n",
      "            '1:34.18',\n",
      "            ['1:36.72',\n",
      "             '1:34.78',\n",
      "             '1:34.05',\n",
      "             '1:32.78',\n",
      "             '1:33.51',\n",
      "             '1:33.29',\n",
      "             '1:36.47',\n",
      "             '1:31.82'],\n",
      "            [9672, 9478, 9405, 9278, 9351, 9329, 9647, 9182]],\n",
      "           ['15',\n",
      "            '100m',\n",
      "            'Free',\n",
      "            7882,\n",
      "            '1:18.82',\n",
      "            ['1:19.04', '1:15.88', '1:18.62', '1:21.74'],\n",
      "            [7904, 7588, 7862, 8174]],\n",
      "           ['15',\n",
      "            '200m',\n",
      "            'Breast',\n",
      "            21093.571428571428,\n",
      "            '3:30.94',\n",
      "            ['3:27.51',\n",
      "             '3:34.70',\n",
      "             '3:27.15',\n",
      "             '3:28.45',\n",
      "             '3:34.79',\n",
      "             '3:30.21',\n",
      "             '3:33.74'],\n",
      "            [20751, 21470, 20715, 20845, 21479, 21021, 21374]]],\n",
      " 'Hannah': [['13',\n",
      "             '100m',\n",
      "             'Back',\n",
      "             9377.75,\n",
      "             '1:33.78',\n",
      "             ['1:35.75', '1:32.78', '1:34.01', '1:32.57'],\n",
      "             [9575, 9278, 9401, 9257]],\n",
      "            ['13',\n",
      "             '100m',\n",
      "             'Free',\n",
      "             8245.75,\n",
      "             '1:22.46',\n",
      "             ['1:21.43', '1:21.40', '1:21.62', '1:25.38'],\n",
      "             [8143, 8140, 8162, 8538]]],\n",
      " 'Katie': [['9',\n",
      "            '100m',\n",
      "            'Back',\n",
      "            9217,\n",
      "            '1:32.17',\n",
      "            ['1:33.36',\n",
      "             '1:31.52',\n",
      "             '1:28.10',\n",
      "             '1:33.37',\n",
      "             '1:32.89',\n",
      "             '1:33.38',\n",
      "             '1:32.03',\n",
      "             '1:32.71'],\n",
      "            [9336, 9152, 8810, 9337, 9289, 9338, 9203, 9271]],\n",
      "           ['9',\n",
      "            '100m',\n",
      "            'Breast',\n",
      "            11072.5,\n",
      "            '1:50.72',\n",
      "            ['1:50.10', '1:47.12', '1:54.65', '1:51.03'],\n",
      "            [11010, 10712, 11465, 11103]],\n",
      "           ['9',\n",
      "            '100m',\n",
      "            'Free',\n",
      "            8296.5,\n",
      "            '1:22.96',\n",
      "            ['1:20.81', '1:23.61', '1:24.80', '1:22.05', '1:22.58', '1:23.94'],\n",
      "            [8081, 8361, 8480, 8205, 8258, 8394]],\n",
      "           ['9',\n",
      "            '100m',\n",
      "            'IM',\n",
      "            9408,\n",
      "            '1:34.8',\n",
      "            ['1:32.96', '1:31.58', '1:35.96', '1:35.82'],\n",
      "            [9296, 9158, 9596, 9582]],\n",
      "           ['9',\n",
      "            '50m',\n",
      "            'Back',\n",
      "            4560.25,\n",
      "            '0:45.60',\n",
      "            ['43.25', '47.35', '46.12', '45.69'],\n",
      "            [4325, 4735, 4612, 4569]],\n",
      "           ['9',\n",
      "            '50m',\n",
      "            'Breast',\n",
      "            5342.25,\n",
      "            '0:53.42',\n",
      "            ['47.44', '52.32', '57.16', '56.77'],\n",
      "            [4744, 5232, 5716, 5677]],\n",
      "           ['9',\n",
      "            '50m',\n",
      "            'Fly',\n",
      "            4638,\n",
      "            '0:46.38',\n",
      "            ['40.11', '45.43', '50.17', '43.58', '52.61'],\n",
      "            [4011, 4543, 5017, 4358, 5261]],\n",
      "           ['9',\n",
      "            '50m',\n",
      "            'Free',\n",
      "            4033.5,\n",
      "            '0:40.34',\n",
      "            ['38.94', '37.76', '41.83', '42.81'],\n",
      "            [3894, 3776, 4183, 4281]]],\n",
      " 'Lizzie': [['14',\n",
      "             '100m',\n",
      "             'Back',\n",
      "             8919.8,\n",
      "             '1:29.20',\n",
      "             ['1:27.10', '1:26.21', '1:26.42', '1:35.79', '1:30.47'],\n",
      "             [8710, 8621, 8642, 9579, 9047]],\n",
      "            ['14',\n",
      "             '100m',\n",
      "             'Free',\n",
      "             7537.5,\n",
      "             '1:15.38',\n",
      "             ['1:21.08', '1:11.23', '1:12.46', '1:16.73'],\n",
      "             [8108, 7123, 7246, 7673]]],\n",
      " 'Maria': [['9',\n",
      "            '50m',\n",
      "            'Free',\n",
      "            4221.5,\n",
      "            '0:42.22',\n",
      "            ['45.75', '41.62', '40.49', '41.00'],\n",
      "            [4575, 4162, 4049, 4100]]],\n",
      " 'Mike': [['15',\n",
      "           '100m',\n",
      "           'Back',\n",
      "           7570.75,\n",
      "           '1:15.71',\n",
      "           ['1:19.23', '1:13.70', '1:13.96', '1:15.94'],\n",
      "           [7923, 7370, 7396, 7594]],\n",
      "          ['15',\n",
      "           '100m',\n",
      "           'Fly',\n",
      "           7059.888888888889,\n",
      "           '1:10.60',\n",
      "           ['1:14.55',\n",
      "            '1:14.15',\n",
      "            '1:08.38',\n",
      "            '1:08.74',\n",
      "            '1:10.89',\n",
      "            '1:09.47',\n",
      "            '1:09.52',\n",
      "            '1:09.86',\n",
      "            '1:09.83'],\n",
      "           [7455, 7415, 6838, 6874, 7089, 6947, 6952, 6986, 6983]],\n",
      "          ['15',\n",
      "           '100m',\n",
      "           'Free',\n",
      "           6412.857142857143,\n",
      "           '1:4.13',\n",
      "           ['1:02.52',\n",
      "            '1:02.56',\n",
      "            '1:06.41',\n",
      "            '1:07.08',\n",
      "            '1:02.56',\n",
      "            '1:03.23',\n",
      "            '1:04.54'],\n",
      "           [6252, 6256, 6641, 6708, 6256, 6323, 6454]],\n",
      "          ['15',\n",
      "           '200m',\n",
      "           'Free',\n",
      "           15162.5,\n",
      "           '2:31.62',\n",
      "           ['2:19.77', '2:41.57', '2:27.88', '2:37.28'],\n",
      "           [13977, 16157, 14788, 15728]],\n",
      "          ['15',\n",
      "           '200m',\n",
      "           'IM',\n",
      "           16646.75,\n",
      "           '2:46.47',\n",
      "           ['2:48.05', '2:44.03', '2:38.93', '2:54.86'],\n",
      "           [16805, 16403, 15893, 17486]]],\n",
      " 'Owen': [['15',\n",
      "           '100m',\n",
      "           'Free',\n",
      "           7567.25,\n",
      "           '1:15.67',\n",
      "           ['1:15.57', '1:14.40', '1:19.82', '1:12.90'],\n",
      "           [7557, 7440, 7982, 7290]]],\n",
      " 'Ruth': [['13',\n",
      "           '100m',\n",
      "           'Back',\n",
      "           7804.777777777777,\n",
      "           '1:18.5',\n",
      "           ['1:17.16',\n",
      "            '1:16.65',\n",
      "            '1:23.11',\n",
      "            '1:14.37',\n",
      "            '1:18.16',\n",
      "            '1:18.28',\n",
      "            '1:16.87',\n",
      "            '1:17.37',\n",
      "            '1:20.46'],\n",
      "           [7716, 7665, 8311, 7437, 7816, 7828, 7687, 7737, 8046]],\n",
      "          ['13',\n",
      "           '100m',\n",
      "           'Free',\n",
      "           7017.25,\n",
      "           '1:10.17',\n",
      "           ['1:07.99', '1:11.87', '1:11.08', '1:09.75'],\n",
      "           [6799, 7187, 7108, 6975]],\n",
      "          ['13',\n",
      "           '200m',\n",
      "           'Back',\n",
      "           16583.6,\n",
      "           '2:45.84',\n",
      "           ['2:56.68', '2:42.63', '2:40.90', '2:42.88', '2:46.09'],\n",
      "           [17668, 16263, 16090, 16288, 16609]],\n",
      "          ['13',\n",
      "           '200m',\n",
      "           'Free',\n",
      "           14724.666666666666,\n",
      "           '2:27.25',\n",
      "           ['2:22.64', '2:28.16', '2:28.38', '2:25.08', '2:25.64', '2:33.58'],\n",
      "           [14264, 14816, 14838, 14508, 14564, 15358]],\n",
      "          ['13',\n",
      "           '400m',\n",
      "           'Free',\n",
      "           30978.85714285714,\n",
      "           '5:9.79',\n",
      "           ['5:11.32',\n",
      "            '5:04.12',\n",
      "            '5:20.67',\n",
      "            '5:08.31',\n",
      "            '5:04.32',\n",
      "            '5:06.77',\n",
      "            '5:13.01'],\n",
      "           [31132, 30412, 32067, 30831, 30432, 30677, 31301]]],\n",
      " 'Tasmin': [['15',\n",
      "             '100m',\n",
      "             'Back',\n",
      "             7814,\n",
      "             '1:18.14',\n",
      "             ['1:19.63', '1:16.69', '1:19.68', '1:16.56'],\n",
      "             [7963, 7669, 7968, 7656]],\n",
      "            ['15',\n",
      "             '100m',\n",
      "             'Breast',\n",
      "             8329.5,\n",
      "             '1:23.30',\n",
      "             ['1:20.59', '1:26.48', '1:24.15', '1:21.96'],\n",
      "             [8059, 8648, 8415, 8196]],\n",
      "            ['15',\n",
      "             '100m',\n",
      "             'Free',\n",
      "             6990.5,\n",
      "             '1:9.90',\n",
      "             ['1:08.87',\n",
      "              '1:07.34',\n",
      "              '1:11.00',\n",
      "              '1:08.62',\n",
      "              '1:10.94',\n",
      "              '1:09.52',\n",
      "              '1:12.04',\n",
      "              '1:10.91'],\n",
      "             [6887, 6734, 7100, 6862, 7094, 6952, 7204, 7091]],\n",
      "            ['15',\n",
      "             '200m',\n",
      "             'Breast',\n",
      "             17953.5,\n",
      "             '2:59.54',\n",
      "             ['2:54.14', '3:03.58', '3:02.43', '2:57.99'],\n",
      "             [17414, 18358, 18243, 17799]]]}\n"
     ]
    }
   ],
   "source": [
    "import pprint\n",
    "pprint.pprint(swimmers)"
   ]
  },
  {
   "cell_type": "markdown",
   "metadata": {},
   "source": [
    "We now have a dictionary of lists."
   ]
  },
  {
   "cell_type": "code",
   "execution_count": 80,
   "metadata": {},
   "outputs": [
    {
     "data": {
      "text/plain": [
       "[['14',\n",
       "  '100m',\n",
       "  'Breast',\n",
       "  9669.777777777777,\n",
       "  '1:36.70',\n",
       "  ['1:34.71',\n",
       "   '1:37.87',\n",
       "   '1:35.15',\n",
       "   '1:37.20',\n",
       "   '1:36.29',\n",
       "   '1:36.00',\n",
       "   '1:35.63',\n",
       "   '1:35.42',\n",
       "   '1:42.01'],\n",
       "  [9471, 9787, 9515, 9720, 9629, 9600, 9563, 9542, 10201]],\n",
       " ['14',\n",
       "  '100m',\n",
       "  'Free',\n",
       "  7287.7,\n",
       "  '1:12.88',\n",
       "  ['1:13.86',\n",
       "   '1:12.00',\n",
       "   '1:14.69',\n",
       "   '1:10.01',\n",
       "   '1:12.24',\n",
       "   '1:11.00',\n",
       "   '1:11.20',\n",
       "   '1:12.28',\n",
       "   '1:15.46',\n",
       "   '1:16.03'],\n",
       "  [7386, 7200, 7469, 7001, 7224, 7100, 7120, 7228, 7546, 7603]]]"
      ]
     },
     "execution_count": 80,
     "metadata": {},
     "output_type": "execute_result"
    }
   ],
   "source": [
    "swimmers[\"Alison\"]"
   ]
  },
  {
   "cell_type": "code",
   "execution_count": 82,
   "metadata": {},
   "outputs": [
    {
     "data": {
      "text/plain": [
       "'100m'"
      ]
     },
     "execution_count": 82,
     "metadata": {},
     "output_type": "execute_result"
    }
   ],
   "source": [
    "swimmers[\"Alison\"][0][1]"
   ]
  },
  {
   "cell_type": "code",
   "execution_count": 83,
   "metadata": {},
   "outputs": [
    {
     "data": {
      "text/plain": [
       "'Breast'"
      ]
     },
     "execution_count": 83,
     "metadata": {},
     "output_type": "execute_result"
    }
   ],
   "source": [
    "swimmers[\"Alison\"][0][2]"
   ]
  },
  {
   "cell_type": "code",
   "execution_count": 84,
   "metadata": {},
   "outputs": [
    {
     "data": {
      "text/plain": [
       "'100m'"
      ]
     },
     "execution_count": 84,
     "metadata": {},
     "output_type": "execute_result"
    }
   ],
   "source": [
    "swimmers[\"Alison\"][1][1]"
   ]
  },
  {
   "cell_type": "code",
   "execution_count": 85,
   "metadata": {},
   "outputs": [
    {
     "data": {
      "text/plain": [
       "'Free'"
      ]
     },
     "execution_count": 85,
     "metadata": {},
     "output_type": "execute_result"
    }
   ],
   "source": [
    "swimmers[\"Alison\"][1][2]"
   ]
  },
  {
   "cell_type": "code",
   "execution_count": 87,
   "metadata": {},
   "outputs": [],
   "source": [
    "## swimmers[\"Alison\"][0][\"stroke\"]"
   ]
  },
  {
   "cell_type": "code",
   "execution_count": 88,
   "metadata": {},
   "outputs": [],
   "source": [
    "# swimmers = {} # produces dict of lists wich contain lists.\n",
    "# for file in files :\n",
    "#     name, *data = swimclub.get_swim_data(file)\n",
    "#     if not name in swimmers:\n",
    "#         swimmers[name] = []\n",
    "#     swimmers[name].append(data)\n",
    "\n",
    "# What we want is a dictionary of lists wich contain dictionaries"
   ]
  },
  {
   "cell_type": "code",
   "execution_count": 90,
   "metadata": {},
   "outputs": [],
   "source": [
    "keys = [\"one\", \"two\", \"three\"]\n",
    "values = [1, 2, 3]"
   ]
  },
  {
   "cell_type": "code",
   "execution_count": 91,
   "metadata": {},
   "outputs": [
    {
     "data": {
      "text/plain": [
       "['one', 'two', 'three']"
      ]
     },
     "execution_count": 91,
     "metadata": {},
     "output_type": "execute_result"
    }
   ],
   "source": [
    "keys"
   ]
  },
  {
   "cell_type": "code",
   "execution_count": 92,
   "metadata": {},
   "outputs": [
    {
     "data": {
      "text/plain": [
       "[1, 2, 3]"
      ]
     },
     "execution_count": 92,
     "metadata": {},
     "output_type": "execute_result"
    }
   ],
   "source": [
    "values"
   ]
  },
  {
   "cell_type": "code",
   "execution_count": 93,
   "metadata": {},
   "outputs": [
    {
     "data": {
      "text/plain": [
       "[('one', 1), ('two', 2), ('three', 3)]"
      ]
     },
     "execution_count": 93,
     "metadata": {},
     "output_type": "execute_result"
    }
   ],
   "source": [
    "list(zip(keys, values))"
   ]
  },
  {
   "cell_type": "code",
   "execution_count": 94,
   "metadata": {},
   "outputs": [],
   "source": [
    "numbers = {}\n",
    "for k, v in zip(keys, values) :\n",
    "    numbers[k] = v"
   ]
  },
  {
   "cell_type": "code",
   "execution_count": 95,
   "metadata": {},
   "outputs": [
    {
     "data": {
      "text/plain": [
       "{'one': 1, 'two': 2, 'three': 3}"
      ]
     },
     "execution_count": 95,
     "metadata": {},
     "output_type": "execute_result"
    }
   ],
   "source": [
    "numbers"
   ]
  },
  {
   "cell_type": "code",
   "execution_count": 96,
   "metadata": {},
   "outputs": [],
   "source": [
    "numbers2 = { k: v for k,v in zip(keys, values)}"
   ]
  },
  {
   "cell_type": "code",
   "execution_count": 97,
   "metadata": {},
   "outputs": [
    {
     "data": {
      "text/plain": [
       "{'one': 1, 'two': 2, 'three': 3}"
      ]
     },
     "execution_count": 97,
     "metadata": {},
     "output_type": "execute_result"
    }
   ],
   "source": [
    "numbers2"
   ]
  },
  {
   "cell_type": "code",
   "execution_count": 98,
   "metadata": {},
   "outputs": [],
   "source": [
    "keys = [\"age\", \"distance\", \"stroke\", \"average\", \"average_str\", \"times\", \"converts\"]"
   ]
  },
  {
   "cell_type": "code",
   "execution_count": 99,
   "metadata": {},
   "outputs": [],
   "source": [
    "katie = { k: v for k, v in zip(keys, data) }"
   ]
  },
  {
   "cell_type": "code",
   "execution_count": 100,
   "metadata": {},
   "outputs": [
    {
     "data": {
      "text/plain": [
       "{'age': '15',\n",
       " 'distance': '200m',\n",
       " 'stroke': 'Breast',\n",
       " 'average': 17953.5,\n",
       " 'average_str': '2:59.54',\n",
       " 'times': ['2:54.14', '3:03.58', '3:02.43', '2:57.99'],\n",
       " 'converts': [17414, 18358, 18243, 17799]}"
      ]
     },
     "execution_count": 100,
     "metadata": {},
     "output_type": "execute_result"
    }
   ],
   "source": [
    "katie"
   ]
  },
  {
   "cell_type": "code",
   "execution_count": 107,
   "metadata": {},
   "outputs": [],
   "source": [
    "swimmers = {}\n",
    "keys = [\"age\", \"distance\", \"stroke\", \"average\", \"average_str\", \"times\", \"converts\"]\n",
    "for file in files :\n",
    "    name, *data = swimclub.get_swim_data(file)\n",
    "    if not name in swimmers:\n",
    "        swimmers[name] = []\n",
    "    swimmers[name].append( { k: v for k, v in zip(keys, data) } )\n",
    "# We now have a dictionary wich contains a list of dictionaries"
   ]
  },
  {
   "cell_type": "code",
   "execution_count": 108,
   "metadata": {},
   "outputs": [
    {
     "data": {
      "text/plain": [
       "'Back'"
      ]
     },
     "execution_count": 108,
     "metadata": {},
     "output_type": "execute_result"
    }
   ],
   "source": [
    "swimmers[\"Abi\"][0][\"stroke\"]"
   ]
  },
  {
   "cell_type": "code",
   "execution_count": 109,
   "metadata": {},
   "outputs": [
    {
     "data": {
      "text/plain": [
       "'100m'"
      ]
     },
     "execution_count": 109,
     "metadata": {},
     "output_type": "execute_result"
    }
   ],
   "source": [
    "swimmers[\"Abi\"][0][\"distance\"]"
   ]
  },
  {
   "cell_type": "code",
   "execution_count": 110,
   "metadata": {},
   "outputs": [
    {
     "name": "stdout",
     "output_type": "stream",
     "text": [
      "{'Abi': [{'age': '10',\n",
      "          'average': 9181,\n",
      "          'average_str': '1:31.81',\n",
      "          'converts': [9159, 8655, 8875, 9979, 9237],\n",
      "          'distance': '100m',\n",
      "          'stroke': 'Back',\n",
      "          'times': ['1:31.59', '1:26.55', '1:28.75', '1:39.79', '1:32.37']},\n",
      "         {'age': '10',\n",
      "          'average': 10253,\n",
      "          'average_str': '1:42.53',\n",
      "          'converts': [10297, 10331, 10350, 10034],\n",
      "          'distance': '100m',\n",
      "          'stroke': 'Breast',\n",
      "          'times': ['1:42.97', '1:43.31', '1:43.50', '1:40.34']},\n",
      "         {'age': '10',\n",
      "          'average': 4142.6,\n",
      "          'average_str': '0:41.43',\n",
      "          'converts': [4150,\n",
      "                       4358,\n",
      "                       4235,\n",
      "                       4335,\n",
      "                       3985,\n",
      "                       4053,\n",
      "                       4214,\n",
      "                       3918,\n",
      "                       4089,\n",
      "                       4089],\n",
      "          'distance': '50m',\n",
      "          'stroke': 'Back',\n",
      "          'times': ['41.50',\n",
      "                    '43.58',\n",
      "                    '42.35',\n",
      "                    '43.35',\n",
      "                    '39.85',\n",
      "                    '40.53',\n",
      "                    '42.14',\n",
      "                    '39.18',\n",
      "                    '40.89',\n",
      "                    '40.89']},\n",
      "         {'age': '10',\n",
      "          'average': 4853.9,\n",
      "          'average_str': '0:48.54',\n",
      "          'converts': [4808,\n",
      "                       5317,\n",
      "                       4576,\n",
      "                       4928,\n",
      "                       5285,\n",
      "                       4619,\n",
      "                       4776,\n",
      "                       4883,\n",
      "                       4571,\n",
      "                       4776],\n",
      "          'distance': '50m',\n",
      "          'stroke': 'Breast',\n",
      "          'times': ['48.08',\n",
      "                    '53.17',\n",
      "                    '45.76',\n",
      "                    '49.28',\n",
      "                    '52.85',\n",
      "                    '46.19',\n",
      "                    '47.76',\n",
      "                    '48.83',\n",
      "                    '45.71',\n",
      "                    '47.76']},\n",
      "         {'age': '10',\n",
      "          'average': 3807,\n",
      "          'average_str': '0:38.7',\n",
      "          'converts': [3907, 3766, 3613, 3942],\n",
      "          'distance': '50m',\n",
      "          'stroke': 'Free',\n",
      "          'times': ['39.07', '37.66', '36.13', '39.42']}],\n",
      " 'Ali': [{'age': '12',\n",
      "          'average': 9949,\n",
      "          'average_str': '1:39.49',\n",
      "          'converts': [9654, 9910, 9945, 10287],\n",
      "          'distance': '100m',\n",
      "          'stroke': 'Back',\n",
      "          'times': ['1:36.54', '1:39.10', '1:39.45', '1:42.87']},\n",
      "         {'age': '12',\n",
      "          'average': 8441.714285714286,\n",
      "          'average_str': '1:24.42',\n",
      "          'converts': [8731, 8700, 8746, 8250, 8039, 8604, 8022],\n",
      "          'distance': '100m',\n",
      "          'stroke': 'Free',\n",
      "          'times': ['1:27.31',\n",
      "                    '1:27.00',\n",
      "                    '1:27.46',\n",
      "                    '1:22.50',\n",
      "                    '1:20.39',\n",
      "                    '1:26.04',\n",
      "                    '1:20.22']}],\n",
      " 'Alison': [{'age': '14',\n",
      "             'average': 9669.777777777777,\n",
      "             'average_str': '1:36.70',\n",
      "             'converts': [9471,\n",
      "                          9787,\n",
      "                          9515,\n",
      "                          9720,\n",
      "                          9629,\n",
      "                          9600,\n",
      "                          9563,\n",
      "                          9542,\n",
      "                          10201],\n",
      "             'distance': '100m',\n",
      "             'stroke': 'Breast',\n",
      "             'times': ['1:34.71',\n",
      "                       '1:37.87',\n",
      "                       '1:35.15',\n",
      "                       '1:37.20',\n",
      "                       '1:36.29',\n",
      "                       '1:36.00',\n",
      "                       '1:35.63',\n",
      "                       '1:35.42',\n",
      "                       '1:42.01']},\n",
      "            {'age': '14',\n",
      "             'average': 7287.7,\n",
      "             'average_str': '1:12.88',\n",
      "             'converts': [7386,\n",
      "                          7200,\n",
      "                          7469,\n",
      "                          7001,\n",
      "                          7224,\n",
      "                          7100,\n",
      "                          7120,\n",
      "                          7228,\n",
      "                          7546,\n",
      "                          7603],\n",
      "             'distance': '100m',\n",
      "             'stroke': 'Free',\n",
      "             'times': ['1:13.86',\n",
      "                       '1:12.00',\n",
      "                       '1:14.69',\n",
      "                       '1:10.01',\n",
      "                       '1:12.24',\n",
      "                       '1:11.00',\n",
      "                       '1:11.20',\n",
      "                       '1:12.28',\n",
      "                       '1:15.46',\n",
      "                       '1:16.03']}],\n",
      " 'Aurora': [{'age': '13',\n",
      "             'average': 2989.4285714285716,\n",
      "             'average_str': '0:29.89',\n",
      "             'converts': [3005, 3021, 2886, 3065, 3003, 2964, 2982],\n",
      "             'distance': '50m',\n",
      "             'stroke': 'Free',\n",
      "             'times': ['30.05',\n",
      "                       '30.21',\n",
      "                       '28.86',\n",
      "                       '30.65',\n",
      "                       '30.03',\n",
      "                       '29.64',\n",
      "                       '29.82']}],\n",
      " 'Bill': [{'age': '18',\n",
      "           'average': 6718,\n",
      "           'average_str': '1:7.18',\n",
      "           'converts': [7134, 6581, 6575, 6582],\n",
      "           'distance': '100m',\n",
      "           'stroke': 'Back',\n",
      "           'times': ['1:11.34', '1:05.81', '1:05.75', '1:05.82']},\n",
      "          {'age': '18',\n",
      "           'average': 14602,\n",
      "           'average_str': '2:26.2',\n",
      "           'converts': [14906, 14149, 14413, 14940],\n",
      "           'distance': '200m',\n",
      "           'stroke': 'Back',\n",
      "           'times': ['2:29.06', '2:21.49', '2:24.13', '2:29.40']}],\n",
      " 'Blake': [{'age': '15',\n",
      "            'average': 7479.8,\n",
      "            'average_str': '1:14.80',\n",
      "            'converts': [7271, 7987, 7494, 7153, 7494],\n",
      "            'distance': '100m',\n",
      "            'stroke': 'Back',\n",
      "            'times': ['1:12.71', '1:19.87', '1:14.94', '1:11.53', '1:14.94']},\n",
      "           {'age': '15',\n",
      "            'average': 7106,\n",
      "            'average_str': '1:11.6',\n",
      "            'converts': [7149, 7016, 7259, 7163, 6943],\n",
      "            'distance': '100m',\n",
      "            'stroke': 'Fly',\n",
      "            'times': ['1:11.49', '1:10.16', '1:12.59', '1:11.63', '1:09.43']},\n",
      "           {'age': '15',\n",
      "            'average': 6375.714285714285,\n",
      "            'average_str': '1:3.76',\n",
      "            'converts': [6213, 6325, 6416, 6317, 6484, 6388, 6487],\n",
      "            'distance': '100m',\n",
      "            'stroke': 'Free',\n",
      "            'times': ['1:02.13',\n",
      "                      '1:03.25',\n",
      "                      '1:04.16',\n",
      "                      '1:03.17',\n",
      "                      '1:04.84',\n",
      "                      '1:03.88',\n",
      "                      '1:04.87']}],\n",
      " 'Calvin': [{'age': '9',\n",
      "             'average': 4001.818181818182,\n",
      "             'average_str': '0:40.2',\n",
      "             'converts': [3879,\n",
      "                          3903,\n",
      "                          4129,\n",
      "                          3966,\n",
      "                          4113,\n",
      "                          3857,\n",
      "                          3940,\n",
      "                          4106,\n",
      "                          4037,\n",
      "                          4305,\n",
      "                          3785],\n",
      "             'distance': '50m',\n",
      "             'stroke': 'Back',\n",
      "             'times': ['38.79',\n",
      "                       '39.03',\n",
      "                       '41.29',\n",
      "                       '39.66',\n",
      "                       '41.13',\n",
      "                       '38.57',\n",
      "                       '39.40',\n",
      "                       '41.06',\n",
      "                       '40.37',\n",
      "                       '43.05',\n",
      "                       '37.85']},\n",
      "            {'age': '9',\n",
      "             'average': 3973.090909090909,\n",
      "             'average_str': '0:39.73',\n",
      "             'converts': [3947,\n",
      "                          3730,\n",
      "                          4190,\n",
      "                          4285,\n",
      "                          3990,\n",
      "                          3866,\n",
      "                          3884,\n",
      "                          3765,\n",
      "                          3968,\n",
      "                          3718,\n",
      "                          4361],\n",
      "             'distance': '50m',\n",
      "             'stroke': 'Fly',\n",
      "             'times': ['39.47',\n",
      "                       '37.30',\n",
      "                       '41.90',\n",
      "                       '42.85',\n",
      "                       '39.90',\n",
      "                       '38.66',\n",
      "                       '38.84',\n",
      "                       '37.65',\n",
      "                       '39.68',\n",
      "                       '37.18',\n",
      "                       '43.61']},\n",
      "            {'age': '9',\n",
      "             'average': 3554.5,\n",
      "             'average_str': '0:35.54',\n",
      "             'converts': [3578, 3619, 3689, 3429, 3418, 3594],\n",
      "             'distance': '50m',\n",
      "             'stroke': 'Free',\n",
      "             'times': ['35.78', '36.19', '36.89', '34.29', '34.18', '35.94']}],\n",
      " 'Carl': [{'age': '15',\n",
      "           'average': 8721.25,\n",
      "           'average_str': '1:27.21',\n",
      "           'converts': [8978, 8838, 8503, 8566],\n",
      "           'distance': '100m',\n",
      "           'stroke': 'Back',\n",
      "           'times': ['1:29.78', '1:28.38', '1:25.03', '1:25.66']}],\n",
      " 'Chris': [{'age': '17',\n",
      "            'average': 8267,\n",
      "            'average_str': '1:22.67',\n",
      "            'converts': [8176, 8332, 8409, 8151],\n",
      "            'distance': '100m',\n",
      "            'stroke': 'Back',\n",
      "            'times': ['1:21.76', '1:23.32', '1:24.09', '1:21.51']},\n",
      "           {'age': '17',\n",
      "            'average': 8888.75,\n",
      "            'average_str': '1:28.89',\n",
      "            'converts': [8886, 8990, 8812, 8867],\n",
      "            'distance': '100m',\n",
      "            'stroke': 'Breast',\n",
      "            'times': ['1:28.86', '1:29.90', '1:28.12', '1:28.67']}],\n",
      " 'Darius': [{'age': '13',\n",
      "             'average': 8410.75,\n",
      "             'average_str': '1:24.11',\n",
      "             'converts': [8257, 8964, 8039, 8383],\n",
      "             'distance': '100m',\n",
      "             'stroke': 'Back',\n",
      "             'times': ['1:22.57', '1:29.64', '1:20.39', '1:23.83']},\n",
      "            {'age': '13',\n",
      "             'average': 9204.125,\n",
      "             'average_str': '1:32.4',\n",
      "             'converts': [9024, 9318, 9273, 9305, 9081, 9174, 9153, 9305],\n",
      "             'distance': '100m',\n",
      "             'stroke': 'Breast',\n",
      "             'times': ['1:30.24',\n",
      "                       '1:33.18',\n",
      "                       '1:32.73',\n",
      "                       '1:33.05',\n",
      "                       '1:30.81',\n",
      "                       '1:31.74',\n",
      "                       '1:31.53',\n",
      "                       '1:33.05']},\n",
      "            {'age': '13',\n",
      "             'average': 8657.5,\n",
      "             'average_str': '1:26.58',\n",
      "             'converts': [8795, 8107, 9096, 8322, 8795, 8830],\n",
      "             'distance': '100m',\n",
      "             'stroke': 'Fly',\n",
      "             'times': ['1:27.95',\n",
      "                       '1:21.07',\n",
      "                       '1:30.96',\n",
      "                       '1:23.22',\n",
      "                       '1:27.95',\n",
      "                       '1:28.30']},\n",
      "            {'age': '13',\n",
      "             'average': 18126.2,\n",
      "             'average_str': '3:1.26',\n",
      "             'converts': [18384, 18427, 18149, 18427, 17244],\n",
      "             'distance': '200m',\n",
      "             'stroke': 'IM',\n",
      "             'times': ['3:03.84', '3:04.27', '3:01.49', '3:04.27', '2:52.44']}],\n",
      " 'Dave': [{'age': '17',\n",
      "           'average': 5920.8,\n",
      "           'average_str': '0:59.21',\n",
      "           'converts': [5921, 5927, 5867, 5972, 5917],\n",
      "           'distance': '100m',\n",
      "           'stroke': 'Free',\n",
      "           'times': ['59.21', '59.27', '58.67', '59.72', '59.17']},\n",
      "          {'age': '17',\n",
      "           'average': 15198.75,\n",
      "           'average_str': '2:31.99',\n",
      "           'converts': [15546, 14830, 15535, 14884],\n",
      "           'distance': '200m',\n",
      "           'stroke': 'Back',\n",
      "           'times': ['2:35.46', '2:28.30', '2:35.35', '2:28.84']}],\n",
      " 'Elba': [{'age': '14',\n",
      "           'average': 6609.5,\n",
      "           'average_str': '1:6.10',\n",
      "           'converts': [6601, 6693, 6534, 6610],\n",
      "           'distance': '100m',\n",
      "           'stroke': 'Free',\n",
      "           'times': ['1:06.01', '1:06.93', '1:05.34', '1:06.10']}],\n",
      " 'Emma': [{'age': '13',\n",
      "           'average': 11866,\n",
      "           'average_str': '1:58.66',\n",
      "           'converts': [12115, 11786, 11938, 11794, 11697],\n",
      "           'distance': '100m',\n",
      "           'stroke': 'Breast',\n",
      "           'times': ['2:01.15', '1:57.86', '1:59.38', '1:57.94', '1:56.97']},\n",
      "          {'age': '13',\n",
      "           'average': 9214,\n",
      "           'average_str': '1:32.14',\n",
      "           'converts': [9221, 9368, 9410, 8857],\n",
      "           'distance': '100m',\n",
      "           'stroke': 'Free',\n",
      "           'times': ['1:32.21', '1:33.68', '1:34.10', '1:28.57']}],\n",
      " 'Erika': [{'age': '15',\n",
      "            'average': 9417.75,\n",
      "            'average_str': '1:34.18',\n",
      "            'converts': [9672, 9478, 9405, 9278, 9351, 9329, 9647, 9182],\n",
      "            'distance': '100m',\n",
      "            'stroke': 'Breast',\n",
      "            'times': ['1:36.72',\n",
      "                      '1:34.78',\n",
      "                      '1:34.05',\n",
      "                      '1:32.78',\n",
      "                      '1:33.51',\n",
      "                      '1:33.29',\n",
      "                      '1:36.47',\n",
      "                      '1:31.82']},\n",
      "           {'age': '15',\n",
      "            'average': 7882,\n",
      "            'average_str': '1:18.82',\n",
      "            'converts': [7904, 7588, 7862, 8174],\n",
      "            'distance': '100m',\n",
      "            'stroke': 'Free',\n",
      "            'times': ['1:19.04', '1:15.88', '1:18.62', '1:21.74']},\n",
      "           {'age': '15',\n",
      "            'average': 21093.571428571428,\n",
      "            'average_str': '3:30.94',\n",
      "            'converts': [20751, 21470, 20715, 20845, 21479, 21021, 21374],\n",
      "            'distance': '200m',\n",
      "            'stroke': 'Breast',\n",
      "            'times': ['3:27.51',\n",
      "                      '3:34.70',\n",
      "                      '3:27.15',\n",
      "                      '3:28.45',\n",
      "                      '3:34.79',\n",
      "                      '3:30.21',\n",
      "                      '3:33.74']}],\n",
      " 'Hannah': [{'age': '13',\n",
      "             'average': 9377.75,\n",
      "             'average_str': '1:33.78',\n",
      "             'converts': [9575, 9278, 9401, 9257],\n",
      "             'distance': '100m',\n",
      "             'stroke': 'Back',\n",
      "             'times': ['1:35.75', '1:32.78', '1:34.01', '1:32.57']},\n",
      "            {'age': '13',\n",
      "             'average': 8245.75,\n",
      "             'average_str': '1:22.46',\n",
      "             'converts': [8143, 8140, 8162, 8538],\n",
      "             'distance': '100m',\n",
      "             'stroke': 'Free',\n",
      "             'times': ['1:21.43', '1:21.40', '1:21.62', '1:25.38']}],\n",
      " 'Katie': [{'age': '9',\n",
      "            'average': 9217,\n",
      "            'average_str': '1:32.17',\n",
      "            'converts': [9336, 9152, 8810, 9337, 9289, 9338, 9203, 9271],\n",
      "            'distance': '100m',\n",
      "            'stroke': 'Back',\n",
      "            'times': ['1:33.36',\n",
      "                      '1:31.52',\n",
      "                      '1:28.10',\n",
      "                      '1:33.37',\n",
      "                      '1:32.89',\n",
      "                      '1:33.38',\n",
      "                      '1:32.03',\n",
      "                      '1:32.71']},\n",
      "           {'age': '9',\n",
      "            'average': 11072.5,\n",
      "            'average_str': '1:50.72',\n",
      "            'converts': [11010, 10712, 11465, 11103],\n",
      "            'distance': '100m',\n",
      "            'stroke': 'Breast',\n",
      "            'times': ['1:50.10', '1:47.12', '1:54.65', '1:51.03']},\n",
      "           {'age': '9',\n",
      "            'average': 8296.5,\n",
      "            'average_str': '1:22.96',\n",
      "            'converts': [8081, 8361, 8480, 8205, 8258, 8394],\n",
      "            'distance': '100m',\n",
      "            'stroke': 'Free',\n",
      "            'times': ['1:20.81',\n",
      "                      '1:23.61',\n",
      "                      '1:24.80',\n",
      "                      '1:22.05',\n",
      "                      '1:22.58',\n",
      "                      '1:23.94']},\n",
      "           {'age': '9',\n",
      "            'average': 9408,\n",
      "            'average_str': '1:34.8',\n",
      "            'converts': [9296, 9158, 9596, 9582],\n",
      "            'distance': '100m',\n",
      "            'stroke': 'IM',\n",
      "            'times': ['1:32.96', '1:31.58', '1:35.96', '1:35.82']},\n",
      "           {'age': '9',\n",
      "            'average': 4560.25,\n",
      "            'average_str': '0:45.60',\n",
      "            'converts': [4325, 4735, 4612, 4569],\n",
      "            'distance': '50m',\n",
      "            'stroke': 'Back',\n",
      "            'times': ['43.25', '47.35', '46.12', '45.69']},\n",
      "           {'age': '9',\n",
      "            'average': 5342.25,\n",
      "            'average_str': '0:53.42',\n",
      "            'converts': [4744, 5232, 5716, 5677],\n",
      "            'distance': '50m',\n",
      "            'stroke': 'Breast',\n",
      "            'times': ['47.44', '52.32', '57.16', '56.77']},\n",
      "           {'age': '9',\n",
      "            'average': 4638,\n",
      "            'average_str': '0:46.38',\n",
      "            'converts': [4011, 4543, 5017, 4358, 5261],\n",
      "            'distance': '50m',\n",
      "            'stroke': 'Fly',\n",
      "            'times': ['40.11', '45.43', '50.17', '43.58', '52.61']},\n",
      "           {'age': '9',\n",
      "            'average': 4033.5,\n",
      "            'average_str': '0:40.34',\n",
      "            'converts': [3894, 3776, 4183, 4281],\n",
      "            'distance': '50m',\n",
      "            'stroke': 'Free',\n",
      "            'times': ['38.94', '37.76', '41.83', '42.81']}],\n",
      " 'Lizzie': [{'age': '14',\n",
      "             'average': 8919.8,\n",
      "             'average_str': '1:29.20',\n",
      "             'converts': [8710, 8621, 8642, 9579, 9047],\n",
      "             'distance': '100m',\n",
      "             'stroke': 'Back',\n",
      "             'times': ['1:27.10', '1:26.21', '1:26.42', '1:35.79', '1:30.47']},\n",
      "            {'age': '14',\n",
      "             'average': 7537.5,\n",
      "             'average_str': '1:15.38',\n",
      "             'converts': [8108, 7123, 7246, 7673],\n",
      "             'distance': '100m',\n",
      "             'stroke': 'Free',\n",
      "             'times': ['1:21.08', '1:11.23', '1:12.46', '1:16.73']}],\n",
      " 'Maria': [{'age': '9',\n",
      "            'average': 4221.5,\n",
      "            'average_str': '0:42.22',\n",
      "            'converts': [4575, 4162, 4049, 4100],\n",
      "            'distance': '50m',\n",
      "            'stroke': 'Free',\n",
      "            'times': ['45.75', '41.62', '40.49', '41.00']}],\n",
      " 'Mike': [{'age': '15',\n",
      "           'average': 7570.75,\n",
      "           'average_str': '1:15.71',\n",
      "           'converts': [7923, 7370, 7396, 7594],\n",
      "           'distance': '100m',\n",
      "           'stroke': 'Back',\n",
      "           'times': ['1:19.23', '1:13.70', '1:13.96', '1:15.94']},\n",
      "          {'age': '15',\n",
      "           'average': 7059.888888888889,\n",
      "           'average_str': '1:10.60',\n",
      "           'converts': [7455, 7415, 6838, 6874, 7089, 6947, 6952, 6986, 6983],\n",
      "           'distance': '100m',\n",
      "           'stroke': 'Fly',\n",
      "           'times': ['1:14.55',\n",
      "                     '1:14.15',\n",
      "                     '1:08.38',\n",
      "                     '1:08.74',\n",
      "                     '1:10.89',\n",
      "                     '1:09.47',\n",
      "                     '1:09.52',\n",
      "                     '1:09.86',\n",
      "                     '1:09.83']},\n",
      "          {'age': '15',\n",
      "           'average': 6412.857142857143,\n",
      "           'average_str': '1:4.13',\n",
      "           'converts': [6252, 6256, 6641, 6708, 6256, 6323, 6454],\n",
      "           'distance': '100m',\n",
      "           'stroke': 'Free',\n",
      "           'times': ['1:02.52',\n",
      "                     '1:02.56',\n",
      "                     '1:06.41',\n",
      "                     '1:07.08',\n",
      "                     '1:02.56',\n",
      "                     '1:03.23',\n",
      "                     '1:04.54']},\n",
      "          {'age': '15',\n",
      "           'average': 15162.5,\n",
      "           'average_str': '2:31.62',\n",
      "           'converts': [13977, 16157, 14788, 15728],\n",
      "           'distance': '200m',\n",
      "           'stroke': 'Free',\n",
      "           'times': ['2:19.77', '2:41.57', '2:27.88', '2:37.28']},\n",
      "          {'age': '15',\n",
      "           'average': 16646.75,\n",
      "           'average_str': '2:46.47',\n",
      "           'converts': [16805, 16403, 15893, 17486],\n",
      "           'distance': '200m',\n",
      "           'stroke': 'IM',\n",
      "           'times': ['2:48.05', '2:44.03', '2:38.93', '2:54.86']}],\n",
      " 'Owen': [{'age': '15',\n",
      "           'average': 7567.25,\n",
      "           'average_str': '1:15.67',\n",
      "           'converts': [7557, 7440, 7982, 7290],\n",
      "           'distance': '100m',\n",
      "           'stroke': 'Free',\n",
      "           'times': ['1:15.57', '1:14.40', '1:19.82', '1:12.90']}],\n",
      " 'Ruth': [{'age': '13',\n",
      "           'average': 7804.777777777777,\n",
      "           'average_str': '1:18.5',\n",
      "           'converts': [7716, 7665, 8311, 7437, 7816, 7828, 7687, 7737, 8046],\n",
      "           'distance': '100m',\n",
      "           'stroke': 'Back',\n",
      "           'times': ['1:17.16',\n",
      "                     '1:16.65',\n",
      "                     '1:23.11',\n",
      "                     '1:14.37',\n",
      "                     '1:18.16',\n",
      "                     '1:18.28',\n",
      "                     '1:16.87',\n",
      "                     '1:17.37',\n",
      "                     '1:20.46']},\n",
      "          {'age': '13',\n",
      "           'average': 7017.25,\n",
      "           'average_str': '1:10.17',\n",
      "           'converts': [6799, 7187, 7108, 6975],\n",
      "           'distance': '100m',\n",
      "           'stroke': 'Free',\n",
      "           'times': ['1:07.99', '1:11.87', '1:11.08', '1:09.75']},\n",
      "          {'age': '13',\n",
      "           'average': 16583.6,\n",
      "           'average_str': '2:45.84',\n",
      "           'converts': [17668, 16263, 16090, 16288, 16609],\n",
      "           'distance': '200m',\n",
      "           'stroke': 'Back',\n",
      "           'times': ['2:56.68', '2:42.63', '2:40.90', '2:42.88', '2:46.09']},\n",
      "          {'age': '13',\n",
      "           'average': 14724.666666666666,\n",
      "           'average_str': '2:27.25',\n",
      "           'converts': [14264, 14816, 14838, 14508, 14564, 15358],\n",
      "           'distance': '200m',\n",
      "           'stroke': 'Free',\n",
      "           'times': ['2:22.64',\n",
      "                     '2:28.16',\n",
      "                     '2:28.38',\n",
      "                     '2:25.08',\n",
      "                     '2:25.64',\n",
      "                     '2:33.58']},\n",
      "          {'age': '13',\n",
      "           'average': 30978.85714285714,\n",
      "           'average_str': '5:9.79',\n",
      "           'converts': [31132, 30412, 32067, 30831, 30432, 30677, 31301],\n",
      "           'distance': '400m',\n",
      "           'stroke': 'Free',\n",
      "           'times': ['5:11.32',\n",
      "                     '5:04.12',\n",
      "                     '5:20.67',\n",
      "                     '5:08.31',\n",
      "                     '5:04.32',\n",
      "                     '5:06.77',\n",
      "                     '5:13.01']}],\n",
      " 'Tasmin': [{'age': '15',\n",
      "             'average': 7814,\n",
      "             'average_str': '1:18.14',\n",
      "             'converts': [7963, 7669, 7968, 7656],\n",
      "             'distance': '100m',\n",
      "             'stroke': 'Back',\n",
      "             'times': ['1:19.63', '1:16.69', '1:19.68', '1:16.56']},\n",
      "            {'age': '15',\n",
      "             'average': 8329.5,\n",
      "             'average_str': '1:23.30',\n",
      "             'converts': [8059, 8648, 8415, 8196],\n",
      "             'distance': '100m',\n",
      "             'stroke': 'Breast',\n",
      "             'times': ['1:20.59', '1:26.48', '1:24.15', '1:21.96']},\n",
      "            {'age': '15',\n",
      "             'average': 6990.5,\n",
      "             'average_str': '1:9.90',\n",
      "             'converts': [6887, 6734, 7100, 6862, 7094, 6952, 7204, 7091],\n",
      "             'distance': '100m',\n",
      "             'stroke': 'Free',\n",
      "             'times': ['1:08.87',\n",
      "                       '1:07.34',\n",
      "                       '1:11.00',\n",
      "                       '1:08.62',\n",
      "                       '1:10.94',\n",
      "                       '1:09.52',\n",
      "                       '1:12.04',\n",
      "                       '1:10.91']},\n",
      "            {'age': '15',\n",
      "             'average': 17953.5,\n",
      "             'average_str': '2:59.54',\n",
      "             'converts': [17414, 18358, 18243, 17799],\n",
      "             'distance': '200m',\n",
      "             'stroke': 'Breast',\n",
      "             'times': ['2:54.14', '3:03.58', '3:02.43', '2:57.99']}]}\n"
     ]
    }
   ],
   "source": [
    "pprint.pprint(swimmers)"
   ]
  },
  {
   "cell_type": "code",
   "execution_count": 112,
   "metadata": {},
   "outputs": [
    {
     "data": {
      "text/plain": [
       "dict_keys(['Abi', 'Ali', 'Alison', 'Aurora', 'Bill', 'Blake', 'Calvin', 'Carl', 'Chris', 'Darius', 'Dave', 'Elba', 'Emma', 'Erika', 'Hannah', 'Katie', 'Lizzie', 'Maria', 'Mike', 'Owen', 'Ruth', 'Tasmin'])"
      ]
     },
     "execution_count": 112,
     "metadata": {},
     "output_type": "execute_result"
    }
   ],
   "source": [
    "swimmers.keys()"
   ]
  },
  {
   "cell_type": "code",
   "execution_count": 113,
   "metadata": {},
   "outputs": [
    {
     "data": {
      "text/plain": [
       "[{'age': '14',\n",
       "  'distance': '100m',\n",
       "  'stroke': 'Free',\n",
       "  'average': 6609.5,\n",
       "  'average_str': '1:6.10',\n",
       "  'times': ['1:06.01', '1:06.93', '1:05.34', '1:06.10'],\n",
       "  'converts': [6601, 6693, 6534, 6610]}]"
      ]
     },
     "execution_count": 113,
     "metadata": {},
     "output_type": "execute_result"
    }
   ],
   "source": [
    "swimmers[\"Elba\"]"
   ]
  },
  {
   "cell_type": "code",
   "execution_count": 7,
   "metadata": {},
   "outputs": [],
   "source": [
    "import os, swimclub\n",
    "\n",
    "files = os.listdir(swimclub.FOLDER)\n",
    "files.remove(\".DS_Store\")\n",
    "swimmers = {}\n",
    "keys = [\"age\", \"distance\", \"stroke\", \"average\", \"average_str\", \"times\", \"converts\"]\n",
    "for file in files :\n",
    "    name, *data = swimclub.get_swim_data(file)\n",
    "    if not name in swimmers:\n",
    "        swimmers[name] = []\n",
    "    swimmers[name].append( { k: v for k, v in zip(keys, data) } )\n",
    "# We now have a dictionary wich contains a list of dictionaries"
   ]
  },
  {
   "cell_type": "code",
   "execution_count": 8,
   "metadata": {},
   "outputs": [
    {
     "data": {
      "text/plain": [
       "dict"
      ]
     },
     "execution_count": 8,
     "metadata": {},
     "output_type": "execute_result"
    }
   ],
   "source": [
    "type(swimmers)"
   ]
  },
  {
   "cell_type": "code",
   "execution_count": 9,
   "metadata": {},
   "outputs": [
    {
     "data": {
      "text/plain": [
       "22"
      ]
     },
     "execution_count": 9,
     "metadata": {},
     "output_type": "execute_result"
    }
   ],
   "source": [
    "len(swimmers)"
   ]
  },
  {
   "cell_type": "code",
   "execution_count": 10,
   "metadata": {},
   "outputs": [
    {
     "data": {
      "text/plain": [
       "dict_keys(['Abi', 'Ali', 'Alison', 'Aurora', 'Bill', 'Blake', 'Calvin', 'Carl', 'Chris', 'Darius', 'Dave', 'Elba', 'Emma', 'Erika', 'Hannah', 'Katie', 'Lizzie', 'Maria', 'Mike', 'Owen', 'Ruth', 'Tasmin'])"
      ]
     },
     "execution_count": 10,
     "metadata": {},
     "output_type": "execute_result"
    }
   ],
   "source": [
    "swimmers.keys()"
   ]
  },
  {
   "cell_type": "code",
   "execution_count": 11,
   "metadata": {},
   "outputs": [
    {
     "data": {
      "text/plain": [
       "[{'age': '13',\n",
       "  'distance': '100m',\n",
       "  'stroke': 'Breast',\n",
       "  'average': 11866,\n",
       "  'average_str': '1:58.66',\n",
       "  'times': ['2:01.15', '1:57.86', '1:59.38', '1:57.94', '1:56.97'],\n",
       "  'converts': [12115, 11786, 11938, 11794, 11697]},\n",
       " {'age': '13',\n",
       "  'distance': '100m',\n",
       "  'stroke': 'Free',\n",
       "  'average': 9214,\n",
       "  'average_str': '1:32.14',\n",
       "  'times': ['1:32.21', '1:33.68', '1:34.10', '1:28.57'],\n",
       "  'converts': [9221, 9368, 9410, 8857]}]"
      ]
     },
     "execution_count": 11,
     "metadata": {},
     "output_type": "execute_result"
    }
   ],
   "source": [
    "swimmers[\"Emma\"]"
   ]
  },
  {
   "cell_type": "code",
   "execution_count": 12,
   "metadata": {},
   "outputs": [
    {
     "data": {
      "text/plain": [
       "('100m', 'Breast')"
      ]
     },
     "execution_count": 12,
     "metadata": {},
     "output_type": "execute_result"
    }
   ],
   "source": [
    "swimmers[\"Emma\"][0][\"distance\"], swimmers[\"Emma\"][0][\"stroke\"]"
   ]
  },
  {
   "cell_type": "code",
   "execution_count": 13,
   "metadata": {},
   "outputs": [
    {
     "name": "stdout",
     "output_type": "stream",
     "text": [
      "100m Breast\n",
      "100m Free\n"
     ]
    }
   ],
   "source": [
    "print(swimmers[\"Emma\"][0][\"distance\"], swimmers[\"Emma\"][0][\"stroke\"])\n",
    "print(swimmers[\"Emma\"][1][\"distance\"], swimmers[\"Emma\"][1][\"stroke\"])"
   ]
  },
  {
   "cell_type": "code",
   "execution_count": 1,
   "metadata": {},
   "outputs": [],
   "source": [
    "import os, swimclub\n",
    "\n",
    "files = os.listdir(swimclub.FOLDER)\n",
    "files.remove(\".DS_Store\")\n",
    "swimmers = {}\n",
    "keys = [\"age\", \"distance\", \"stroke\", \"average\", \"average_str\", \"times\", \"converts\"]\n",
    "for file in files :\n",
    "    name, *data = swimclub.get_swim_data(file)\n",
    "    if not name in swimmers:\n",
    "        swimmers[name] = []\n",
    "    swimmers[name].append( { k: v for k, v in zip(keys, data) } )\n",
    "    swimmers[name][-1][\"file\"] = file\n",
    "# We now have a dictionary wich contains a list of dictionaries"
   ]
  },
  {
   "cell_type": "code",
   "execution_count": 2,
   "metadata": {},
   "outputs": [
    {
     "data": {
      "text/plain": [
       "{'age': '13',\n",
       " 'distance': '100m',\n",
       " 'stroke': 'Breast',\n",
       " 'average': 11866,\n",
       " 'average_str': '1:58.66',\n",
       " 'times': ['2:01.15', '1:57.86', '1:59.38', '1:57.94', '1:56.97'],\n",
       " 'converts': [12115, 11786, 11938, 11794, 11697],\n",
       " 'file': 'Emma-13-100m-Breast.txt'}"
      ]
     },
     "execution_count": 2,
     "metadata": {},
     "output_type": "execute_result"
    }
   ],
   "source": [
    "swimmers[\"Emma\"][0]"
   ]
  },
  {
   "cell_type": "code",
   "execution_count": 3,
   "metadata": {},
   "outputs": [
    {
     "name": "stdout",
     "output_type": "stream",
     "text": [
      "['Abi', 'Ali', 'Alison', 'Aurora', 'Bill', 'Blake', 'Calvin', 'Carl', 'Chris', 'Darius', 'Dave', 'Elba', 'Emma', 'Erika', 'Hannah', 'Katie', 'Lizzie', 'Maria', 'Mike', 'Owen', 'Ruth', 'Tasmin']\n"
     ]
    }
   ],
   "source": [
    "print(sorted(swimmers.keys()))"
   ]
  },
  {
   "cell_type": "code",
   "execution_count": 4,
   "metadata": {},
   "outputs": [
    {
     "name": "stdout",
     "output_type": "stream",
     "text": [
      "Katie-9-100m-Back.txt\n",
      "Katie-9-100m-Breast.txt\n",
      "Katie-9-100m-Free.txt\n",
      "Katie-9-100m-IM.txt\n",
      "Katie-9-50m-Back.txt\n",
      "Katie-9-50m-Breast.txt\n",
      "Katie-9-50m-Fly.txt\n",
      "Katie-9-50m-Free.txt\n"
     ]
    }
   ],
   "source": [
    "for event in swimmers[\"Katie\"] :\n",
    "    print(event[\"file\"])"
   ]
  },
  {
   "cell_type": "code",
   "execution_count": 7,
   "metadata": {},
   "outputs": [
    {
     "data": {
      "text/plain": [
       "True"
      ]
     },
     "execution_count": 7,
     "metadata": {},
     "output_type": "execute_result"
    }
   ],
   "source": [
    "import webbrowser, os\n",
    "\n",
    "html_location = swimclub.produce_bar_charts(\"Katie-9-100m-Free.txt\")\n",
    "\n",
    "webbrowser.open(\"file://\" + os.path.realpath(html_location))"
   ]
  },
  {
   "cell_type": "code",
   "execution_count": null,
   "metadata": {},
   "outputs": [],
   "source": []
  }
 ],
 "metadata": {
  "kernelspec": {
   "display_name": "Python 3.10.7 64-bit",
   "language": "python",
   "name": "python3"
  },
  "language_info": {
   "codemirror_mode": {
    "name": "ipython",
    "version": 3
   },
   "file_extension": ".py",
   "mimetype": "text/x-python",
   "name": "python",
   "nbconvert_exporter": "python",
   "pygments_lexer": "ipython3",
   "version": "3.10.7"
  },
  "orig_nbformat": 4,
  "vscode": {
   "interpreter": {
    "hash": "fece7610c970557481ebf6c4310b97a77c4aa1d9365e439f8e94b17c8f57b0ed"
   }
  }
 },
 "nbformat": 4,
 "nbformat_minor": 2
}
