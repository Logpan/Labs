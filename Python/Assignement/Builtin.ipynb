{
 "cells": [
  {
   "cell_type": "code",
   "execution_count": 2,
   "metadata": {},
   "outputs": [
    {
     "data": {
      "text/plain": [
       "240233"
      ]
     },
     "execution_count": 2,
     "metadata": {},
     "output_type": "execute_result"
    }
   ],
   "source": [
    "import csv\n",
    "\n",
    "food = list(csv.DictReader(open('Food_Inspections.csv')))\n",
    "len(food)"
   ]
  },
  {
   "cell_type": "code",
   "execution_count": 3,
   "metadata": {},
   "outputs": [
    {
     "data": {
      "text/plain": [
       "{'Inspection ID': '2561879',\n",
       " 'DBA Name': 'SOLITA',\n",
       " 'AKA Name': 'SOLITA',\n",
       " 'License #': '2857386',\n",
       " 'Facility Type': 'Restaurant',\n",
       " 'Risk': 'Risk 3 (Low)',\n",
       " 'Address': '431 N WELLS ST ',\n",
       " 'City': 'CHICAGO',\n",
       " 'State': 'IL',\n",
       " 'Zip': '60654',\n",
       " 'Inspection Date': '08/09/2022',\n",
       " 'Inspection Type': 'License',\n",
       " 'Results': 'Pass',\n",
       " 'Violations': '',\n",
       " 'Latitude': '41.89002468212031',\n",
       " 'Longitude': '-87.63388240330882',\n",
       " 'Location': '(-87.63388240330882, 41.89002468212031)'}"
      ]
     },
     "execution_count": 3,
     "metadata": {},
     "output_type": "execute_result"
    }
   ],
   "source": [
    "food[0]"
   ]
  },
  {
   "cell_type": "code",
   "execution_count": 4,
   "metadata": {},
   "outputs": [
    {
     "data": {
      "text/plain": [
       "{'Inspection ID': '2559417',\n",
       " 'DBA Name': 'CHEZ JOEL',\n",
       " 'AKA Name': 'CHEZ JOEL',\n",
       " 'License #': '32359',\n",
       " 'Facility Type': 'Restaurant',\n",
       " 'Risk': 'Risk 1 (High)',\n",
       " 'Address': '1119 W TAYLOR ST ',\n",
       " 'City': 'CHICAGO',\n",
       " 'State': 'IL',\n",
       " 'Zip': '60607',\n",
       " 'Inspection Date': '06/15/2022',\n",
       " 'Inspection Type': 'Non-Inspection',\n",
       " 'Results': 'No Entry',\n",
       " 'Violations': '',\n",
       " 'Latitude': '41.86933227916697',\n",
       " 'Longitude': '-87.65510678669794',\n",
       " 'Location': '(-87.65510678669794, 41.86933227916697)'}"
      ]
     },
     "execution_count": 4,
     "metadata": {},
     "output_type": "execute_result"
    }
   ],
   "source": [
    "food[1]"
   ]
  },
  {
   "cell_type": "code",
   "execution_count": 5,
   "metadata": {},
   "outputs": [
    {
     "data": {
      "text/plain": [
       "{'Business Not Located',\n",
       " 'Fail',\n",
       " 'No Entry',\n",
       " 'Not Ready',\n",
       " 'Out of Business',\n",
       " 'Pass',\n",
       " 'Pass w/ Conditions'}"
      ]
     },
     "execution_count": 5,
     "metadata": {},
     "output_type": "execute_result"
    }
   ],
   "source": [
    "{row['Results'] for row in food}"
   ]
  },
  {
   "cell_type": "code",
   "execution_count": 7,
   "metadata": {},
   "outputs": [
    {
     "data": {
      "text/plain": [
       "46470"
      ]
     },
     "execution_count": 7,
     "metadata": {},
     "output_type": "execute_result"
    }
   ],
   "source": [
    "fail = [ row for row in food if row['Results'] == 'Fail']\n",
    "len(fail)"
   ]
  },
  {
   "cell_type": "code",
   "execution_count": 8,
   "metadata": {},
   "outputs": [
    {
     "data": {
      "text/plain": [
       "{'Inspection ID': '2561623',\n",
       " 'DBA Name': 'LA CHOZA MEXICAN GRILL',\n",
       " 'AKA Name': 'LA CHOZA MEXICAN GRILL',\n",
       " 'License #': '1840862',\n",
       " 'Facility Type': 'Restaurant',\n",
       " 'Risk': 'Risk 1 (High)',\n",
       " 'Address': '7022 N CLARK ST ',\n",
       " 'City': 'CHICAGO',\n",
       " 'State': 'IL',\n",
       " 'Zip': '60626',\n",
       " 'Inspection Date': '08/02/2022',\n",
       " 'Inspection Type': 'Canvass',\n",
       " 'Results': 'Fail',\n",
       " 'Violations': '9. NO BARE HAND CONTACT WITH RTE FOOD OR A PRE-APPROVED ALTERNATIVE PROCEDURE PROPERLY ALLOWED - Comments: OBSERVED THE EMPLOYEE SLICING FRESH TOMATOES AND ASSEMBLING READY-TO-EAT LETTUCE, ONION, AND TOMATOES FOR A SALAD WITH BARE HANDS. REVIEWED NO BARE HAND CONTACT WITH READY-TO-EAT FOODS. ALL FOODS DISCARDED. PRIORITY VIOLATION 7-38-010 CITATION ISSUED. | 15. FOOD SEPARATED AND PROTECTED - Comments: OBSERVED RAW CHICKEN ON THE COOK LINE CUTTING BOARD DIRECTLY NEXT TO FRESH READY-TO-EAT TOMATOES AND AVOCADO THAT WERE BEING SLICED AND PREPARED. ALSO OBSERVED WERE RAW EGGS STORED DIRECTLY ON TOP OF READY-TO-EAT TORTILLAS, ROASTED PEPPERS, AND RAW ONIONS IN THE TOP REFRIGERATION AREA OF THE COOKS LINE COOLER. ALL FOODS WERE REMOVED AND DISCARDED. PRIORITY VIOLATION 7-38-005 CITATION ISSUED. | 23. PROPER DATE MARKING AND DISPOSITION - Comments: OBSERVED ALL PREPARED TCS READY TO EAT FOODS THROUGHOUT ALL COOLERS NOT LABELED. NO EXPIRATION DATES OR PREP DATES. FOOD SUCH AS COOKED RICE, FLAN, COOKED MEATS AND BEANS. ALL FOODS DISCARDED. 100 LBS, $100. PRIORITY FOUNDATION VIOLATION 7-38-005 CITATION ISSUED. | 25. CONSUMER ADVISORY PROVIDED FOR RAW/UNDERCOOKED FOOD - Comments: NOTED ANIMAL ORIGIN UNDER COOKED FOODS SUCH AS OVER EASY EGGS ON THE MENU NOT DISCLOSED OR REMINDED FOR THE CONSUMER ADVISORY POSTED ON THE MENU. MUST DISCLOSE AND REMIND FOR SUCH ITEMS. PRIORITY FOUNDATION VIOLATION.  | 36. THERMOMETERS PROVIDED & ACCURATE - Comments: BROKEN INTERNAL THERMOMETER INSIDE THE COOKS LINE COOLER. MUST REPLACE. | 37. FOOD PROPERLY LABELED; ORIGINAL CONTAINER - Comments: BULK DRIED PEPPER CONTAINERS MUST BE LABELED. | 41. WIPING CLOTHS: PROPERLY USED & STORED - Comments: OBSERVED SOILED WIPING CLOTHS ON PREP SURFACES THROUGHOUT. MUST STORE IN A CLEAN CONTAINER WITH A SANITIZING SOLUTION. | 45. SINGLE-USE/SINGLE-SERVICE ARTICLES: PROPERLY STORED & USED - Comments: ALL STORED ITEMS THROUGHOUT MUST BE ELEVATED FROM THE FLOORS INCLUDING CONSTRUCTION MATERIAL AT REAR STORAGE. | 47. FOOD & NON-FOOD CONTACT SURFACES CLEANABLE, PROPERLY DESIGNED, CONSTRUCTED & USED - Comments: NOTED TORN RUBBER DOOR GASKETS REPAIRED WITH DUCT TAPE ON THE COOKS LINE COOLER AND TALL REACH-IN FREEZER. MUST REPLACE RUBBER GASKETS. | 47. FOOD & NON-FOOD CONTACT SURFACES CLEANABLE, PROPERLY DESIGNED, CONSTRUCTED & USED - Comments: NOTED CRACKED/DAMAGED PLASTIC LIDS FOR THE PREPARED READY TO EAT FLAN. MUST REPLACE. | 47. FOOD & NON-FOOD CONTACT SURFACES CLEANABLE, PROPERLY DESIGNED, CONSTRUCTED & USED - Comments: MUST NOT USE MILK CRATES OR RAW WOODEN BLOCKS AS A MEANS OF ELEVATION/SUPPORT FOR SHELVING. | 49. NON-FOOD/FOOD CONTACT SURFACES CLEAN - Comments: EXTREMELY DIRTY, FOOD ENCRUSTED SPICE CONTAINER ON THE COOKS LINE. MUST CLEAN AND MAINTAIN.-----NOTED PEELING DUCT TAPE BEING USED ON THE FOOD SHREDDER. MUST REPLACE FOOD SHREDDER. | 55. PHYSICAL FACILITIES INSTALLED, MAINTAINED & CLEAN - Comments: WATER DAMAGED CEILING TILES THROUGHOUT THE FRONT PREP AND REAR DISH AREA. MUST REPLACE.---- MISSING/DAMAGED WALL TILE AT THE UTILITY SERVICE SINK. MUST REPAIR/REPLACE. | 56. ADEQUATE VENTILATION & LIGHTING; DESIGNATED AREAS USED - Comments: NOTED EMPLOYEES PERSONAL BELONGINGS BEING STORED IN THE FOOD PREP AREA. MUST PROVIDE DESIGNATED EMPLOYEE STORAGE FOR PERSONAL ITEMS AWAY FROM FOOD AND FOOD PREP. | 57. ALL FOOD EMPLOYEES HAVE FOOD HANDLER TRAINING - Comments: NO PROOF OF FOOD HANDLER TRAINING OR CERTIFICATE FOR THE EMPLOYEES. MUST PROVIDE. | 58. ALLERGEN TRAINING AS REQUIRED - Comments: NO PROOF OF ALLERGEN TRAINING OR CERTIFICATE FOR THE CITY OF CHICAGO CERTIFIED FOOD MANAGER MT CASTILLO. MUST PROVIDE. | 60. PREVIOUS CORE VIOLATION CORRECTED - Comments: PREVIOUS CORE VIOLATIONS FROM REPORT #2510080 ON 5-21-21 WERE NOT CORRECTED. #49- FOUND INTERIOR OF REACH IN COOLERS AND FREEZERS NOT CLEAN. MUST CLEAN AND SANITIZE.#55- FOUND FLOORS NOT CLEAN IN DISHWASHING AREAS. MUST CLEAN AND SANITIZE. PRIORITY FOUNDATION VIOLATION 7-42 090 CITATION ISSUED.',\n",
       " 'Latitude': '42.009697980488845',\n",
       " 'Longitude': '-87.67427432484828',\n",
       " 'Location': '(-87.67427432484828, 42.009697980488845)'}"
      ]
     },
     "execution_count": 8,
     "metadata": {},
     "output_type": "execute_result"
    }
   ],
   "source": [
    "fail[0]"
   ]
  },
  {
   "cell_type": "code",
   "execution_count": 38,
   "metadata": {},
   "outputs": [],
   "source": [
    "import collections"
   ]
  },
  {
   "cell_type": "code",
   "execution_count": 39,
   "metadata": {},
   "outputs": [],
   "source": [
    "worst = Counter(row['DBA Name'] for row in fail)"
   ]
  },
  {
   "cell_type": "code",
   "execution_count": 40,
   "metadata": {},
   "outputs": [
    {
     "data": {
      "text/plain": [
       "[('SUBWAY', 456),\n",
       " ('DUNKIN DONUTS', 286),\n",
       " ('MCDONALDS', 241),\n",
       " ('7-ELEVEN', 83),\n",
       " ('JIMMY JOHNS', 80)]"
      ]
     },
     "execution_count": 40,
     "metadata": {},
     "output_type": "execute_result"
    }
   ],
   "source": [
    "worst.most_common(5)"
   ]
  },
  {
   "cell_type": "code",
   "execution_count": 41,
   "metadata": {},
   "outputs": [
    {
     "data": {
      "text/plain": [
       "[('SUBWAY', 456),\n",
       " ('DUNKIN DONUTS', 286),\n",
       " ('MCDONALDS', 241),\n",
       " ('7-ELEVEN', 83),\n",
       " ('JIMMY JOHNS', 80),\n",
       " ('CHIPOTLE MEXICAN GRILL', 72),\n",
       " ('CITGO', 59),\n",
       " ('POTBELLY SANDWICH WORKS LLC', 58),\n",
       " ('DUNKIN DONUTS/BASKIN ROBBINS', 57),\n",
       " ('LAS ISLAS MARIAS', 53),\n",
       " ('HAROLDS CHICKEN SHACK', 50),\n",
       " ('SUBWAY SANDWICHES', 47),\n",
       " ('POPEYES', 45),\n",
       " ('PAPA JOHNS PIZZA', 45),\n",
       " ('POTBELLY SANDWICH WORKS', 43)]"
      ]
     },
     "execution_count": 41,
     "metadata": {},
     "output_type": "execute_result"
    }
   ],
   "source": [
    "worst.most_common(15)"
   ]
  },
  {
   "cell_type": "markdown",
   "metadata": {},
   "source": [
    "Create a Dictonnary"
   ]
  },
  {
   "cell_type": "markdown",
   "metadata": {},
   "source": [
    "* With only quote"
   ]
  },
  {
   "cell_type": "code",
   "execution_count": 42,
   "metadata": {},
   "outputs": [],
   "source": [
    "fail = [ { **row, 'DBA Name':row['DBA Name'].replace(\"'\",'').upper()} for row in fail]"
   ]
  },
  {
   "cell_type": "code",
   "execution_count": 43,
   "metadata": {},
   "outputs": [
    {
     "data": {
      "text/plain": [
       "[('SUBWAY', 456),\n",
       " ('DUNKIN DONUTS', 286),\n",
       " ('MCDONALDS', 241),\n",
       " ('7-ELEVEN', 83),\n",
       " ('JIMMY JOHNS', 80)]"
      ]
     },
     "execution_count": 43,
     "metadata": {},
     "output_type": "execute_result"
    }
   ],
   "source": [
    "worst = Counter(row['DBA Name'] for row in fail)\n",
    "worst.most_common(5)"
   ]
  },
  {
   "cell_type": "code",
   "execution_count": 44,
   "metadata": {},
   "outputs": [
    {
     "data": {
      "text/plain": [
       "[('SUBWAY', 456),\n",
       " ('DUNKIN DONUTS', 286),\n",
       " ('MCDONALDS', 241),\n",
       " ('7-ELEVEN', 83),\n",
       " ('JIMMY JOHNS', 80),\n",
       " ('CHIPOTLE MEXICAN GRILL', 72),\n",
       " ('CITGO', 59),\n",
       " ('POTBELLY SANDWICH WORKS LLC', 58),\n",
       " ('DUNKIN DONUTS/BASKIN ROBBINS', 57),\n",
       " ('LAS ISLAS MARIAS', 53),\n",
       " ('HAROLDS CHICKEN SHACK', 50),\n",
       " ('SUBWAY SANDWICHES', 47),\n",
       " ('POPEYES', 45),\n",
       " ('PAPA JOHNS PIZZA', 45),\n",
       " ('POTBELLY SANDWICH WORKS', 43),\n",
       " ('MC DONALDS', 41),\n",
       " ('KENTUCKY FRIED CHICKEN', 39),\n",
       " ('WINGSTOP', 39),\n",
       " ('KFC', 38),\n",
       " ('FRESHII', 38)]"
      ]
     },
     "execution_count": 44,
     "metadata": {},
     "output_type": "execute_result"
    }
   ],
   "source": [
    "worst.most_common(20)"
   ]
  },
  {
   "cell_type": "code",
   "execution_count": 45,
   "metadata": {},
   "outputs": [
    {
     "data": {
      "text/plain": [
       "[('11601 W TOUHY AVE ', 366),\n",
       " ('2300 S THROOP ST ', 124),\n",
       " ('500 W MADISON ST ', 91),\n",
       " ('324 N LEAVITT ST ', 91),\n",
       " ('5700 S CICERO AVE ', 64)]"
      ]
     },
     "execution_count": 45,
     "metadata": {},
     "output_type": "execute_result"
    }
   ],
   "source": [
    "bad = Counter(row['Address'] for row in fail)\n",
    "bad.most_common(5)"
   ]
  },
  {
   "cell_type": "code",
   "execution_count": 49,
   "metadata": {},
   "outputs": [
    {
     "data": {
      "text/plain": [
       "[('11601 W TOUHY AVE ', 39),\n",
       " ('500 W MADISON ST ', 13),\n",
       " ('324 N LEAVITT ST ', 9),\n",
       " ('307 S KEDZIE AVE ', 9),\n",
       " ('12 S MICHIGAN AVE ', 8)]"
      ]
     },
     "execution_count": 49,
     "metadata": {},
     "output_type": "execute_result"
    }
   ],
   "source": [
    "from collections import defaultdict\n",
    "by_year = defaultdict(Counter)\n",
    "for row in fail :\n",
    "    by_year[row['Inspection Date'][-4:]][row['Address']] += 1\n",
    "by_year['2015'].most_common(5)"
   ]
  },
  {
   "cell_type": "code",
   "execution_count": 50,
   "metadata": {},
   "outputs": [
    {
     "data": {
      "text/plain": [
       "[('11601 W TOUHY AVE ', 32),\n",
       " ('500 W MADISON ST ', 17),\n",
       " ('324 N LEAVITT ST ', 15),\n",
       " ('113-125 N GREEN ST ', 12),\n",
       " ('131 N CLINTON ST ', 10)]"
      ]
     },
     "execution_count": 50,
     "metadata": {},
     "output_type": "execute_result"
    }
   ],
   "source": [
    "by_year['2014'].most_common(5)"
   ]
  },
  {
   "cell_type": "code",
   "execution_count": 51,
   "metadata": {},
   "outputs": [
    {
     "data": {
      "text/plain": [
       "[('11601 W TOUHY AVE ', 37),\n",
       " ('2300 S THROOP ST ', 10),\n",
       " ('700 E GRAND AVE ', 10),\n",
       " ('301 E NORTH WATER ST ', 9),\n",
       " ('2946-2952 W ARMITAGE AVE ', 8)]"
      ]
     },
     "execution_count": 51,
     "metadata": {},
     "output_type": "execute_result"
    }
   ],
   "source": [
    "by_year['2013'].most_common(5)"
   ]
  },
  {
   "cell_type": "code",
   "execution_count": 52,
   "metadata": {},
   "outputs": [
    {
     "data": {
      "text/plain": [
       "[('11601 W TOUHY AVE ', 51),\n",
       " ('324 N LEAVITT ST ', 14),\n",
       " ('2300 S THROOP ST ', 14),\n",
       " ('500 W MADISON ST ', 9),\n",
       " ('2306 W DEVON AVE ', 7)]"
      ]
     },
     "execution_count": 52,
     "metadata": {},
     "output_type": "execute_result"
    }
   ],
   "source": [
    "by_year['2016'].most_common(5)"
   ]
  },
  {
   "cell_type": "code",
   "execution_count": 53,
   "metadata": {},
   "outputs": [
    {
     "data": {
      "text/plain": [
       "[('11601 W TOUHY AVE ', 366),\n",
       " ('2300 S THROOP ST ', 124),\n",
       " ('500 W MADISON ST ', 91),\n",
       " ('324 N LEAVITT ST ', 91),\n",
       " ('5700 S CICERO AVE ', 64)]"
      ]
     },
     "execution_count": 53,
     "metadata": {},
     "output_type": "execute_result"
    }
   ],
   "source": [
    "bad.most_common(5)"
   ]
  },
  {
   "cell_type": "code",
   "execution_count": 54,
   "metadata": {},
   "outputs": [
    {
     "data": {
      "text/plain": [
       "'11601 W TOUHY AVE '"
      ]
     },
     "execution_count": 54,
     "metadata": {},
     "output_type": "execute_result"
    }
   ],
   "source": [
    "_[0][0]"
   ]
  },
  {
   "cell_type": "code",
   "execution_count": 55,
   "metadata": {},
   "outputs": [
    {
     "data": {
      "text/plain": [
       "2265098847376"
      ]
     },
     "execution_count": 55,
     "metadata": {},
     "output_type": "execute_result"
    }
   ],
   "source": [
    "id(_)"
   ]
  },
  {
   "cell_type": "code",
   "execution_count": 57,
   "metadata": {},
   "outputs": [
    {
     "data": {
      "text/plain": [
       "367"
      ]
     },
     "execution_count": 57,
     "metadata": {},
     "output_type": "execute_result"
    }
   ],
   "source": [
    "ohare = [row for row in fail if row['Address'].startswith('11601 W TOUHY')]\n",
    "len(ohare)"
   ]
  },
  {
   "cell_type": "code",
   "execution_count": 58,
   "metadata": {},
   "outputs": [
    {
     "data": {
      "text/plain": [
       "{'11601 W TOUHY AVE ', '11601 W TOUHY AVE T2 F12'}"
      ]
     },
     "execution_count": 58,
     "metadata": {},
     "output_type": "execute_result"
    }
   ],
   "source": [
    "{ row['Address'] for row in ohare}"
   ]
  },
  {
   "cell_type": "code",
   "execution_count": 59,
   "metadata": {},
   "outputs": [
    {
     "data": {
      "text/plain": [
       "{'7-ELEVEN #39913A',\n",
       " 'AIR FRANCE',\n",
       " 'AMERICAN AIRLINES',\n",
       " 'AMERICAN AIRLINES ADMIRALS LOUNGE',\n",
       " 'AMERICAS DOG',\n",
       " 'ANDIAMOS OHARE, LLC',\n",
       " 'ARAMARK AT UNITED AIRLINES',\n",
       " 'ARGO TEA',\n",
       " 'ARGO TEA CAFE-OHARE T2',\n",
       " 'AUNTIE ANNES',\n",
       " 'AUNTIE ANNES PRETZELS',\n",
       " 'B JS  MARKET',\n",
       " 'BERGHOFF CAFE',\n",
       " 'BIG BOWL',\n",
       " 'BRITISH AIRWAYS',\n",
       " 'BURRITO BEACH',\n",
       " 'CAFFE  MERCATO',\n",
       " 'CHICAGO BLACKHAWKS STANLEYS T2 BAR',\n",
       " 'CHICAGO NEWS & GIFTS',\n",
       " 'CHILIS T - 3',\n",
       " 'CHILIS T-I',\n",
       " 'CHILIS- G CONCOURSE',\n",
       " 'CIBO EXPRESS GOURMET MARKET #2',\n",
       " 'CNN',\n",
       " 'DELI/STARBUCKS',\n",
       " 'DELTA SKY CLUB',\n",
       " 'DUNKIN DONUTS',\n",
       " 'EFIES CANTEEN INC',\n",
       " 'ELIS CHEESECAKE',\n",
       " 'FARMERS FRIDGE',\n",
       " 'FRESH ON THE FLY',\n",
       " 'FRONTERA TORTAS  BY RICK BAYLESS GATE K4 T3',\n",
       " 'FRONTERA TORTAS BY RICK  BAYLESS',\n",
       " 'GALILEO BAR',\n",
       " 'GARRETT POPCORN SHOPS',\n",
       " 'GATEGOURMET',\n",
       " 'GOLD COAST DOGS',\n",
       " 'GOOSE ISLAND',\n",
       " 'GREEN MARKET',\n",
       " 'HILTON OHARE',\n",
       " 'HOST INTERNATIONAL B05',\n",
       " 'HOST INTERNATIONAL INC',\n",
       " 'HOST INTERNATIONAL INC, CHILIS T-2',\n",
       " 'HOST INTERNATIONAL INC-GOOSE ISLAND T3',\n",
       " 'HOST INTERNATIONAL INC-PRAIRIE TAP',\n",
       " 'HOST INTERNATIONAL INC.',\n",
       " 'HOST INTERNATIONAL, INC',\n",
       " 'HOT DOG EXPRESS',\n",
       " 'HUB 51',\n",
       " 'HUDSON',\n",
       " 'HUDSON NEWS',\n",
       " 'HUDSON NEWS OHARE JOINT VENTURE',\n",
       " 'ICE BAR',\n",
       " 'INTELLIGENTSIA',\n",
       " 'JAMBA JUICE',\n",
       " 'KOREAN AIR LOUNGE',\n",
       " 'LA TAPENADE GATE H14',\n",
       " 'LA TAPENADES GATE H14',\n",
       " 'LOU MITCHELLS EXPRESS INC',\n",
       " 'MACARONI GRILL',\n",
       " 'MANCHU WOK',\n",
       " 'MCDONALDS',\n",
       " 'MCDONALDS # 12785',\n",
       " 'MCDONALDS # 17274',\n",
       " 'MCDONALDS # 17277',\n",
       " 'MCDONALDS # 22821',\n",
       " 'MCDONALDS CORPORATION',\n",
       " 'MCDONALDS RESTAURANT',\n",
       " 'NATURAL BREAK',\n",
       " 'NUTS ON CLARK',\n",
       " 'OBRIENS RESTAURANT & BAR',\n",
       " 'OHARE BAR',\n",
       " 'OHARE HILTON HOTEL',\n",
       " 'PARADES A CHICAGO BAR',\n",
       " 'PUBLICAN TAVERN K1',\n",
       " 'REGGIOS PIZZA EXPRESS',\n",
       " 'ROCKY MOUNTAIN CHOCOLATE FACTORY',\n",
       " 'RUSH STREET',\n",
       " 'SALAD WORKS',\n",
       " 'SARAHS CANDIES',\n",
       " 'SAS',\n",
       " 'SKYBRIDGE RESTAURANT & BAR',\n",
       " 'SODEXO AMERICA, LLC',\n",
       " 'STARBUCKS',\n",
       " 'STARBUCKS HK APEX',\n",
       " 'STARBUCKS L03',\n",
       " 'SUBWAY SANDWICH',\n",
       " 'SWISS AIR',\n",
       " 'SWISSPORT USA',\n",
       " 'THE GODDESS & GROCER',\n",
       " 'THE GREAT AMERICAN BAGEL',\n",
       " 'TOCCO',\n",
       " 'TORTAS FRONTERA',\n",
       " 'TRAVEL TRADERS #3081 @ HILTON OHARE',\n",
       " 'TUSCANY CAFE',\n",
       " 'UNITED AIRLINES CLUB',\n",
       " 'UNITED CLUB',\n",
       " 'UNITED CLUB ,T-1  CONCOURSE C',\n",
       " 'UNITED CLUB, TERMINAL 2 CONCOURSE F',\n",
       " 'UNITED CLUB,TERMINAL 1 CONCOURSE B SOUTH',\n",
       " 'UNITED FIRST INTERNATIONAL LOUNGE T1,CONCOURSE C',\n",
       " 'UNITED POLARIS LOUNGE - ORD',\n",
       " 'URBAN OLIVE',\n",
       " 'WICKER PARK SEAFOOD & SUSHI',\n",
       " 'WOLFGANG EXPRESS',\n",
       " 'WOLFGANG PUCK, T-3',\n",
       " 'WOW BAO',\n",
       " 'ZOOTS'}"
      ]
     },
     "execution_count": 59,
     "metadata": {},
     "output_type": "execute_result"
    }
   ],
   "source": [
    "{ row['DBA Name'] for row in ohare}"
   ]
  },
  {
   "cell_type": "code",
   "execution_count": 60,
   "metadata": {},
   "outputs": [
    {
     "data": {
      "text/plain": [
       "{'Inspection ID': '1369478',\n",
       " 'DBA Name': 'CNN',\n",
       " 'AKA Name': 'CNN (T3-H5)',\n",
       " 'License #': '2289527',\n",
       " 'Facility Type': 'Grocery Store',\n",
       " 'Risk': 'Risk 3 (Low)',\n",
       " 'Address': '11601 W TOUHY AVE ',\n",
       " 'City': 'CHICAGO',\n",
       " 'State': 'IL',\n",
       " 'Zip': '60666',\n",
       " 'Inspection Date': '10/04/2013',\n",
       " 'Inspection Type': 'License',\n",
       " 'Results': 'Fail',\n",
       " 'Violations': '',\n",
       " 'Latitude': '42.008536400868735',\n",
       " 'Longitude': '-87.91442843927047',\n",
       " 'Location': '(-87.91442843927047, 42.008536400868735)'}"
      ]
     },
     "execution_count": 60,
     "metadata": {},
     "output_type": "execute_result"
    }
   ],
   "source": [
    "ohare[0]"
   ]
  },
  {
   "cell_type": "code",
   "execution_count": 61,
   "metadata": {},
   "outputs": [
    {
     "data": {
      "text/plain": [
       "[('MACARONI GRILL (T3-K2)', 13),\n",
       " ('ARGO TEA  (T3 ROTUNDA)', 9),\n",
       " (\"CHILI'S TOO (T2  F4)\", 8),\n",
       " (\"CHILI'S  TOO (T3-H2)\", 7),\n",
       " ('ARGO TEA (T2/E5)', 7),\n",
       " ('TOCCO (T5 M-07)', 7),\n",
       " (\"HILTON O'HARE & ANDIAMO\", 7),\n",
       " ('GOLD COAST DOGS  (T3 L4)', 6),\n",
       " (\"REGGIO'S PIZZA EXPRESS (T3 G8)\", 6),\n",
       " ('United Employee Cafeteria (T1 C LL)', 6)]"
      ]
     },
     "execution_count": 61,
     "metadata": {},
     "output_type": "execute_result"
    }
   ],
   "source": [
    "c = Counter(row['AKA Name'] for row in ohare)\n",
    "c.most_common(10)"
   ]
  },
  {
   "cell_type": "code",
   "execution_count": 62,
   "metadata": {},
   "outputs": [
    {
     "data": {
      "text/plain": [
       "{'Inspection ID': '1369478',\n",
       " 'DBA Name': 'CNN',\n",
       " 'AKA Name': 'CNN (T3-H5)',\n",
       " 'License #': '2289527',\n",
       " 'Facility Type': 'Grocery Store',\n",
       " 'Risk': 'Risk 3 (Low)',\n",
       " 'Address': '11601 W TOUHY AVE ',\n",
       " 'City': 'CHICAGO',\n",
       " 'State': 'IL',\n",
       " 'Zip': '60666',\n",
       " 'Inspection Date': '10/04/2013',\n",
       " 'Inspection Type': 'License',\n",
       " 'Results': 'Fail',\n",
       " 'Violations': '',\n",
       " 'Latitude': '42.008536400868735',\n",
       " 'Longitude': '-87.91442843927047',\n",
       " 'Location': '(-87.91442843927047, 42.008536400868735)'}"
      ]
     },
     "execution_count": 62,
     "metadata": {},
     "output_type": "execute_result"
    }
   ],
   "source": [
    "ohare[0]"
   ]
  },
  {
   "cell_type": "code",
   "execution_count": 64,
   "metadata": {},
   "outputs": [
    {
     "data": {
      "text/plain": [
       "[{'Inspection ID': '1950494',\n",
       "  'DBA Name': 'REGGIOS PIZZA EXPRESS',\n",
       "  'AKA Name': \"REGGIO'S PIZZA EXPRESS (T3 G8)\",\n",
       "  'License #': '2428080',\n",
       "  'Facility Type': 'Restaurant',\n",
       "  'Risk': 'Risk 1 (High)',\n",
       "  'Address': '11601 W TOUHY AVE ',\n",
       "  'City': 'CHICAGO',\n",
       "  'State': 'IL',\n",
       "  'Zip': '60666',\n",
       "  'Inspection Date': '08/16/2016',\n",
       "  'Inspection Type': 'License',\n",
       "  'Results': 'Fail',\n",
       "  'Violations': '',\n",
       "  'Latitude': '42.008536400868735',\n",
       "  'Longitude': '-87.91442843927047',\n",
       "  'Location': '(-87.91442843927047, 42.008536400868735)'}]"
      ]
     },
     "execution_count": 64,
     "metadata": {},
     "output_type": "execute_result"
    }
   ],
   "source": [
    "inspections = defaultdict(list)\n",
    "for row in ohare :\n",
    "    inspections[row['License #']].append(row)\n",
    "inspections['2428080']"
   ]
  },
  {
   "cell_type": "code",
   "execution_count": 65,
   "metadata": {},
   "outputs": [
    {
     "data": {
      "text/plain": [
       "dict_keys(['2289527', '1884293', '1879166', '2308553', '2791586', '2594983', '2363760', '2488186', '2464515', '1909522', '34139', '34220', '2428079', '1120626', '2289520', '2516647', '1899202', '2708730', '2308566', '34192', '2363771', '2232034', '34190', '2109577', '34159', '2583234', '2192968', '2487938', '2647047', '2192971', '34222', '2192963', '1947515', '2487933', '2289515', '1898214', '1898075', '1942304', '2069938', '1140128', '2560546', '2363763', '34154', '1909532', '34199', '1042895', '1356711', '2464518', '2535609', '2192977', '2304183', '2487937', '34236', '51206', '1884292', '1879164', '34173', '2487932', '64032', '2464526', '2487943', '1140745', '1879167', '1909539', '2299087', '1909523', '64540', '34142', '2535610', '2487934', '2535615', '34215', '2535613', '2535614', '34217', '1954648', '15531', '1381615', '1141457', '2517808', '34146', '1916161', '2517809', '2284294', '1878675', '2141979', '2492748', '2492754', '2492753', '2363766', '2492747', '1621425', '2487849', '1974743', '34219', '2487848', '2146327', '34235', '2428080', '2013206', '2016729', '34210', '2013208', '1888807', '2009092', '1885160', '2463991', '0', '2451545', '1333235', '2447055', '1916219', '2016727', '56367', '1333242', '2363762', '56366', '1333098', '2289084', '1142116', '34234', '2184012', '34167', '34212', '34169', '34205', '34183', '2284027', '1927556', '2192969', '2289531', '34203', '2289511', '2289495', '2289524', '2289525', '1675026', '1141505', '2277391', '2277363', '2261733', '2261728', '1224624', '2232035', '2204037', '29570', '1926528', '85188', '2016732', '2125489', '1333092', '2124567', '2124574', '2125246', '2114331', '2103989', '1718776', '37170', '34211', '2017724', '1069379', '34224', '34229', '1069382', '34201', '23894', '2009095', '2021757'])"
      ]
     },
     "execution_count": 65,
     "metadata": {},
     "output_type": "execute_result"
    }
   ],
   "source": [
    "inspections.keys()"
   ]
  },
  {
   "cell_type": "code",
   "execution_count": 66,
   "metadata": {},
   "outputs": [
    {
     "data": {
      "text/plain": [
       "[{'Inspection ID': '2366101',\n",
       "  'DBA Name': 'HOST INTERNATIONAL INC, CHILIS T-2',\n",
       "  'AKA Name': \"CHILI'S TOO (T2  F4)\",\n",
       "  'License #': '34192',\n",
       "  'Facility Type': 'Restaurant',\n",
       "  'Risk': 'Risk 1 (High)',\n",
       "  'Address': '11601 W TOUHY AVE ',\n",
       "  'City': 'CHICAGO',\n",
       "  'State': 'IL',\n",
       "  'Zip': '60666',\n",
       "  'Inspection Date': '03/20/2020',\n",
       "  'Inspection Type': 'Canvass',\n",
       "  'Results': 'Fail',\n",
       "  'Violations': '10. ADEQUATE HANDWASHING SINKS PROPERLY SUPPLIED AND ACCESSIBLE - Comments: OBSERVED NO HAND SINK ON CONVENIENT DISTANCE FOR EMPLOYEE IN KITCHEN COOKING LINE OF FACILITY. FACILITY MUST OBTAIN AND INSTALL A HAND SINK UNDER CITY WATER PRESSURE AND MAINTAIN. PRIORITY FOUNDATION VIOLATION. 7-38-030(C). NO CITATION ISSUES | 22. PROPER COLD HOLDING TEMPERATURES - Comments: FOUND TCS FOOD AT IMPROPER TEMPERATURE: 5 LBS OF COOKED CHILI AT TEMP OF 46.5F; 5 LBS PICO DE GALLO 46.0 F, 10 LBS IN HOUSE MADE TOMATO SALSA 46.5 F ,MENTIONED PRODUCTS WERE STORED INSIDE THE WALK-IN COOLER .FOOD DISCARDED AND DENATURED PRIORITY VIOLATION:7-38-005,NO CITATION ISSUED.  | 33. PROPER COOLING METHODS USED; ADEQUATE EQUIPMENT FOR TEMPERATURE CONTROL - Comments: OBSERVED IMPROPER TEMPERATURE OF REFRIGERATOR AT 46.5F WITH TCS FOODS STORED INSIDE FOR SALE.A HELD FOR INSPECTION TAG HAS BEEN PLACED ON UNIT.ONCE REPAIRED,FAX OR EMAIL TO CDPH.MUST HAVE COLD HOLDING FOODS AT 41.0F OR BELOW.(PRIORITY 7-38-005) NO CITATION ISSUED | 37. FOOD PROPERLY LABELED; ORIGINAL CONTAINER - Comments: OBSERVED THAT PREPARED PANCAKES MIX IS STORED IN REACH UNSER COOLER WITH OUT COMMON NAME POSTED ON CONTAINER.ALL BULK AND WORKING FOOD INGREDIENT CONTAINERS MUST BE LABELED WITH CONTENTS NAME.MUST LABEL FOOD STORAGE CONTAINERS WHEN FOOD IS NOT IN ORIGINAL PACKAGE  | 40. PERSONAL CLEANLINESS - Comments: OBSERVED THAT EMPLOYEE WORE WATCHES AND BRACELETS AND RINGS ON HANDS WHILE WORKING WITH FOOD.MUST REMOVE ALL JEWELRY EXCEPT PLAIN WEDDING BAND FROM HANDS WHILE WORKING WITH EXPOSED FOOD | 49. NON-FOOD/FOOD CONTACT SURFACES CLEAN - Comments: MUST CLEAN AND MAINTAIN CLEAN FOOD DEBRIS BUILD UP FROM FRYER CABINET,COILS OF COOLING EQUIPMENT,WHEEL BASES OF ALL EQUIPMENT.MUST CLEAN  BUILD FROM DRAINS ON SODA MACHINE . | 49. NON-FOOD/FOOD CONTACT SURFACES CLEAN - Comments: INSTRUCTED TO DETAIL CLEAN AND MAINTAIN THE FOLLOWING AREAS GASKETS AND COOLERS DOORS AND SIDES OF HOT COOKING EQUIPMENT AT THE FRY STATION PREP AREA WITH ACCUMULATIONS OF GREASE BUILD-UP,EXTERIOR SURFACES OF THE TORTILLA CHIP WARMER,PREP LINE WARMER SHELVING WITH GREASE BUILD-UP,EXTERIOR SURFACES OF DISH MACHINE UNIT,INTERIOR/EXTERIOR KITCHEN STORAGE SHELVING. | 51. PLUMBING INSTALLED; PROPER BACKFLOW DEVICES - Comments: MUST REPAIR FAUCET CLOSING VALVE ON SPRAYER PRIOR DISH MACHINE, AND MUST REPAIR PIPES UNDER 3 COMPARTMENT SINK  | 52. SEWAGE & WASTE WATER PROPERLY DISPOSED - Comments: OBSERVED THREE COMPARTMENT SINK IN DISHWASHING AREA IN DISREPAIR NOT DRAINING PROPERLY (SLOW DRAINING),  WATER RELEASED FROM ONE COMPARTMENT(BASIN) BACKUP INSIDE ANOTHER COMPARTMENT(BASIN) WHEN RELEASED INSIDE SINK. INFORMED PERSON IN CHARGE OF REQUIREMENTS AND MUST REPAIR SINK AND MAINTAIN. PRIORITY VIOLATION 7-38-030(C) NO CITATION ISSUED. - | 55. PHYSICAL FACILITIES INSTALLED, MAINTAINED & CLEAN - Comments: NOTED CLUTTER OF EQUIPMENT AND OTHER UNUSED ITEMS ON  FLOORS IN STORAGE ROOMS.MUST ELEVATE ALL ITEMS TO ALLOW CLEANING AND REMOVE ALL UNNECESSARY ITEMS. | 55. PHYSICAL FACILITIES INSTALLED, MAINTAINED & CLEAN - Comments: NOTED THE FOLLOWING:- -FLOORS THROUGHOUT PREMISE ESPECIALLY ALONG WALL BASE AND UNDERNEATH EQUIPMENT WITH DIRT, GREASE AND FOOD DEBRIS, INSTRUCTED TO DETAIL CLEAN AND SANITIZE ESPECIALLY AREAS WITH PEST ACTIVITY, CLEAN AND MAINTAIN WALLS WITH CRACKS AND SPILLS. MUST UPGRADE HOUSEKEEPING. | 56. ADEQUATE VENTILATION & LIGHTING; DESIGNATED AREAS USED - Comments: MUST REPLACE BURNED LIGHT BULB INSIDE REACH IN COOLER LOCATED IN DRY STORAGE AREA | 56. ADEQUATE VENTILATION & LIGHTING; DESIGNATED AREAS USED - Comments: MUST REPLACED NON WORKING LIGHTS IN FOOD PREP AREA',\n",
       "  'Latitude': '42.008536400868735',\n",
       "  'Longitude': '-87.91442843927047',\n",
       "  'Location': '(-87.91442843927047, 42.008536400868735)'},\n",
       " {'Inspection ID': '2222356',\n",
       "  'DBA Name': 'HOST INTERNATIONAL INC, CHILIS T-2',\n",
       "  'AKA Name': \"CHILI'S TOO (T2  F4)\",\n",
       "  'License #': '34192',\n",
       "  'Facility Type': 'Restaurant',\n",
       "  'Risk': 'Risk 1 (High)',\n",
       "  'Address': '11601 W TOUHY AVE ',\n",
       "  'City': 'CHICAGO',\n",
       "  'State': 'IL',\n",
       "  'Zip': '60666',\n",
       "  'Inspection Date': '09/14/2018',\n",
       "  'Inspection Type': 'Canvass',\n",
       "  'Results': 'Fail',\n",
       "  'Violations': '38. INSECTS, RODENTS, & ANIMALS NOT PRESENT - Comments: 6-501.112(C) OBSERVED LIVE FRUIT FLIES AT BAR AREAS AND SIDE OF DINING AREA FOR CUSTOMERS ALSO, ALONG THE HALLWAY LEADING TO REAR DRY STORAGE ROOM. APPROXIMATELY 20 LIVE FRUIT FLIES WERE OBSERVED ON THE WALLS, CEILING AND EQUIPMENT IN THESE AREAS.INSTRUCTED TO DETAIL CLEAN AND SANITIZE AFFECTED AREAS AND NOTIFY THE PEST CONTROL COMPANY TO SERVICE THE PREMISES.PRIORITY FOUNDATION 7-38-020(A),CITATION ISSUED. | 47. FOOD & NON-FOOD CONTACT SURFACES CLEANABLE, PROPERLY DESIGNED, CONSTRUCTED & USED - Comments: 4-501.12 INSTRUCTED TO REPLACE WORNED-OUT/STAINED COLORED CODED CUTTING BOARDS STORED ON SHELVING IN DISHMACHINE AREAS AND TO MAINTAIN. | 49. NON-FOOD/FOOD CONTACT SURFACES CLEAN - Comments: 4-602.13  INSTRUCTED TO DETAIL CLEAN AND MAINTAIN THE FOLLOWING AREAS GASKETS AND COOLERS DOORS AND SIDES OF HOT COOKING EQUIPMENTS AT THE FRY STATION PREP AREA WITH ACCUMULATIONS OF GREASE BUILD-UP,EXTERIOR SURFACES OF THE TORTILLA CHIP WARMER,PREP LINE WARMER SHELVING WITH GREASE BUILD-UP,EXTERIOR SURFACES OF DISHAMCHINE UNIT,INTERIOR/EXTERIOR KITCHEN STORAGE SHELVINGS. | 55. PHYSICAL FACILITIES INSTALLED, MAINTAINED & CLEAN - Comments: 6-501.13 (A) INSTRUCTED TO DETAIL CLEAN AND MAINTAIN FLOORS ALONG THE WALLS AND IN ALL CORNERS IN PREP AREAS AND BAR AREAS TO REMOVE SPILLAGE DEBRIS. | 55. PHYSICAL FACILITIES INSTALLED, MAINTAINED & CLEAN - Comments: 6-201.17 (A) INSTRUCTED TO REMOVE DUSTS ACCUMULATIONS ON CEILING LIGHT COVERS AND ON CEILING TILES AND CEILING VENTILATION COVERS THROUGHOUT THE FOOD PREP AREAS AND BAR AREAS CUSTOMER DINING AREAS AND TO MAINTAIN. ',\n",
       "  'Latitude': '42.008536400868735',\n",
       "  'Longitude': '-87.91442843927047',\n",
       "  'Location': '(-87.91442843927047, 42.008536400868735)'},\n",
       " {'Inspection ID': '2176568',\n",
       "  'DBA Name': 'HOST INTERNATIONAL INC, CHILIS T-2',\n",
       "  'AKA Name': \"CHILI'S TOO (T2  F4)\",\n",
       "  'License #': '34192',\n",
       "  'Facility Type': 'Restaurant',\n",
       "  'Risk': 'Risk 1 (High)',\n",
       "  'Address': '11601 W TOUHY AVE ',\n",
       "  'City': 'CHICAGO',\n",
       "  'State': 'IL',\n",
       "  'Zip': '60666',\n",
       "  'Inspection Date': '05/31/2018',\n",
       "  'Inspection Type': 'Canvass',\n",
       "  'Results': 'Fail',\n",
       "  'Violations': \"2. FACILITIES TO MAINTAIN PROPER TEMPERATURE - Comments: FACILITIES DO NOT MAINTAIN PROPER TEMPERATURE. OBSERVED THE 1 DOOR FOOD PREP LINE COOLER ACROSS FROM GRILL WITH AN AIR TEMPERATURE OF (44.4F-50.0F).UNIT TAGGED HELD FOR INSPECTION.MUST EMPTY THE UNIT AND HAVE IT REPAIRED SO THAT IT MAINTAINS AN AIR TEMPERATURE BELOW 40F OR BELOW AT ALL TIMES.MANAGEMENT IMMEDIATELY CALLED FOR REFRIGERATION SERVICE DURING THIS INSPECTION. CRITICAL VIOLATION 7-38-005(A). | 3. POTENTIALLY HAZARDOUS FOOD MEETS TEMPERATURE REQUIREMENT DURING STORAGE, PREPARATION DISPLAY AND SERVICE - Comments: POTENTIALLY HAZARDOUS FOODS STORED AT IMPROPER TEMPERATURES INSIDE THE 1 DOOR FOOD PREP LINE COOLER.FOUND CUT TOMATOES AT 47.5F,RANCH SALAD DRESSINGS AT 48.7F,BLUE CHEESE CRUMBS 44.6F,MIXED BEAN/CORN SALAD AT 48.3F,CUT CUCUMBERS AT 47.0F,WHITE/YELLOW SHREDDED CHEDDAR AT 45.2F ETC.MANAGEMENT VOLUNTARILY DISCARDED/DENATURED APPROX:15 LBS OF FOOD WORTH $40.00 AS STATED BY MANAGER AT THIS TIME.INSTRUCTED MANAGER THAT ALL COLD FOODS MUST BE STORED AT A TEMPERATURE OF 40F OR BELOW AND ALL HOT FOODS MUST BE STORED AT A TEMPERATURE OF 140F OR ABOVE AT ALL TIMES.CRITICAL VIOLATION 7-38-005(A). | 16. FOOD PROTECTED DURING STORAGE, PREPARATION, DISPLAY, SERVICE AND TRANSPORTATION - Comments: FOUND FOOD (ICE) NOT PROTECTED DURING STORAGE INSIDE OF THE (COCA-COLA) ICE MACHINE.OBSERVED BLACK SLIMY SUBSTANCE ON INTERIOR WATER COMPONENTS OF THE ICE MAKER;'ICE USED FOR HUMAN CONSUMPTION'.MANAGEMENT INSTRUCTED TO TURN OFF MACHINE,REMOVE ICE AND HAVE INTERIOR OF ICE MACHINE CLEANED AND SANITIZED AND MAINTAINED.SERIOUS VIOLATION 7-38-005(A). | 29. PREVIOUS MINOR VIOLATION(S) CORRECTED 7-42-090 - Comments: PREVIOUS MINOR VIOLATION(S) NOT CORRECTED FROM INSPECTION REPORT#2098434 DATED:10/06/2017.  33 \\tObserved grease accumulation on the outside of the freezer next to the fryers and in the small electrical compartment of the two door cooler across from the fryers. Instructed facility to clean and maintain.  Observed heavy grease buildup on the four door low cooler below the flat top. Instructed facility to clean and maintain.  Observed the compartment below the bar exposed handsink to be dirty. Instructed facility to clean and maintain. \\t01/06/2018  34 \\tObserved the floor at the dish area to be dirty and wet. Instructed facility to clean and maintain dry. \\t01/06/2018  35 \\tObserved the wall behind the cooking equipment to be dirty with grease and food debris, including the 4 outlets. Instructed facility to clean and maintain.  Observed the ceiling tiles near the vents to be dusty and the ceiling tile tracks to be dirty. Instructed facility to clean and maintain.  INSTRUCTED MANAGEMENT TO CORRECT AND MAINTAIN ALL NOTED VIOLATIONS BY 6/7/2018. SERIOUS VIOLATION 7-42-090. | 32. FOOD AND NON-FOOD CONTACT SURFACES PROPERLY DESIGNED, CONSTRUCTED AND MAINTAINED - Comments: OBSERVED BROKEN GASKET AT THE LOWER DOOR OF THE 4 DOOR COOLER UNDERNEATH THE COOKING GRILL.INSTRUCTED TO REPLACE GASKETS AND MAINTAIN.  CUTTING BOARDS WITH DEEP, DARK GROOVES MUST BE SANDED/BLEACHED OR REPLACED THROUGHOUT THE FOOD PREP AREAS AND MAINTAIN. | 36. LIGHTING: REQUIRED MINIMUM FOOT-CANDLES OF LIGHT PROVIDED, FIXTURES SHIELDED - Comments: OBSERVED DIM LIGHTING INSIDE THE WALK-IN-COOLER.INSRTUCTED TO PROVIDE BRIGHTER LIGHT BULB AND MAINTAIN ADEQUATE LIGHTING AT ALL TIMES. | 41. PREMISES MAINTAINED FREE OF LITTER, UNNECESSARY ARTICLES, CLEANING  EQUIPMENT PROPERLY STORED - Comments: INSTRUCTED TO DETAIL CLEAN AND ORGANIZE REAR DRY STORAGE ROOM AND REMOVE UNNECESSARY ARTICLES DUE TO POTENTIAL PEST HARBORAGE AND ELEVATE STORED ITEMS 6' OFF THE FLOOR/WALL FOR EASIER CLEANING AND MAINTAIN.\",\n",
       "  'Latitude': '42.008536400868735',\n",
       "  'Longitude': '-87.91442843927047',\n",
       "  'Location': '(-87.91442843927047, 42.008536400868735)'},\n",
       " {'Inspection ID': '1989271',\n",
       "  'DBA Name': 'HOST INTERNATIONAL INC, CHILIS T-2',\n",
       "  'AKA Name': \"CHILI'S TOO (T2  F4)\",\n",
       "  'License #': '34192',\n",
       "  'Facility Type': 'Restaurant',\n",
       "  'Risk': 'Risk 1 (High)',\n",
       "  'Address': '11601 W TOUHY AVE ',\n",
       "  'City': 'CHICAGO',\n",
       "  'State': 'IL',\n",
       "  'Zip': '60666',\n",
       "  'Inspection Date': '02/16/2017',\n",
       "  'Inspection Type': 'Canvass',\n",
       "  'Results': 'Fail',\n",
       "  'Violations': \"16. FOOD PROTECTED DURING STORAGE, PREPARATION, DISPLAY, SERVICE AND TRANSPORTATION - Comments: Observed ice, used for human consumption, not protected- in the coca cola ice machine observed a black, mold-like accumulation on the interior portions. Instructed facility to remove all ice, clean, sanitize, and maintain. Serious violation 7-38-005(a). | 32. FOOD AND NON-FOOD CONTACT SURFACES PROPERLY DESIGNED, CONSTRUCTED AND MAINTAINED - Comments: Instructed facility to install and maintain a splashguard to the right of the bar exposed handsink. | 33. FOOD AND NON-FOOD CONTACT EQUIPMENT UTENSILS CLEAN, FREE OF ABRASIVE DETERGENTS - Comments: Observed dirt accumulation on the shelves in the walk in cooler. Instructed facility to clean and maintain.  Observed food debris on the interiors of the microwaves. Instructed facility to clean and maintain.  Observed the large, stand alone ice machine near Stanley's Prep to have slight dirt accumulation in the upper, interior portion. Instructed facility to clean, sanitize, and maintain. | 34. FLOORS: CONSTRUCTED PER CODE, CLEANED, GOOD REPAIR, COVING INSTALLED, DUST-LESS CLEANING METHODS USED - Comments: Observed oil, dirt, and food debris on the floors under the line and around heavy equipment and fixtures. Instructed facility to clean and maintain.\",\n",
       "  'Latitude': '42.008536400868735',\n",
       "  'Longitude': '-87.91442843927047',\n",
       "  'Location': '(-87.91442843927047, 42.008536400868735)'},\n",
       " {'Inspection ID': '1751584',\n",
       "  'DBA Name': 'HOST INTERNATIONAL INC, CHILIS T-2',\n",
       "  'AKA Name': \"CHILI'S TOO (T2  F4)\",\n",
       "  'License #': '34192',\n",
       "  'Facility Type': 'Restaurant',\n",
       "  'Risk': 'Risk 1 (High)',\n",
       "  'Address': '11601 W TOUHY AVE ',\n",
       "  'City': 'CHICAGO',\n",
       "  'State': 'IL',\n",
       "  'Zip': '60666',\n",
       "  'Inspection Date': '04/07/2016',\n",
       "  'Inspection Type': 'Complaint',\n",
       "  'Results': 'Fail',\n",
       "  'Violations': '3. POTENTIALLY HAZARDOUS FOOD MEETS TEMPERATURE REQUIREMENT DURING STORAGE, PREPARATION DISPLAY AND SERVICE - Comments: FOUND POTENTIALLY HAZARDOUS FOODS AT IMPROPER TEMPERATURE REQUIREMENT DURING STORAGE INSIDE PREP COOLER (AIR TEMPERATURE OF 41.2). NOTED INTERNAL TEMPERATURE OF THE FOLLOWING: SLICED TOMATOES AT 47.1F, PIMENTO CHEESE AT 51.8F, MEAT LOAF AT 46.6F, COLESLAW AT 46.5F. INSTRUCTED MANAGER POTENTIALLY HAZARDOUS FOODS MUST MAINTAIN COLD HOLDING TEMPERATURE OF 40F OR BELOW AND HOT HOLDING TEMPERATURE OF 140F OR ABOVE. MANAGEMENT DISCARDED THE SAID FOOD PRODUCTS, TOTAL VALUE $ 25.00  TOTAL WEIGHT 4 LBS.  CRITICAL VIOLATION 7-38-005 (1) | 11. ADEQUATE NUMBER, CONVENIENT, ACCESSIBLE, DESIGNED, AND MAINTAINED - Comments: FOUND EXPOSED HAND SINK (BAR AREA) NOT MAINTAINED PROPERLY. NO HOT AND COLD RUNNING WATER. INSTRUCTED TO FIX. MUST TEMPORARILY USE EXPOSED HAND SINK BEHIND BAR FOR EMPLOYEE TO WASH HANDS. ISSUED 48 HOUR NOTICE.  CRITICAL VIOLATION 7-38-030 | 18. NO EVIDENCE OF RODENT OR INSECT OUTER OPENINGS PROTECTED/RODENT PROOFED, A WRITTEN LOG SHALL BE MAINTAINED AVAILABLE TO THE INSPECTORS - Comments: FOUND 23LIVE COCKROACHES ON WALL BEHIND DISH MACHINE IN REAR PREP AREA. INSTRUCTED TO REMOVE, CLEAN AND SANITIZE THE AFFECTED AREAS. RECOMMEND TO CALL LICENSED PEST CONTROL FOR SERVICE.  SERIOUS VIOLATION 7-38-020 | 33. FOOD AND NON-FOOD CONTACT EQUIPMENT UTENSILS CLEAN, FREE OF ABRASIVE DETERGENTS - Comments: INSTRUCTED TO DETAIL CLEAN AND MAINTAIN SIDES OF ALL COOKING EQUIPMENT, PREP AND COUNTER SHELVES WITH EXCESSIVE GREASE ACCUMULATION AND INTERIOR AND EXTERIOR SURFACES OF DISH MACHINE WITH EXCESSIVE LIME/CALCIUM BUILD-UP.--------MUST CLEAN AND MAINTAIN INTERIOR SURFACES OF SODA GUNS WITH SLIMY BUILD-UP BEHIND BAR. | 34. FLOORS: CONSTRUCTED PER CODE, CLEANED, GOOD REPAIR, COVING INSTALLED, DUST-LESS CLEANING METHODS USED - Comments: INSTRUCTED TO DETAIL CLEAN AND MAINTAIN FLOORS ALONG THE WALLS AND IN ALL CORNERS THROUGHOUT PREP AREA ESPECIALLY UNDERNEATH COOKING EQUIPMENT, UNDERNEATH ELECTRICAL BOX CABINET AND FLOOR DRAINS THROUGHOUT WITH EXCESSIVE GREASE AND FOOD DEBRIS.--------INSTRUCTED TO RE GROUT FLOOR TILES WITH DEEP SEAMS IN DISH WASHING AREA AND AT COOKING LINE. | 35. WALLS, CEILINGS, ATTACHED EQUIPMENT CONSTRUCTED PER CODE: GOOD REPAIR, SURFACES CLEAN AND DUST-LESS CLEANING METHODS - Comments: INSTRUCTED TO SEAL ALL HOLES ON WALL BEHIND DISH MACHINE/3 COMPARTMENT SINK AND WALL BEHIND MOP SINK.-----------MUST DETAIL CLEAN AND MAINTAIN VENT/HOOD WITH EXCESSIVE DUST AND GREASE ABOVE DISH MACHINE. | 38. VENTILATION: ROOMS AND EQUIPMENT VENTED AS REQUIRED: PLUMBING: INSTALLED AND MAINTAINED - Comments: INSTRUCTED TO REPAIR DRAINPIPE UNDERNEATH 1ST COMPARTMENT (FAR LEFT) OF THE 3 COMPARTMENT SINK (BETWEEN 2 DISH MACHINE).---------MUST FIX SLOW DRAINING 3 COMPARTMENT BAR SINK BEHIND BAR.-----------MUST REPAIR EXPOSED HAND SINK FAUCET AND HANDLE WITH LEAK IN REAR PREP AREA.',\n",
       "  'Latitude': '42.008536400868735',\n",
       "  'Longitude': '-87.91442843927047',\n",
       "  'Location': '(-87.91442843927047, 42.008536400868735)'},\n",
       " {'Inspection ID': '1424477',\n",
       "  'DBA Name': 'HOST INTERNATIONAL INC, CHILIS T-2',\n",
       "  'AKA Name': \"CHILI'S TOO (T2  F4)\",\n",
       "  'License #': '34192',\n",
       "  'Facility Type': 'Restaurant',\n",
       "  'Risk': 'Risk 1 (High)',\n",
       "  'Address': '11601 W TOUHY AVE ',\n",
       "  'City': 'CHICAGO',\n",
       "  'State': 'IL',\n",
       "  'Zip': '60666',\n",
       "  'Inspection Date': '09/04/2014',\n",
       "  'Inspection Type': 'Canvass',\n",
       "  'Results': 'Fail',\n",
       "  'Violations': '18. NO EVIDENCE OF RODENT OR INSECT OUTER OPENINGS PROTECTED/RODENT PROOFED, A WRITTEN LOG SHALL BE MAINTAINED AVAILABLE TO THE INSPECTORS - Comments: OBSERVED OVER 10 LIVE SMALL FLIES ON WALLS AROUND DISHMACHINE. INSTRUCTED MANAGER TO REMOVE SMALL FLIES BY DATE OF REINSPECTION, ALSO MUST SANITIZE ALL EFFECTED AREAS. SERIOUS VIOLATION 7-38-020. | 29. PREVIOUS MINOR VIOLATION(S) CORRECTED 7-42-090 - Comments: THE FOLLOWING PREVIOUS MINOR VIOLATIONS FROM REPORT #1424223 DATED ON 04/15/14 REMAINS, #33 THE FOLLOWING NOT CLEAN- FOOD/GREASE BUILD UP ON ALL PREP AREA SHELVES AND EXTERIOR OF ALL COOKING/COOLING EQUIPMENT, #34 OBBSERVED FOOD/DIRT BUILD UP ON FLOOR UNDER AND AROUND ALL COOKING AND COOLING EQUIPMENT, MUST CLEAN FLOOR THROUGHOUT AND MAINTAIN AND #35 OBSERVED FOOD BUILD UP ON WALLS UNDER AND BEHIND DISHMACHINE, MUST CLEAN WALLS IN DISHWASH AND PREP AREA. INSTRUCTED MANAGER ALL PREVIOUS MINOR VIOLATIONS MUST BE CORRECTED BY DATE OF REINSPECTION. SERIOUS VIOLATION 7-42-090.',\n",
       "  'Latitude': '42.008536400868735',\n",
       "  'Longitude': '-87.91442843927047',\n",
       "  'Location': '(-87.91442843927047, 42.008536400868735)'},\n",
       " {'Inspection ID': '596460',\n",
       "  'DBA Name': 'HOST INTERNATIONAL INC, CHILIS T-2',\n",
       "  'AKA Name': \"CHILI'S TOO (T2  F4)\",\n",
       "  'License #': '34192',\n",
       "  'Facility Type': 'Restaurant',\n",
       "  'Risk': 'Risk 1 (High)',\n",
       "  'Address': '11601 W TOUHY AVE ',\n",
       "  'City': 'CHICAGO',\n",
       "  'State': 'IL',\n",
       "  'Zip': '60666',\n",
       "  'Inspection Date': '09/20/2011',\n",
       "  'Inspection Type': 'Canvass',\n",
       "  'Results': 'Fail',\n",
       "  'Violations': '8. SANITIZING RINSE FOR EQUIPMENT AND UTENSILS:  CLEAN, PROPER TEMPERATURE, CONCENTRATION, EXPOSURE TIME - Comments: HIGH TEMP DISH MACHINE NOT REACHING FINAL RINSE TEMP OF 180F. FINAL RINSE WAS ONLY 170F.  MANAGER CALLED THE MAINTENANCE AND HE WAS ABLE TO FIXED THE DISH MACHINE. FINAL RINSE IS NOW AT 180F. CITATION ISSUED CRITICAL. | 18. NO EVIDENCE OF RODENT OR INSECT OUTER OPENINGS PROTECTED/RODENT PROOFED, A WRITTEN LOG SHALL BE MAINTAINED AVAILABLE TO THE INSPECTORS - Comments: FOUND EVIDENCE OF LIVE FRUIT FLIES ON THE CEILING AND WALLS IN THE BAR OVER 8 TOTAL. MUST ELIMINATE FRUIT FLIES AND CLEAN THE WALLS AND CEILING AND FLOOR DRAIN. CITATION ISSUED SERIOUS.  | 32. FOOD AND NON-FOOD CONTACT SURFACES PROPERLY DESIGNED, CONSTRUCTED AND MAINTAINED - Comments: MUST PROVIDE ONE MORE DRAIN STOPPER FOR THE 3 COMPT SINK.(MISSING ONE DRAIN STOPPER NOTED). | 33. FOOD AND NON-FOOD CONTACT EQUIPMENT UTENSILS CLEAN, FREE OF ABRASIVE DETERGENTS - Comments: MUST CLEAN IN DETAIL UNDERNEATH THE HOT HOLDING SHELVING IN THE COOKS AREA, ALL THE INTERIOR OF THE MICROWAVE OVENS,ALL EXTERIOR OF THE GARBAGE CANS IN THE PREP AREA AND INTERIOR PANEL OF THE ICE MACHINE SANITIZE AND MAINTAIN.  | 34. FLOORS: CONSTRUCTED PER CODE, CLEANED, GOOD REPAIR, COVING INSTALLED, DUST-LESS CLEANING METHODS USED - Comments: MUST CLEAN IN DETAIL THE FLOOR ALONG THE WALL BASE AND ALL CORNER ,UNDER AND BEHIND ALL COOKING EQUIPMENT,COOLER, PREP TABLE, UNDER THE 3 COMPT SINK, AND BY THE DISH MACHINE AREA AND MAINTAIN. | 35. WALLS, CEILINGS, ATTACHED EQUIPMENT CONSTRUCTED PER CODE: GOOD REPAIR, SURFACES CLEAN AND DUST-LESS CLEANING METHODS - Comments: MUST CLEAN THE WALLS BY THE DISH AREA, WALLS BEHIND ALL THE COOKING EQUIPMENT, THE CEILING VENT ABOVE THE PREP TABLE, VENT ABOVE THE DISH MACHINE, FAN COVER INSIDE THE REACH IN COOLER AND MAINTAIN. ALL CEILING LIGHT SHIELD WITH DUST ACCUMULATED. MUST CLEAN AND MAINTAIN. METAL LINING ON THE CEILING BY THE DISH MACHINE RUSTED. MUST REMOVE RUST OR REPLACE. | 38. VENTILATION: ROOMS AND EQUIPMENT VENTED AS REQUIRED: PLUMBING: INSTALLED AND MAINTAINED - Comments: LEAKING ON THE FAUCET CONNECTOR OF THE 3 COMPT SINK. MUST REPAIR AND MAINTAIN.',\n",
       "  'Latitude': '42.008536400868735',\n",
       "  'Longitude': '-87.91442843927047',\n",
       "  'Location': '(-87.91442843927047, 42.008536400868735)'},\n",
       " {'Inspection ID': '70307',\n",
       "  'DBA Name': 'HOST INTERNATIONAL INC, CHILIS T-2',\n",
       "  'AKA Name': \"CHILI'S TOO (T2  F4)\",\n",
       "  'License #': '34192',\n",
       "  'Facility Type': 'Restaurant',\n",
       "  'Risk': 'Risk 1 (High)',\n",
       "  'Address': '11601 W TOUHY AVE ',\n",
       "  'City': 'CHICAGO',\n",
       "  'State': 'IL',\n",
       "  'Zip': '60666',\n",
       "  'Inspection Date': '01/26/2010',\n",
       "  'Inspection Type': 'Canvass',\n",
       "  'Results': 'Fail',\n",
       "  'Violations': '2. FACILITIES TO MAINTAIN PROPER TEMPERATURE - Comments: All food establishments that display, prepare, or store potentially hazardous food shall have adequate refrigerated food storage facilities.  FOUND PREP COOLER AT 45.5F. IMPROPER TEMPERATURE TO HOLD COLD FOOD AT 40F OR BELOW. CITATION ISSUED,TAGGED COOLER,INSTRUCTED COOLER MUST BE 40F OR BELOW | 3. POTENTIALLY HAZARDOUS FOOD MEETS TEMPERATURE REQUIREMENT DURING STORAGE, PREPARATION DISPLAY AND SERVICE - Comments: All cold food shall be stored at a temperature of 40F or less.  FOUND POTENTIALLY HAZARDOUS FOODS AT IMPROPER TEMPERATURE,CHEESE SAUCE WITH GROUND BEEF 50.5F 5LBS,AND 55.8F 5 LBS;SPINACH ARTICHOKE DIP 45.5F 2 LBS ,TOTAL $50.00,MANAGER DISCARDED THE FOOD;INSTRUCTED ALL COLD FOODS MUST BE 40F OR BELOW | 29. PREVIOUS MINOR VIOLATION(S) CORRECTED 7-42-090 - Comments: A separate and distinct offense shall be deemed to have been committed for each Minor violation that is not corrected upon re-inspection by the health authority.  PREVIOUS MINOR VIOLATIONS FROM REPORT #160968 ,06-12-09, NOT CORRECTED,SERIOUS VIOLATION: #33-FOUND ALL COOLERS IN PREP AREA UNCLEAN, MUST DETAIL CLEAN ALL COOLERS; #32-ICE BIN IN BAR AREA NOT COVERED MUST PROVIDE LID; #35-VENTILATION IN DISH AREA UNCLEAN,MUST DETAIL CLEAN; #35-BROKEN LIGHT SHIELD MUST BE REPLACED.GIVEN  5 DAYS 02-02-10 TO CORRECT THE VIOLATION | 32. FOOD AND NON-FOOD CONTACT SURFACES PROPERLY DESIGNED, CONSTRUCTED AND MAINTAINED - Comments: All food and non-food contact equipment and utensils shall be smooth, easily cleanable, and durable, and shall be in good repair.  ATTACHED EQUIPMENT IN DISH AREA UNCLEAN,MUST DETAIL CLEAN;CORNERS OF SODA MACHINE UBCLEAN,MUST CLEAN | 33. FOOD AND NON-FOOD CONTACT EQUIPMENT UTENSILS CLEAN, FREE OF ABRASIVE DETERGENTS - Comments: All food and non-food contact surfaces of equipment and all food storage utensils shall be thoroughly cleaned and sanitized daily.  INTERIOR OF COOLERS AND FAN VENT IN COOLER UNCLEAN,MUST DETAIL CLEAN | 34. FLOORS: CONSTRUCTED PER CODE, CLEANED, GOOD REPAIR, COVING INSTALLED, DUST-LESS CLEANING METHODS USED - Comments: The floors shall be constructed per code, be smooth and easily cleaned, and be kept clean and in good repair.  FLOOR UNDER AND BEHIND EQUIPMENT UNCLEAN,MUST CLEAN.  FLOOR IN DISHWASHING IN IN POOR REPAIR, MUST REGROUT. | 35. WALLS, CEILINGS, ATTACHED EQUIPMENT CONSTRUCTED PER CODE: GOOD REPAIR, SURFACES CLEAN AND DUST-LESS CLEANING METHODS - Comments: The walls and ceilings shall be in good repair and easily cleaned.  GREASY WALLS IN COOKING AREA MUST BE CLEAN;WALLS AROUND DISH AREA UNCLEAN,MUST CLEAN | 36. LIGHTING: REQUIRED MINIMUM FOOT-CANDLES OF LIGHT PROVIDED, FIXTURES SHIELDED - Comments: All rooms in which food or drink is prepared, or in which utensils are washed, shall be lighted so that a minimum of 50-foot candles of light is available on all work surfaces.  LIGHT FIXTURES IN PREP AREA WITH ACCUMULATED DUST ,MUST CLEAN;LIGHT WARMER FOR FOOD UNCLEAN AND BECOMING RUSTY MUST DETAIL CLEAN',\n",
       "  'Latitude': '42.008536400868735',\n",
       "  'Longitude': '-87.91442843927047',\n",
       "  'Location': '(-87.91442843927047, 42.008536400868735)'}]"
      ]
     },
     "execution_count": 66,
     "metadata": {},
     "output_type": "execute_result"
    }
   ],
   "source": [
    "inspections['34192']"
   ]
  },
  {
   "cell_type": "code",
   "execution_count": 67,
   "metadata": {},
   "outputs": [
    {
     "data": {
      "text/plain": [
       "['03/20/2020',\n",
       " '09/14/2018',\n",
       " '05/31/2018',\n",
       " '02/16/2017',\n",
       " '04/07/2016',\n",
       " '09/04/2014',\n",
       " '09/20/2011',\n",
       " '01/26/2010']"
      ]
     },
     "execution_count": 67,
     "metadata": {},
     "output_type": "execute_result"
    }
   ],
   "source": [
    "[row['Inspection Date'] for row in inspections ['34192']]"
   ]
  },
  {
   "cell_type": "code",
   "execution_count": 68,
   "metadata": {},
   "outputs": [
    {
     "data": {
      "text/plain": [
       "{'Inspection ID': '2560114',\n",
       " 'DBA Name': 'GOLD COAST DOGS',\n",
       " 'AKA Name': 'GOLD COAST DOGS  (T3 L4)',\n",
       " 'License #': '1884293',\n",
       " 'Facility Type': 'Restaurant',\n",
       " 'Risk': 'Risk 1 (High)',\n",
       " 'Address': '11601 W TOUHY AVE ',\n",
       " 'City': 'CHICAGO',\n",
       " 'State': 'IL',\n",
       " 'Zip': '60666',\n",
       " 'Inspection Date': '06/29/2022',\n",
       " 'Inspection Type': 'Canvass',\n",
       " 'Results': 'Fail',\n",
       " 'Violations': '36. THERMOMETERS PROVIDED & ACCURATE - Comments: OBSERVED NO THERMOMETER IN CUSTOMER SELF SERVICE POP COOLER. INSTALL AND MAINTAIN. | 37. FOOD PROPERLY LABELED; ORIGINAL CONTAINER - Comments: OBSERVED PREPACKAGED MUFFINS WITH NO LABELS FOR STANDARD OF IDENTITY. ALL PREPACKAGED ITEMS NEED TO HAVE LABELS OF IDENTITY AND INGREDIENT LIST. | 41. WIPING CLOTHS: PROPERLY USED & STORED - Comments: OBSERVED WIPING CLOTHS ON COUNTER. MAKE SURE ALL WIPING CLOTHS ARE IN SANITIZER WHEN NOT IN USE. | 47. FOOD & NON-FOOD CONTACT SURFACES CLEANABLE, PROPERLY DESIGNED, CONSTRUCTED & USED - Comments: OBSERVED CUTTING BOARD WITH DARK GROOVES. CLEAN AND SANITIZE CUTTING BOARD. REMOVE DARK GROOVES OR REPLACE. | 50. HOT & COLD WATER AVAILABLE; ADEQUATE PRESSURE - Comments: OBSERVED NO HOT WATER PRESSURE AT HANDWASHING SINK BEHIND COOKING LINE. OBSERVED SINK NOT PROPERLY CONNECTED AND DRAINING INTO BUCKET. CITATION ISSUED. PRIORITY VIOLATION 7-38-030 (C). | 55. PHYSICAL FACILITIES INSTALLED, MAINTAINED & CLEAN - Comments: OBSERVED ALL MOPS NEED TO BE HUNG TO DRY AFTER USE.',\n",
       " 'Latitude': '42.008536400868735',\n",
       " 'Longitude': '-87.91442843927047',\n",
       " 'Location': '(-87.91442843927047, 42.008536400868735)'}"
      ]
     },
     "execution_count": 68,
     "metadata": {},
     "output_type": "execute_result"
    }
   ],
   "source": [
    "ohare[1]"
   ]
  },
  {
   "cell_type": "markdown",
   "metadata": {},
   "source": [
    "In the second object of the ohare dictionnarie we take only the element whose key is 'Violations' and under this element we split all in list with pipe like separator"
   ]
  },
  {
   "cell_type": "code",
   "execution_count": 70,
   "metadata": {},
   "outputs": [
    {
     "data": {
      "text/plain": [
       "['36. THERMOMETERS PROVIDED & ACCURATE - Comments: OBSERVED NO THERMOMETER IN CUSTOMER SELF SERVICE POP COOLER. INSTALL AND MAINTAIN. ',\n",
       " ' 37. FOOD PROPERLY LABELED; ORIGINAL CONTAINER - Comments: OBSERVED PREPACKAGED MUFFINS WITH NO LABELS FOR STANDARD OF IDENTITY. ALL PREPACKAGED ITEMS NEED TO HAVE LABELS OF IDENTITY AND INGREDIENT LIST. ',\n",
       " ' 41. WIPING CLOTHS: PROPERLY USED & STORED - Comments: OBSERVED WIPING CLOTHS ON COUNTER. MAKE SURE ALL WIPING CLOTHS ARE IN SANITIZER WHEN NOT IN USE. ',\n",
       " ' 47. FOOD & NON-FOOD CONTACT SURFACES CLEANABLE, PROPERLY DESIGNED, CONSTRUCTED & USED - Comments: OBSERVED CUTTING BOARD WITH DARK GROOVES. CLEAN AND SANITIZE CUTTING BOARD. REMOVE DARK GROOVES OR REPLACE. ',\n",
       " ' 50. HOT & COLD WATER AVAILABLE; ADEQUATE PRESSURE - Comments: OBSERVED NO HOT WATER PRESSURE AT HANDWASHING SINK BEHIND COOKING LINE. OBSERVED SINK NOT PROPERLY CONNECTED AND DRAINING INTO BUCKET. CITATION ISSUED. PRIORITY VIOLATION 7-38-030 (C). ',\n",
       " ' 55. PHYSICAL FACILITIES INSTALLED, MAINTAINED & CLEAN - Comments: OBSERVED ALL MOPS NEED TO BE HUNG TO DRY AFTER USE.']"
      ]
     },
     "execution_count": 70,
     "metadata": {},
     "output_type": "execute_result"
    }
   ],
   "source": [
    "ohare[1]['Violations'].split('|')"
   ]
  },
  {
   "cell_type": "markdown",
   "metadata": {},
   "source": [
    "We put the last call in a new list violations"
   ]
  },
  {
   "cell_type": "code",
   "execution_count": 71,
   "metadata": {},
   "outputs": [
    {
     "data": {
      "text/plain": [
       "['36. THERMOMETERS PROVIDED & ACCURATE - Comments: OBSERVED NO THERMOMETER IN CUSTOMER SELF SERVICE POP COOLER. INSTALL AND MAINTAIN. ',\n",
       " ' 37. FOOD PROPERLY LABELED; ORIGINAL CONTAINER - Comments: OBSERVED PREPACKAGED MUFFINS WITH NO LABELS FOR STANDARD OF IDENTITY. ALL PREPACKAGED ITEMS NEED TO HAVE LABELS OF IDENTITY AND INGREDIENT LIST. ',\n",
       " ' 41. WIPING CLOTHS: PROPERLY USED & STORED - Comments: OBSERVED WIPING CLOTHS ON COUNTER. MAKE SURE ALL WIPING CLOTHS ARE IN SANITIZER WHEN NOT IN USE. ',\n",
       " ' 47. FOOD & NON-FOOD CONTACT SURFACES CLEANABLE, PROPERLY DESIGNED, CONSTRUCTED & USED - Comments: OBSERVED CUTTING BOARD WITH DARK GROOVES. CLEAN AND SANITIZE CUTTING BOARD. REMOVE DARK GROOVES OR REPLACE. ',\n",
       " ' 50. HOT & COLD WATER AVAILABLE; ADEQUATE PRESSURE - Comments: OBSERVED NO HOT WATER PRESSURE AT HANDWASHING SINK BEHIND COOKING LINE. OBSERVED SINK NOT PROPERLY CONNECTED AND DRAINING INTO BUCKET. CITATION ISSUED. PRIORITY VIOLATION 7-38-030 (C). ',\n",
       " ' 55. PHYSICAL FACILITIES INSTALLED, MAINTAINED & CLEAN - Comments: OBSERVED ALL MOPS NEED TO BE HUNG TO DRY AFTER USE.']"
      ]
     },
     "execution_count": 71,
     "metadata": {},
     "output_type": "execute_result"
    }
   ],
   "source": [
    "violations = _\n",
    "violations"
   ]
  },
  {
   "cell_type": "markdown",
   "metadata": {},
   "source": [
    "We use strip to get out space at the beginning an at the end of the text"
   ]
  },
  {
   "cell_type": "code",
   "execution_count": 73,
   "metadata": {},
   "outputs": [
    {
     "data": {
      "text/plain": [
       "['36. THERMOMETERS PROVIDED & ACCURATE - Comments: OBSERVED NO THERMOMETER IN CUSTOMER SELF SERVICE POP COOLER. INSTALL AND MAINTAIN.',\n",
       " '37. FOOD PROPERLY LABELED; ORIGINAL CONTAINER - Comments: OBSERVED PREPACKAGED MUFFINS WITH NO LABELS FOR STANDARD OF IDENTITY. ALL PREPACKAGED ITEMS NEED TO HAVE LABELS OF IDENTITY AND INGREDIENT LIST.',\n",
       " '41. WIPING CLOTHS: PROPERLY USED & STORED - Comments: OBSERVED WIPING CLOTHS ON COUNTER. MAKE SURE ALL WIPING CLOTHS ARE IN SANITIZER WHEN NOT IN USE.',\n",
       " '47. FOOD & NON-FOOD CONTACT SURFACES CLEANABLE, PROPERLY DESIGNED, CONSTRUCTED & USED - Comments: OBSERVED CUTTING BOARD WITH DARK GROOVES. CLEAN AND SANITIZE CUTTING BOARD. REMOVE DARK GROOVES OR REPLACE.',\n",
       " '50. HOT & COLD WATER AVAILABLE; ADEQUATE PRESSURE - Comments: OBSERVED NO HOT WATER PRESSURE AT HANDWASHING SINK BEHIND COOKING LINE. OBSERVED SINK NOT PROPERLY CONNECTED AND DRAINING INTO BUCKET. CITATION ISSUED. PRIORITY VIOLATION 7-38-030 (C).',\n",
       " '55. PHYSICAL FACILITIES INSTALLED, MAINTAINED & CLEAN - Comments: OBSERVED ALL MOPS NEED TO BE HUNG TO DRY AFTER USE']"
      ]
     },
     "execution_count": 73,
     "metadata": {},
     "output_type": "execute_result"
    }
   ],
   "source": [
    "[v[:v.find('-Comments:')].strip() for v in violations]"
   ]
  },
  {
   "cell_type": "code",
   "execution_count": 84,
   "metadata": {},
   "outputs": [
    {
     "data": {
      "text/plain": [
       "[('34. FLOORS: CONSTRUCTED PER CODE, CLEANED, GOOD REPAIR, COVING INSTALLED, DUST-LESS CLEANING METHODS USED',\n",
       "  166),\n",
       " ('33. FOOD AND NON-FOOD CONTACT EQUIPMENT UTENSILS CLEAN, FREE OF ABRASIVE DETERGENTS',\n",
       "  158),\n",
       " ('35. WALLS, CEILINGS, ATTACHED EQUIPMENT CONSTRUCTED PER CODE: GOOD REPAIR, SURFACES CLEAN AND DUST-LESS CLEANING METHODS',\n",
       "  139),\n",
       " ('18. NO EVIDENCE OF RODENT OR INSECT OUTER OPENINGS PROTECTED/RODENT PROOFED, A WRITTEN LOG SHALL BE MAINTAINED AVAILABLE TO THE INSPECTORS',\n",
       "  118),\n",
       " ('32. FOOD AND NON-FOOD CONTACT SURFACES PROPERLY DESIGNED, CONSTRUCTED AND MAINTAINED',\n",
       "  114)]"
      ]
     },
     "execution_count": 84,
     "metadata": {},
     "output_type": "execute_result"
    }
   ],
   "source": [
    "all_violations = [row['Violations'].split('|') for row in ohare]\n",
    "c = Counter()\n",
    "for violations in all_violations:\n",
    "    for v in violations:\n",
    "        c[v[:v.find('- Comments:')].strip()] +=1\n",
    "c.most_common(5)"
   ]
  },
  {
   "cell_type": "markdown",
   "metadata": {},
   "source": [
    "END\n"
   ]
  }
 ],
 "metadata": {
  "kernelspec": {
   "display_name": "Python 3.10.7 64-bit",
   "language": "python",
   "name": "python3"
  },
  "language_info": {
   "codemirror_mode": {
    "name": "ipython",
    "version": 3
   },
   "file_extension": ".py",
   "mimetype": "text/x-python",
   "name": "python",
   "nbconvert_exporter": "python",
   "pygments_lexer": "ipython3",
   "version": "3.10.7"
  },
  "orig_nbformat": 4,
  "vscode": {
   "interpreter": {
    "hash": "fece7610c970557481ebf6c4310b97a77c4aa1d9365e439f8e94b17c8f57b0ed"
   }
  }
 },
 "nbformat": 4,
 "nbformat_minor": 2
}
